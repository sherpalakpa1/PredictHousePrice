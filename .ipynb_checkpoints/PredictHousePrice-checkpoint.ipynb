{
 "cells": [
  {
   "cell_type": "code",
   "execution_count": 1,
   "metadata": {},
   "outputs": [],
   "source": [
    "# Import required package\n",
    "import numpy as np\n",
    "import pandas as pd\n",
    "import matplotlib.pyplot as plt\n",
    "import seaborn as sns\n",
    "%matplotlib inline"
   ]
  },
  {
   "cell_type": "code",
   "execution_count": 2,
   "metadata": {},
   "outputs": [],
   "source": [
    "#Read the data from csv file and convert them into pandas dataframe\n",
    "df = pd.read_csv('kc_house_data.csv')"
   ]
  },
  {
   "cell_type": "code",
   "execution_count": 3,
   "metadata": {},
   "outputs": [
    {
     "data": {
      "text/html": [
       "<div>\n",
       "<style scoped>\n",
       "    .dataframe tbody tr th:only-of-type {\n",
       "        vertical-align: middle;\n",
       "    }\n",
       "\n",
       "    .dataframe tbody tr th {\n",
       "        vertical-align: top;\n",
       "    }\n",
       "\n",
       "    .dataframe thead th {\n",
       "        text-align: right;\n",
       "    }\n",
       "</style>\n",
       "<table border=\"1\" class=\"dataframe\">\n",
       "  <thead>\n",
       "    <tr style=\"text-align: right;\">\n",
       "      <th></th>\n",
       "      <th>id</th>\n",
       "      <th>date</th>\n",
       "      <th>price</th>\n",
       "      <th>bedrooms</th>\n",
       "      <th>bathrooms</th>\n",
       "      <th>sqft_living</th>\n",
       "      <th>sqft_lot</th>\n",
       "      <th>floors</th>\n",
       "      <th>waterfront</th>\n",
       "      <th>view</th>\n",
       "      <th>...</th>\n",
       "      <th>grade</th>\n",
       "      <th>sqft_above</th>\n",
       "      <th>sqft_basement</th>\n",
       "      <th>yr_built</th>\n",
       "      <th>yr_renovated</th>\n",
       "      <th>zipcode</th>\n",
       "      <th>lat</th>\n",
       "      <th>long</th>\n",
       "      <th>sqft_living15</th>\n",
       "      <th>sqft_lot15</th>\n",
       "    </tr>\n",
       "  </thead>\n",
       "  <tbody>\n",
       "    <tr>\n",
       "      <th>0</th>\n",
       "      <td>7129300520</td>\n",
       "      <td>20141013T000000</td>\n",
       "      <td>221900.0</td>\n",
       "      <td>3</td>\n",
       "      <td>1.00</td>\n",
       "      <td>1180</td>\n",
       "      <td>5650</td>\n",
       "      <td>1.0</td>\n",
       "      <td>0</td>\n",
       "      <td>0</td>\n",
       "      <td>...</td>\n",
       "      <td>7</td>\n",
       "      <td>1180</td>\n",
       "      <td>0</td>\n",
       "      <td>1955</td>\n",
       "      <td>0</td>\n",
       "      <td>98178</td>\n",
       "      <td>47.5112</td>\n",
       "      <td>-122.257</td>\n",
       "      <td>1340</td>\n",
       "      <td>5650</td>\n",
       "    </tr>\n",
       "    <tr>\n",
       "      <th>1</th>\n",
       "      <td>6414100192</td>\n",
       "      <td>20141209T000000</td>\n",
       "      <td>538000.0</td>\n",
       "      <td>3</td>\n",
       "      <td>2.25</td>\n",
       "      <td>2570</td>\n",
       "      <td>7242</td>\n",
       "      <td>2.0</td>\n",
       "      <td>0</td>\n",
       "      <td>0</td>\n",
       "      <td>...</td>\n",
       "      <td>7</td>\n",
       "      <td>2170</td>\n",
       "      <td>400</td>\n",
       "      <td>1951</td>\n",
       "      <td>1991</td>\n",
       "      <td>98125</td>\n",
       "      <td>47.7210</td>\n",
       "      <td>-122.319</td>\n",
       "      <td>1690</td>\n",
       "      <td>7639</td>\n",
       "    </tr>\n",
       "    <tr>\n",
       "      <th>2</th>\n",
       "      <td>5631500400</td>\n",
       "      <td>20150225T000000</td>\n",
       "      <td>180000.0</td>\n",
       "      <td>2</td>\n",
       "      <td>1.00</td>\n",
       "      <td>770</td>\n",
       "      <td>10000</td>\n",
       "      <td>1.0</td>\n",
       "      <td>0</td>\n",
       "      <td>0</td>\n",
       "      <td>...</td>\n",
       "      <td>6</td>\n",
       "      <td>770</td>\n",
       "      <td>0</td>\n",
       "      <td>1933</td>\n",
       "      <td>0</td>\n",
       "      <td>98028</td>\n",
       "      <td>47.7379</td>\n",
       "      <td>-122.233</td>\n",
       "      <td>2720</td>\n",
       "      <td>8062</td>\n",
       "    </tr>\n",
       "    <tr>\n",
       "      <th>3</th>\n",
       "      <td>2487200875</td>\n",
       "      <td>20141209T000000</td>\n",
       "      <td>604000.0</td>\n",
       "      <td>4</td>\n",
       "      <td>3.00</td>\n",
       "      <td>1960</td>\n",
       "      <td>5000</td>\n",
       "      <td>1.0</td>\n",
       "      <td>0</td>\n",
       "      <td>0</td>\n",
       "      <td>...</td>\n",
       "      <td>7</td>\n",
       "      <td>1050</td>\n",
       "      <td>910</td>\n",
       "      <td>1965</td>\n",
       "      <td>0</td>\n",
       "      <td>98136</td>\n",
       "      <td>47.5208</td>\n",
       "      <td>-122.393</td>\n",
       "      <td>1360</td>\n",
       "      <td>5000</td>\n",
       "    </tr>\n",
       "    <tr>\n",
       "      <th>4</th>\n",
       "      <td>1954400510</td>\n",
       "      <td>20150218T000000</td>\n",
       "      <td>510000.0</td>\n",
       "      <td>3</td>\n",
       "      <td>2.00</td>\n",
       "      <td>1680</td>\n",
       "      <td>8080</td>\n",
       "      <td>1.0</td>\n",
       "      <td>0</td>\n",
       "      <td>0</td>\n",
       "      <td>...</td>\n",
       "      <td>8</td>\n",
       "      <td>1680</td>\n",
       "      <td>0</td>\n",
       "      <td>1987</td>\n",
       "      <td>0</td>\n",
       "      <td>98074</td>\n",
       "      <td>47.6168</td>\n",
       "      <td>-122.045</td>\n",
       "      <td>1800</td>\n",
       "      <td>7503</td>\n",
       "    </tr>\n",
       "  </tbody>\n",
       "</table>\n",
       "<p>5 rows × 21 columns</p>\n",
       "</div>"
      ],
      "text/plain": [
       "           id             date     price  bedrooms  bathrooms  sqft_living  \\\n",
       "0  7129300520  20141013T000000  221900.0         3       1.00         1180   \n",
       "1  6414100192  20141209T000000  538000.0         3       2.25         2570   \n",
       "2  5631500400  20150225T000000  180000.0         2       1.00          770   \n",
       "3  2487200875  20141209T000000  604000.0         4       3.00         1960   \n",
       "4  1954400510  20150218T000000  510000.0         3       2.00         1680   \n",
       "\n",
       "   sqft_lot  floors  waterfront  view     ...      grade  sqft_above  \\\n",
       "0      5650     1.0           0     0     ...          7        1180   \n",
       "1      7242     2.0           0     0     ...          7        2170   \n",
       "2     10000     1.0           0     0     ...          6         770   \n",
       "3      5000     1.0           0     0     ...          7        1050   \n",
       "4      8080     1.0           0     0     ...          8        1680   \n",
       "\n",
       "   sqft_basement  yr_built  yr_renovated  zipcode      lat     long  \\\n",
       "0              0      1955             0    98178  47.5112 -122.257   \n",
       "1            400      1951          1991    98125  47.7210 -122.319   \n",
       "2              0      1933             0    98028  47.7379 -122.233   \n",
       "3            910      1965             0    98136  47.5208 -122.393   \n",
       "4              0      1987             0    98074  47.6168 -122.045   \n",
       "\n",
       "   sqft_living15  sqft_lot15  \n",
       "0           1340        5650  \n",
       "1           1690        7639  \n",
       "2           2720        8062  \n",
       "3           1360        5000  \n",
       "4           1800        7503  \n",
       "\n",
       "[5 rows x 21 columns]"
      ]
     },
     "execution_count": 3,
     "metadata": {},
     "output_type": "execute_result"
    }
   ],
   "source": [
    "df.head()"
   ]
  },
  {
   "cell_type": "code",
   "execution_count": 4,
   "metadata": {},
   "outputs": [
    {
     "name": "stdout",
     "output_type": "stream",
     "text": [
      "<class 'pandas.core.frame.DataFrame'>\n",
      "RangeIndex: 21613 entries, 0 to 21612\n",
      "Data columns (total 21 columns):\n",
      "id               21613 non-null int64\n",
      "date             21613 non-null object\n",
      "price            21613 non-null float64\n",
      "bedrooms         21613 non-null int64\n",
      "bathrooms        21613 non-null float64\n",
      "sqft_living      21613 non-null int64\n",
      "sqft_lot         21613 non-null int64\n",
      "floors           21613 non-null float64\n",
      "waterfront       21613 non-null int64\n",
      "view             21613 non-null int64\n",
      "condition        21613 non-null int64\n",
      "grade            21613 non-null int64\n",
      "sqft_above       21613 non-null int64\n",
      "sqft_basement    21613 non-null int64\n",
      "yr_built         21613 non-null int64\n",
      "yr_renovated     21613 non-null int64\n",
      "zipcode          21613 non-null int64\n",
      "lat              21613 non-null float64\n",
      "long             21613 non-null float64\n",
      "sqft_living15    21613 non-null int64\n",
      "sqft_lot15       21613 non-null int64\n",
      "dtypes: float64(5), int64(15), object(1)\n",
      "memory usage: 3.5+ MB\n"
     ]
    }
   ],
   "source": [
    "#to get information about the dataset \n",
    "df.info()"
   ]
  },
  {
   "cell_type": "code",
   "execution_count": 5,
   "metadata": {},
   "outputs": [],
   "source": [
    "# there are 21 columns and 21613 rows\n",
    "# there is no null or missing values\n",
    "# there is a data column which needs to be changed to datatime \n",
    "# zipcode can be changed into object \n",
    "# yr_built and yr_renovated can also be changed to object\n"
   ]
  },
  {
   "cell_type": "code",
   "execution_count": 6,
   "metadata": {
    "scrolled": true
   },
   "outputs": [
    {
     "data": {
      "text/html": [
       "<div>\n",
       "<style scoped>\n",
       "    .dataframe tbody tr th:only-of-type {\n",
       "        vertical-align: middle;\n",
       "    }\n",
       "\n",
       "    .dataframe tbody tr th {\n",
       "        vertical-align: top;\n",
       "    }\n",
       "\n",
       "    .dataframe thead th {\n",
       "        text-align: right;\n",
       "    }\n",
       "</style>\n",
       "<table border=\"1\" class=\"dataframe\">\n",
       "  <thead>\n",
       "    <tr style=\"text-align: right;\">\n",
       "      <th></th>\n",
       "      <th>id</th>\n",
       "      <th>price</th>\n",
       "      <th>bedrooms</th>\n",
       "      <th>bathrooms</th>\n",
       "      <th>sqft_living</th>\n",
       "      <th>sqft_lot</th>\n",
       "      <th>floors</th>\n",
       "      <th>waterfront</th>\n",
       "      <th>view</th>\n",
       "      <th>condition</th>\n",
       "      <th>grade</th>\n",
       "      <th>sqft_above</th>\n",
       "      <th>sqft_basement</th>\n",
       "      <th>yr_built</th>\n",
       "      <th>yr_renovated</th>\n",
       "      <th>zipcode</th>\n",
       "      <th>lat</th>\n",
       "      <th>long</th>\n",
       "      <th>sqft_living15</th>\n",
       "      <th>sqft_lot15</th>\n",
       "    </tr>\n",
       "  </thead>\n",
       "  <tbody>\n",
       "    <tr>\n",
       "      <th>count</th>\n",
       "      <td>2.161300e+04</td>\n",
       "      <td>2.161300e+04</td>\n",
       "      <td>21613.000000</td>\n",
       "      <td>21613.000000</td>\n",
       "      <td>21613.000000</td>\n",
       "      <td>2.161300e+04</td>\n",
       "      <td>21613.000000</td>\n",
       "      <td>21613.000000</td>\n",
       "      <td>21613.000000</td>\n",
       "      <td>21613.000000</td>\n",
       "      <td>21613.000000</td>\n",
       "      <td>21613.000000</td>\n",
       "      <td>21613.000000</td>\n",
       "      <td>21613.000000</td>\n",
       "      <td>21613.000000</td>\n",
       "      <td>21613.000000</td>\n",
       "      <td>21613.000000</td>\n",
       "      <td>21613.000000</td>\n",
       "      <td>21613.000000</td>\n",
       "      <td>21613.000000</td>\n",
       "    </tr>\n",
       "    <tr>\n",
       "      <th>mean</th>\n",
       "      <td>4.580302e+09</td>\n",
       "      <td>5.400881e+05</td>\n",
       "      <td>3.370842</td>\n",
       "      <td>2.114757</td>\n",
       "      <td>2079.899736</td>\n",
       "      <td>1.510697e+04</td>\n",
       "      <td>1.494309</td>\n",
       "      <td>0.007542</td>\n",
       "      <td>0.234303</td>\n",
       "      <td>3.409430</td>\n",
       "      <td>7.656873</td>\n",
       "      <td>1788.390691</td>\n",
       "      <td>291.509045</td>\n",
       "      <td>1971.005136</td>\n",
       "      <td>84.402258</td>\n",
       "      <td>98077.939805</td>\n",
       "      <td>47.560053</td>\n",
       "      <td>-122.213896</td>\n",
       "      <td>1986.552492</td>\n",
       "      <td>12768.455652</td>\n",
       "    </tr>\n",
       "    <tr>\n",
       "      <th>std</th>\n",
       "      <td>2.876566e+09</td>\n",
       "      <td>3.671272e+05</td>\n",
       "      <td>0.930062</td>\n",
       "      <td>0.770163</td>\n",
       "      <td>918.440897</td>\n",
       "      <td>4.142051e+04</td>\n",
       "      <td>0.539989</td>\n",
       "      <td>0.086517</td>\n",
       "      <td>0.766318</td>\n",
       "      <td>0.650743</td>\n",
       "      <td>1.175459</td>\n",
       "      <td>828.090978</td>\n",
       "      <td>442.575043</td>\n",
       "      <td>29.373411</td>\n",
       "      <td>401.679240</td>\n",
       "      <td>53.505026</td>\n",
       "      <td>0.138564</td>\n",
       "      <td>0.140828</td>\n",
       "      <td>685.391304</td>\n",
       "      <td>27304.179631</td>\n",
       "    </tr>\n",
       "    <tr>\n",
       "      <th>min</th>\n",
       "      <td>1.000102e+06</td>\n",
       "      <td>7.500000e+04</td>\n",
       "      <td>0.000000</td>\n",
       "      <td>0.000000</td>\n",
       "      <td>290.000000</td>\n",
       "      <td>5.200000e+02</td>\n",
       "      <td>1.000000</td>\n",
       "      <td>0.000000</td>\n",
       "      <td>0.000000</td>\n",
       "      <td>1.000000</td>\n",
       "      <td>1.000000</td>\n",
       "      <td>290.000000</td>\n",
       "      <td>0.000000</td>\n",
       "      <td>1900.000000</td>\n",
       "      <td>0.000000</td>\n",
       "      <td>98001.000000</td>\n",
       "      <td>47.155900</td>\n",
       "      <td>-122.519000</td>\n",
       "      <td>399.000000</td>\n",
       "      <td>651.000000</td>\n",
       "    </tr>\n",
       "    <tr>\n",
       "      <th>25%</th>\n",
       "      <td>2.123049e+09</td>\n",
       "      <td>3.219500e+05</td>\n",
       "      <td>3.000000</td>\n",
       "      <td>1.750000</td>\n",
       "      <td>1427.000000</td>\n",
       "      <td>5.040000e+03</td>\n",
       "      <td>1.000000</td>\n",
       "      <td>0.000000</td>\n",
       "      <td>0.000000</td>\n",
       "      <td>3.000000</td>\n",
       "      <td>7.000000</td>\n",
       "      <td>1190.000000</td>\n",
       "      <td>0.000000</td>\n",
       "      <td>1951.000000</td>\n",
       "      <td>0.000000</td>\n",
       "      <td>98033.000000</td>\n",
       "      <td>47.471000</td>\n",
       "      <td>-122.328000</td>\n",
       "      <td>1490.000000</td>\n",
       "      <td>5100.000000</td>\n",
       "    </tr>\n",
       "    <tr>\n",
       "      <th>50%</th>\n",
       "      <td>3.904930e+09</td>\n",
       "      <td>4.500000e+05</td>\n",
       "      <td>3.000000</td>\n",
       "      <td>2.250000</td>\n",
       "      <td>1910.000000</td>\n",
       "      <td>7.618000e+03</td>\n",
       "      <td>1.500000</td>\n",
       "      <td>0.000000</td>\n",
       "      <td>0.000000</td>\n",
       "      <td>3.000000</td>\n",
       "      <td>7.000000</td>\n",
       "      <td>1560.000000</td>\n",
       "      <td>0.000000</td>\n",
       "      <td>1975.000000</td>\n",
       "      <td>0.000000</td>\n",
       "      <td>98065.000000</td>\n",
       "      <td>47.571800</td>\n",
       "      <td>-122.230000</td>\n",
       "      <td>1840.000000</td>\n",
       "      <td>7620.000000</td>\n",
       "    </tr>\n",
       "    <tr>\n",
       "      <th>75%</th>\n",
       "      <td>7.308900e+09</td>\n",
       "      <td>6.450000e+05</td>\n",
       "      <td>4.000000</td>\n",
       "      <td>2.500000</td>\n",
       "      <td>2550.000000</td>\n",
       "      <td>1.068800e+04</td>\n",
       "      <td>2.000000</td>\n",
       "      <td>0.000000</td>\n",
       "      <td>0.000000</td>\n",
       "      <td>4.000000</td>\n",
       "      <td>8.000000</td>\n",
       "      <td>2210.000000</td>\n",
       "      <td>560.000000</td>\n",
       "      <td>1997.000000</td>\n",
       "      <td>0.000000</td>\n",
       "      <td>98118.000000</td>\n",
       "      <td>47.678000</td>\n",
       "      <td>-122.125000</td>\n",
       "      <td>2360.000000</td>\n",
       "      <td>10083.000000</td>\n",
       "    </tr>\n",
       "    <tr>\n",
       "      <th>max</th>\n",
       "      <td>9.900000e+09</td>\n",
       "      <td>7.700000e+06</td>\n",
       "      <td>33.000000</td>\n",
       "      <td>8.000000</td>\n",
       "      <td>13540.000000</td>\n",
       "      <td>1.651359e+06</td>\n",
       "      <td>3.500000</td>\n",
       "      <td>1.000000</td>\n",
       "      <td>4.000000</td>\n",
       "      <td>5.000000</td>\n",
       "      <td>13.000000</td>\n",
       "      <td>9410.000000</td>\n",
       "      <td>4820.000000</td>\n",
       "      <td>2015.000000</td>\n",
       "      <td>2015.000000</td>\n",
       "      <td>98199.000000</td>\n",
       "      <td>47.777600</td>\n",
       "      <td>-121.315000</td>\n",
       "      <td>6210.000000</td>\n",
       "      <td>871200.000000</td>\n",
       "    </tr>\n",
       "  </tbody>\n",
       "</table>\n",
       "</div>"
      ],
      "text/plain": [
       "                 id         price      bedrooms     bathrooms   sqft_living  \\\n",
       "count  2.161300e+04  2.161300e+04  21613.000000  21613.000000  21613.000000   \n",
       "mean   4.580302e+09  5.400881e+05      3.370842      2.114757   2079.899736   \n",
       "std    2.876566e+09  3.671272e+05      0.930062      0.770163    918.440897   \n",
       "min    1.000102e+06  7.500000e+04      0.000000      0.000000    290.000000   \n",
       "25%    2.123049e+09  3.219500e+05      3.000000      1.750000   1427.000000   \n",
       "50%    3.904930e+09  4.500000e+05      3.000000      2.250000   1910.000000   \n",
       "75%    7.308900e+09  6.450000e+05      4.000000      2.500000   2550.000000   \n",
       "max    9.900000e+09  7.700000e+06     33.000000      8.000000  13540.000000   \n",
       "\n",
       "           sqft_lot        floors    waterfront          view     condition  \\\n",
       "count  2.161300e+04  21613.000000  21613.000000  21613.000000  21613.000000   \n",
       "mean   1.510697e+04      1.494309      0.007542      0.234303      3.409430   \n",
       "std    4.142051e+04      0.539989      0.086517      0.766318      0.650743   \n",
       "min    5.200000e+02      1.000000      0.000000      0.000000      1.000000   \n",
       "25%    5.040000e+03      1.000000      0.000000      0.000000      3.000000   \n",
       "50%    7.618000e+03      1.500000      0.000000      0.000000      3.000000   \n",
       "75%    1.068800e+04      2.000000      0.000000      0.000000      4.000000   \n",
       "max    1.651359e+06      3.500000      1.000000      4.000000      5.000000   \n",
       "\n",
       "              grade    sqft_above  sqft_basement      yr_built  yr_renovated  \\\n",
       "count  21613.000000  21613.000000   21613.000000  21613.000000  21613.000000   \n",
       "mean       7.656873   1788.390691     291.509045   1971.005136     84.402258   \n",
       "std        1.175459    828.090978     442.575043     29.373411    401.679240   \n",
       "min        1.000000    290.000000       0.000000   1900.000000      0.000000   \n",
       "25%        7.000000   1190.000000       0.000000   1951.000000      0.000000   \n",
       "50%        7.000000   1560.000000       0.000000   1975.000000      0.000000   \n",
       "75%        8.000000   2210.000000     560.000000   1997.000000      0.000000   \n",
       "max       13.000000   9410.000000    4820.000000   2015.000000   2015.000000   \n",
       "\n",
       "            zipcode           lat          long  sqft_living15     sqft_lot15  \n",
       "count  21613.000000  21613.000000  21613.000000   21613.000000   21613.000000  \n",
       "mean   98077.939805     47.560053   -122.213896    1986.552492   12768.455652  \n",
       "std       53.505026      0.138564      0.140828     685.391304   27304.179631  \n",
       "min    98001.000000     47.155900   -122.519000     399.000000     651.000000  \n",
       "25%    98033.000000     47.471000   -122.328000    1490.000000    5100.000000  \n",
       "50%    98065.000000     47.571800   -122.230000    1840.000000    7620.000000  \n",
       "75%    98118.000000     47.678000   -122.125000    2360.000000   10083.000000  \n",
       "max    98199.000000     47.777600   -121.315000    6210.000000  871200.000000  "
      ]
     },
     "execution_count": 6,
     "metadata": {},
     "output_type": "execute_result"
    }
   ],
   "source": [
    "#to get more information about the numerical data in our dataset\n",
    "# get min, max, mean, std, quartiles for al the numerical columns/features\n",
    "df.describe()"
   ]
  },
  {
   "cell_type": "code",
   "execution_count": 7,
   "metadata": {},
   "outputs": [
    {
     "data": {
      "text/plain": [
       "7700000.0"
      ]
     },
     "execution_count": 7,
     "metadata": {},
     "output_type": "execute_result"
    }
   ],
   "source": [
    "# The maximum price of a house using max function. It is also be find using pandas describe method.\n",
    "max(df.price)"
   ]
  },
  {
   "cell_type": "code",
   "execution_count": 8,
   "metadata": {},
   "outputs": [
    {
     "data": {
      "text/plain": [
       "75000.0"
      ]
     },
     "execution_count": 8,
     "metadata": {},
     "output_type": "execute_result"
    }
   ],
   "source": [
    "# The minimum price of a house \n",
    "min(df.price)"
   ]
  },
  {
   "cell_type": "code",
   "execution_count": 9,
   "metadata": {},
   "outputs": [
    {
     "data": {
      "text/plain": [
       "540088.1417665294"
      ]
     },
     "execution_count": 9,
     "metadata": {},
     "output_type": "execute_result"
    }
   ],
   "source": [
    "# The average price of a house\n",
    "df.price.mean()"
   ]
  },
  {
   "cell_type": "code",
   "execution_count": 10,
   "metadata": {},
   "outputs": [
    {
     "data": {
      "text/plain": [
       "450000.0"
      ]
     },
     "execution_count": 10,
     "metadata": {},
     "output_type": "execute_result"
    }
   ],
   "source": [
    "# The median price of house\n",
    "df.price.median()"
   ]
  },
  {
   "cell_type": "code",
   "execution_count": 11,
   "metadata": {},
   "outputs": [
    {
     "data": {
      "text/plain": [
       "<matplotlib.axes._subplots.AxesSubplot at 0x285e4858048>"
      ]
     },
     "execution_count": 11,
     "metadata": {},
     "output_type": "execute_result"
    },
    {
     "data": {
      "image/png": "[encoded data removed]",
      "text/plain": [
       "<Figure size 432x288 with 1 Axes>"
      ]
     },
     "metadata": {
      "needs_background": "light"
     },
     "output_type": "display_data"
    }
   ],
   "source": [
    "# The price of the house is right skewed, so there might be some outliers.\n",
    "df.price.hist(bins=20)"
   ]
  },
  {
   "cell_type": "code",
   "execution_count": 12,
   "metadata": {},
   "outputs": [
    {
     "data": {
      "text/plain": [
       "<matplotlib.axes._subplots.AxesSubplot at 0x285e4ba9278>"
      ]
     },
     "execution_count": 12,
     "metadata": {},
     "output_type": "execute_result"
    },
    {
     "data": {
      "image/png": "[encoded data removed]",
      "text/plain": [
       "<Figure size 720x720 with 1 Axes>"
      ]
     },
     "metadata": {
      "needs_background": "light"
     },
     "output_type": "display_data"
    }
   ],
   "source": [
    "# Using the boxplot we can see if there are any outliers.\n",
    "df.boxplot('price', figsize= (10,10))"
   ]
  },
  {
   "cell_type": "code",
   "execution_count": 13,
   "metadata": {},
   "outputs": [
    {
     "data": {
      "text/html": [
       "<div>\n",
       "<style scoped>\n",
       "    .dataframe tbody tr th:only-of-type {\n",
       "        vertical-align: middle;\n",
       "    }\n",
       "\n",
       "    .dataframe tbody tr th {\n",
       "        vertical-align: top;\n",
       "    }\n",
       "\n",
       "    .dataframe thead th {\n",
       "        text-align: right;\n",
       "    }\n",
       "</style>\n",
       "<table border=\"1\" class=\"dataframe\">\n",
       "  <thead>\n",
       "    <tr style=\"text-align: right;\">\n",
       "      <th></th>\n",
       "      <th>id</th>\n",
       "      <th>price</th>\n",
       "      <th>bedrooms</th>\n",
       "      <th>bathrooms</th>\n",
       "      <th>sqft_living</th>\n",
       "      <th>sqft_lot</th>\n",
       "      <th>floors</th>\n",
       "      <th>waterfront</th>\n",
       "      <th>grade</th>\n",
       "      <th>sqft_basement</th>\n",
       "    </tr>\n",
       "  </thead>\n",
       "  <tbody>\n",
       "    <tr>\n",
       "      <th>7252</th>\n",
       "      <td>6762700020</td>\n",
       "      <td>7700000.0</td>\n",
       "      <td>6</td>\n",
       "      <td>8.00</td>\n",
       "      <td>12050</td>\n",
       "      <td>27600</td>\n",
       "      <td>2.5</td>\n",
       "      <td>0</td>\n",
       "      <td>13</td>\n",
       "      <td>3480</td>\n",
       "    </tr>\n",
       "    <tr>\n",
       "      <th>3914</th>\n",
       "      <td>9808700762</td>\n",
       "      <td>7062500.0</td>\n",
       "      <td>5</td>\n",
       "      <td>4.50</td>\n",
       "      <td>10040</td>\n",
       "      <td>37325</td>\n",
       "      <td>2.0</td>\n",
       "      <td>1</td>\n",
       "      <td>11</td>\n",
       "      <td>2360</td>\n",
       "    </tr>\n",
       "    <tr>\n",
       "      <th>9254</th>\n",
       "      <td>9208900037</td>\n",
       "      <td>6885000.0</td>\n",
       "      <td>6</td>\n",
       "      <td>7.75</td>\n",
       "      <td>9890</td>\n",
       "      <td>31374</td>\n",
       "      <td>2.0</td>\n",
       "      <td>0</td>\n",
       "      <td>13</td>\n",
       "      <td>1030</td>\n",
       "    </tr>\n",
       "    <tr>\n",
       "      <th>4411</th>\n",
       "      <td>2470100110</td>\n",
       "      <td>5570000.0</td>\n",
       "      <td>5</td>\n",
       "      <td>5.75</td>\n",
       "      <td>9200</td>\n",
       "      <td>35069</td>\n",
       "      <td>2.0</td>\n",
       "      <td>0</td>\n",
       "      <td>13</td>\n",
       "      <td>3000</td>\n",
       "    </tr>\n",
       "    <tr>\n",
       "      <th>1448</th>\n",
       "      <td>8907500070</td>\n",
       "      <td>5350000.0</td>\n",
       "      <td>5</td>\n",
       "      <td>5.00</td>\n",
       "      <td>8000</td>\n",
       "      <td>23985</td>\n",
       "      <td>2.0</td>\n",
       "      <td>0</td>\n",
       "      <td>12</td>\n",
       "      <td>1280</td>\n",
       "    </tr>\n",
       "    <tr>\n",
       "      <th>1315</th>\n",
       "      <td>7558700030</td>\n",
       "      <td>5300000.0</td>\n",
       "      <td>6</td>\n",
       "      <td>6.00</td>\n",
       "      <td>7390</td>\n",
       "      <td>24829</td>\n",
       "      <td>2.0</td>\n",
       "      <td>1</td>\n",
       "      <td>12</td>\n",
       "      <td>2390</td>\n",
       "    </tr>\n",
       "    <tr>\n",
       "      <th>1164</th>\n",
       "      <td>1247600105</td>\n",
       "      <td>5110800.0</td>\n",
       "      <td>5</td>\n",
       "      <td>5.25</td>\n",
       "      <td>8010</td>\n",
       "      <td>45517</td>\n",
       "      <td>2.0</td>\n",
       "      <td>1</td>\n",
       "      <td>12</td>\n",
       "      <td>2020</td>\n",
       "    </tr>\n",
       "    <tr>\n",
       "      <th>8092</th>\n",
       "      <td>1924059029</td>\n",
       "      <td>4668000.0</td>\n",
       "      <td>5</td>\n",
       "      <td>6.75</td>\n",
       "      <td>9640</td>\n",
       "      <td>13068</td>\n",
       "      <td>1.0</td>\n",
       "      <td>1</td>\n",
       "      <td>12</td>\n",
       "      <td>4820</td>\n",
       "    </tr>\n",
       "    <tr>\n",
       "      <th>2626</th>\n",
       "      <td>7738500731</td>\n",
       "      <td>4500000.0</td>\n",
       "      <td>5</td>\n",
       "      <td>5.50</td>\n",
       "      <td>6640</td>\n",
       "      <td>40014</td>\n",
       "      <td>2.0</td>\n",
       "      <td>1</td>\n",
       "      <td>12</td>\n",
       "      <td>290</td>\n",
       "    </tr>\n",
       "    <tr>\n",
       "      <th>8638</th>\n",
       "      <td>3835500195</td>\n",
       "      <td>4489000.0</td>\n",
       "      <td>4</td>\n",
       "      <td>3.00</td>\n",
       "      <td>6430</td>\n",
       "      <td>27517</td>\n",
       "      <td>2.0</td>\n",
       "      <td>0</td>\n",
       "      <td>12</td>\n",
       "      <td>0</td>\n",
       "    </tr>\n",
       "  </tbody>\n",
       "</table>\n",
       "</div>"
      ],
      "text/plain": [
       "              id      price  bedrooms  bathrooms  sqft_living  sqft_lot  \\\n",
       "7252  6762700020  7700000.0         6       8.00        12050     27600   \n",
       "3914  9808700762  7062500.0         5       4.50        10040     37325   \n",
       "9254  9208900037  6885000.0         6       7.75         9890     31374   \n",
       "4411  2470100110  5570000.0         5       5.75         9200     35069   \n",
       "1448  8907500070  5350000.0         5       5.00         8000     23985   \n",
       "1315  7558700030  5300000.0         6       6.00         7390     24829   \n",
       "1164  1247600105  5110800.0         5       5.25         8010     45517   \n",
       "8092  1924059029  4668000.0         5       6.75         9640     13068   \n",
       "2626  7738500731  4500000.0         5       5.50         6640     40014   \n",
       "8638  3835500195  4489000.0         4       3.00         6430     27517   \n",
       "\n",
       "      floors  waterfront  grade  sqft_basement  \n",
       "7252     2.5           0     13           3480  \n",
       "3914     2.0           1     11           2360  \n",
       "9254     2.0           0     13           1030  \n",
       "4411     2.0           0     13           3000  \n",
       "1448     2.0           0     12           1280  \n",
       "1315     2.0           1     12           2390  \n",
       "1164     2.0           1     12           2020  \n",
       "8092     1.0           1     12           4820  \n",
       "2626     2.0           1     12            290  \n",
       "8638     2.0           0     12              0  "
      ]
     },
     "execution_count": 13,
     "metadata": {},
     "output_type": "execute_result"
    }
   ],
   "source": [
    "# find top 10 expensive house and see what are their features\n",
    "# Make sure they are not mistake or bad input data\n",
    "df[['id','price','bedrooms','bathrooms','sqft_living','sqft_lot','floors','waterfront','grade','sqft_basement']].sort_values('price',ascending=False).head(10)"
   ]
  },
  {
   "cell_type": "code",
   "execution_count": 14,
   "metadata": {},
   "outputs": [
    {
     "data": {
      "text/plain": [
       "<matplotlib.axes._subplots.AxesSubplot at 0x285e4c26c88>"
      ]
     },
     "execution_count": 14,
     "metadata": {},
     "output_type": "execute_result"
    },
    {
     "data": {
      "image/png": "[encoded data removed]",
      "text/plain": [
       "<Figure size 720x720 with 1 Axes>"
      ]
     },
     "metadata": {
      "needs_background": "light"
     },
     "output_type": "display_data"
    }
   ],
   "source": [
    "# Check for the outliers in bedrooms column.\n",
    "df.boxplot('bedrooms', figsize= (10,10))"
   ]
  },
  {
   "cell_type": "code",
   "execution_count": 15,
   "metadata": {},
   "outputs": [
    {
     "data": {
      "text/plain": [
       "<matplotlib.axes._subplots.AxesSubplot at 0x285e4f51cc0>"
      ]
     },
     "execution_count": 15,
     "metadata": {},
     "output_type": "execute_result"
    },
    {
     "data": {
      "image/png": "[encoded data removed]",
      "text/plain": [
       "<Figure size 720x720 with 1 Axes>"
      ]
     },
     "metadata": {
      "needs_background": "light"
     },
     "output_type": "display_data"
    }
   ],
   "source": [
    "df.boxplot('bathrooms', figsize= (10,10))"
   ]
  },
  {
   "cell_type": "code",
   "execution_count": 16,
   "metadata": {},
   "outputs": [
    {
     "data": {
      "text/plain": [
       "<matplotlib.axes._subplots.AxesSubplot at 0x285e50fb9b0>"
      ]
     },
     "execution_count": 16,
     "metadata": {},
     "output_type": "execute_result"
    },
    {
     "data": {
      "image/png": "[encoded data removed]",
      "text/plain": [
       "<Figure size 720x720 with 1 Axes>"
      ]
     },
     "metadata": {
      "needs_background": "light"
     },
     "output_type": "display_data"
    }
   ],
   "source": [
    "df.boxplot('sqft_living', figsize= (10,10))"
   ]
  },
  {
   "cell_type": "code",
   "execution_count": 17,
   "metadata": {},
   "outputs": [
    {
     "data": {
      "text/plain": [
       "<matplotlib.axes._subplots.AxesSubplot at 0x285e53efb38>"
      ]
     },
     "execution_count": 17,
     "metadata": {},
     "output_type": "execute_result"
    },
    {
     "data": {
      "image/png": "[encoded data removed]",
      "text/plain": [
       "<Figure size 720x720 with 1 Axes>"
      ]
     },
     "metadata": {
      "needs_background": "light"
     },
     "output_type": "display_data"
    }
   ],
   "source": [
    "df.boxplot('sqft_lot', figsize= (10,10))"
   ]
  },
  {
   "cell_type": "code",
   "execution_count": 18,
   "metadata": {},
   "outputs": [
    {
     "data": {
      "text/plain": [
       "<matplotlib.axes._subplots.AxesSubplot at 0x285e59849e8>"
      ]
     },
     "execution_count": 18,
     "metadata": {},
     "output_type": "execute_result"
    },
    {
     "data": {
      "image/png": "[encoded data removed]",
      "text/plain": [
       "<Figure size 720x720 with 1 Axes>"
      ]
     },
     "metadata": {
      "needs_background": "light"
     },
     "output_type": "display_data"
    }
   ],
   "source": [
    "df.boxplot('floors', figsize= (10,10))"
   ]
  },
  {
   "cell_type": "code",
   "execution_count": 19,
   "metadata": {},
   "outputs": [
    {
     "data": {
      "text/plain": [
       "<matplotlib.axes._subplots.AxesSubplot at 0x285e5794b70>"
      ]
     },
     "execution_count": 19,
     "metadata": {},
     "output_type": "execute_result"
    },
    {
     "data": {
      "image/png": "[encoded data removed]",
      "text/plain": [
       "<Figure size 720x720 with 1 Axes>"
      ]
     },
     "metadata": {
      "needs_background": "light"
     },
     "output_type": "display_data"
    }
   ],
   "source": [
    "df.boxplot('condition', figsize= (10,10))"
   ]
  },
  {
   "cell_type": "code",
   "execution_count": 20,
   "metadata": {},
   "outputs": [
    {
     "data": {
      "text/plain": [
       "<matplotlib.axes._subplots.AxesSubplot at 0x285e594ee80>"
      ]
     },
     "execution_count": 20,
     "metadata": {},
     "output_type": "execute_result"
    },
    {
     "data": {
      "image/png": "[encoded data removed]",
      "text/plain": [
       "<Figure size 720x720 with 1 Axes>"
      ]
     },
     "metadata": {
      "needs_background": "light"
     },
     "output_type": "display_data"
    }
   ],
   "source": [
    "df.boxplot('grade', figsize= (10,10))"
   ]
  },
  {
   "cell_type": "code",
   "execution_count": 21,
   "metadata": {},
   "outputs": [
    {
     "data": {
      "text/plain": [
       "<matplotlib.axes._subplots.AxesSubplot at 0x285e5b40cf8>"
      ]
     },
     "execution_count": 21,
     "metadata": {},
     "output_type": "execute_result"
    },
    {
     "data": {
      "image/png": "[encoded data removed]",
      "text/plain": [
       "<Figure size 720x720 with 1 Axes>"
      ]
     },
     "metadata": {
      "needs_background": "light"
     },
     "output_type": "display_data"
    }
   ],
   "source": [
    "df.boxplot('sqft_above', figsize= (10,10))"
   ]
  },
  {
   "cell_type": "code",
   "execution_count": 22,
   "metadata": {},
   "outputs": [
    {
     "data": {
      "text/plain": [
       "<matplotlib.axes._subplots.AxesSubplot at 0x285e5d02e48>"
      ]
     },
     "execution_count": 22,
     "metadata": {},
     "output_type": "execute_result"
    },
    {
     "data": {
      "image/png": "[encoded data removed]",
      "text/plain": [
       "<Figure size 720x720 with 1 Axes>"
      ]
     },
     "metadata": {
      "needs_background": "light"
     },
     "output_type": "display_data"
    }
   ],
   "source": [
    "df.boxplot('sqft_basement', figsize= (10,10))"
   ]
  },
  {
   "cell_type": "code",
   "execution_count": 23,
   "metadata": {},
   "outputs": [
    {
     "data": {
      "text/html": [
       "<div>\n",
       "<style scoped>\n",
       "    .dataframe tbody tr th:only-of-type {\n",
       "        vertical-align: middle;\n",
       "    }\n",
       "\n",
       "    .dataframe tbody tr th {\n",
       "        vertical-align: top;\n",
       "    }\n",
       "\n",
       "    .dataframe thead th {\n",
       "        text-align: right;\n",
       "    }\n",
       "</style>\n",
       "<table border=\"1\" class=\"dataframe\">\n",
       "  <thead>\n",
       "    <tr style=\"text-align: right;\">\n",
       "      <th></th>\n",
       "      <th>id</th>\n",
       "      <th>date</th>\n",
       "      <th>price</th>\n",
       "      <th>bedrooms</th>\n",
       "      <th>bathrooms</th>\n",
       "      <th>sqft_living</th>\n",
       "      <th>sqft_lot</th>\n",
       "      <th>floors</th>\n",
       "      <th>waterfront</th>\n",
       "      <th>view</th>\n",
       "      <th>...</th>\n",
       "      <th>grade</th>\n",
       "      <th>sqft_above</th>\n",
       "      <th>sqft_basement</th>\n",
       "      <th>yr_built</th>\n",
       "      <th>yr_renovated</th>\n",
       "      <th>zipcode</th>\n",
       "      <th>lat</th>\n",
       "      <th>long</th>\n",
       "      <th>sqft_living15</th>\n",
       "      <th>sqft_lot15</th>\n",
       "    </tr>\n",
       "  </thead>\n",
       "  <tbody>\n",
       "    <tr>\n",
       "      <th>15870</th>\n",
       "      <td>2402100895</td>\n",
       "      <td>20140625T000000</td>\n",
       "      <td>640000.0</td>\n",
       "      <td>33</td>\n",
       "      <td>1.75</td>\n",
       "      <td>1620</td>\n",
       "      <td>6000</td>\n",
       "      <td>1.0</td>\n",
       "      <td>0</td>\n",
       "      <td>0</td>\n",
       "      <td>...</td>\n",
       "      <td>7</td>\n",
       "      <td>1040</td>\n",
       "      <td>580</td>\n",
       "      <td>1947</td>\n",
       "      <td>0</td>\n",
       "      <td>98103</td>\n",
       "      <td>47.6878</td>\n",
       "      <td>-122.331</td>\n",
       "      <td>1330</td>\n",
       "      <td>4700</td>\n",
       "    </tr>\n",
       "  </tbody>\n",
       "</table>\n",
       "<p>1 rows × 21 columns</p>\n",
       "</div>"
      ],
      "text/plain": [
       "               id             date     price  bedrooms  bathrooms  \\\n",
       "15870  2402100895  20140625T000000  640000.0        33       1.75   \n",
       "\n",
       "       sqft_living  sqft_lot  floors  waterfront  view     ...      grade  \\\n",
       "15870         1620      6000     1.0           0     0     ...          7   \n",
       "\n",
       "       sqft_above  sqft_basement  yr_built  yr_renovated  zipcode      lat  \\\n",
       "15870        1040            580      1947             0    98103  47.6878   \n",
       "\n",
       "          long  sqft_living15  sqft_lot15  \n",
       "15870 -122.331           1330        4700  \n",
       "\n",
       "[1 rows x 21 columns]"
      ]
     },
     "execution_count": 23,
     "metadata": {},
     "output_type": "execute_result"
    }
   ],
   "source": [
    "# let us check why one house has 33 bedrooms. Check if it is a mistake. \n",
    "# the sqft_living and number of bedroom suggests us that it is a mistake.\n",
    "df[df.bedrooms==33]"
   ]
  },
  {
   "cell_type": "code",
   "execution_count": 24,
   "metadata": {},
   "outputs": [
    {
     "data": {
      "text/plain": [
       "1680.0"
      ]
     },
     "execution_count": 24,
     "metadata": {},
     "output_type": "execute_result"
    }
   ],
   "source": [
    "# check the median sqft_living and compare with house with 33 bedrooms\n",
    "df[df.bedrooms==3].sqft_living.median()"
   ]
  },
  {
   "cell_type": "code",
   "execution_count": 25,
   "metadata": {},
   "outputs": [
    {
     "data": {
      "text/plain": [
       "7629.5"
      ]
     },
     "execution_count": 25,
     "metadata": {},
     "output_type": "execute_result"
    }
   ],
   "source": [
    "# check the median sqft_lot and compare with house with 33 bedrooms\n",
    "df[df.bedrooms==3].sqft_lot.median()"
   ]
  },
  {
   "cell_type": "markdown",
   "metadata": {},
   "source": [
    "According to the sqft_living and sqft_lot, the house must be with 3 bedroom. "
   ]
  },
  {
   "cell_type": "code",
   "execution_count": 26,
   "metadata": {},
   "outputs": [],
   "source": [
    "# Change the bad data 33 to 3 in bedrooms columns\n",
    "df.loc[df.bedrooms==33, 'bedrooms'] = 3"
   ]
  },
  {
   "cell_type": "code",
   "execution_count": 27,
   "metadata": {},
   "outputs": [
    {
     "data": {
      "text/html": [
       "<div>\n",
       "<style scoped>\n",
       "    .dataframe tbody tr th:only-of-type {\n",
       "        vertical-align: middle;\n",
       "    }\n",
       "\n",
       "    .dataframe tbody tr th {\n",
       "        vertical-align: top;\n",
       "    }\n",
       "\n",
       "    .dataframe thead th {\n",
       "        text-align: right;\n",
       "    }\n",
       "</style>\n",
       "<table border=\"1\" class=\"dataframe\">\n",
       "  <thead>\n",
       "    <tr style=\"text-align: right;\">\n",
       "      <th></th>\n",
       "      <th>id</th>\n",
       "      <th>date</th>\n",
       "      <th>price</th>\n",
       "      <th>bedrooms</th>\n",
       "      <th>bathrooms</th>\n",
       "      <th>sqft_living</th>\n",
       "      <th>sqft_lot</th>\n",
       "      <th>floors</th>\n",
       "      <th>waterfront</th>\n",
       "      <th>view</th>\n",
       "      <th>...</th>\n",
       "      <th>grade</th>\n",
       "      <th>sqft_above</th>\n",
       "      <th>sqft_basement</th>\n",
       "      <th>yr_built</th>\n",
       "      <th>yr_renovated</th>\n",
       "      <th>zipcode</th>\n",
       "      <th>lat</th>\n",
       "      <th>long</th>\n",
       "      <th>sqft_living15</th>\n",
       "      <th>sqft_lot15</th>\n",
       "    </tr>\n",
       "  </thead>\n",
       "  <tbody>\n",
       "  </tbody>\n",
       "</table>\n",
       "<p>0 rows × 21 columns</p>\n",
       "</div>"
      ],
      "text/plain": [
       "Empty DataFrame\n",
       "Columns: [id, date, price, bedrooms, bathrooms, sqft_living, sqft_lot, floors, waterfront, view, condition, grade, sqft_above, sqft_basement, yr_built, yr_renovated, zipcode, lat, long, sqft_living15, sqft_lot15]\n",
       "Index: []\n",
       "\n",
       "[0 rows x 21 columns]"
      ]
     },
     "execution_count": 27,
     "metadata": {},
     "output_type": "execute_result"
    }
   ],
   "source": [
    "# check if bedrooms == 33 exist\n",
    "df[df.bedrooms==33]"
   ]
  },
  {
   "cell_type": "code",
   "execution_count": 28,
   "metadata": {},
   "outputs": [
    {
     "data": {
      "text/plain": [
       "11"
      ]
     },
     "execution_count": 28,
     "metadata": {},
     "output_type": "execute_result"
    }
   ],
   "source": [
    "# to check the maximum number of bedrooms in our dataset\n",
    "max(df.bedrooms)"
   ]
  },
  {
   "cell_type": "code",
   "execution_count": 29,
   "metadata": {},
   "outputs": [
    {
     "data": {
      "text/html": [
       "<div>\n",
       "<style scoped>\n",
       "    .dataframe tbody tr th:only-of-type {\n",
       "        vertical-align: middle;\n",
       "    }\n",
       "\n",
       "    .dataframe tbody tr th {\n",
       "        vertical-align: top;\n",
       "    }\n",
       "\n",
       "    .dataframe thead th {\n",
       "        text-align: right;\n",
       "    }\n",
       "</style>\n",
       "<table border=\"1\" class=\"dataframe\">\n",
       "  <thead>\n",
       "    <tr style=\"text-align: right;\">\n",
       "      <th></th>\n",
       "      <th>price</th>\n",
       "      <th>bedrooms</th>\n",
       "      <th>bathrooms</th>\n",
       "      <th>sqft_living</th>\n",
       "      <th>sqft_lot</th>\n",
       "      <th>floors</th>\n",
       "      <th>grade</th>\n",
       "    </tr>\n",
       "  </thead>\n",
       "  <tbody>\n",
       "    <tr>\n",
       "      <th>8757</th>\n",
       "      <td>520000.0</td>\n",
       "      <td>11</td>\n",
       "      <td>3.0</td>\n",
       "      <td>3000</td>\n",
       "      <td>4960</td>\n",
       "      <td>2.0</td>\n",
       "      <td>7</td>\n",
       "    </tr>\n",
       "  </tbody>\n",
       "</table>\n",
       "</div>"
      ],
      "text/plain": [
       "         price  bedrooms  bathrooms  sqft_living  sqft_lot  floors  grade\n",
       "8757  520000.0        11        3.0         3000      4960     2.0      7"
      ]
     },
     "execution_count": 29,
     "metadata": {},
     "output_type": "execute_result"
    }
   ],
   "source": [
    "# check if number of bedroom 11 is mistake or bad data\n",
    "df[df.bedrooms == 11][['price','bedrooms','bathrooms','sqft_living','sqft_lot','floors','grade']]"
   ]
  },
  {
   "cell_type": "code",
   "execution_count": 30,
   "metadata": {},
   "outputs": [
    {
     "data": {
      "text/html": [
       "<div>\n",
       "<style scoped>\n",
       "    .dataframe tbody tr th:only-of-type {\n",
       "        vertical-align: middle;\n",
       "    }\n",
       "\n",
       "    .dataframe tbody tr th {\n",
       "        vertical-align: top;\n",
       "    }\n",
       "\n",
       "    .dataframe thead th {\n",
       "        text-align: right;\n",
       "    }\n",
       "</style>\n",
       "<table border=\"1\" class=\"dataframe\">\n",
       "  <thead>\n",
       "    <tr style=\"text-align: right;\">\n",
       "      <th></th>\n",
       "      <th>price</th>\n",
       "      <th>bedrooms</th>\n",
       "      <th>bathrooms</th>\n",
       "      <th>sqft_living</th>\n",
       "      <th>sqft_lot</th>\n",
       "      <th>floors</th>\n",
       "      <th>grade</th>\n",
       "    </tr>\n",
       "  </thead>\n",
       "  <tbody>\n",
       "    <tr>\n",
       "      <th>8757</th>\n",
       "      <td>520000.0</td>\n",
       "      <td>11</td>\n",
       "      <td>3.00</td>\n",
       "      <td>3000</td>\n",
       "      <td>4960</td>\n",
       "      <td>2.0</td>\n",
       "      <td>7</td>\n",
       "    </tr>\n",
       "    <tr>\n",
       "      <th>15161</th>\n",
       "      <td>650000.0</td>\n",
       "      <td>10</td>\n",
       "      <td>2.00</td>\n",
       "      <td>3610</td>\n",
       "      <td>11914</td>\n",
       "      <td>2.0</td>\n",
       "      <td>7</td>\n",
       "    </tr>\n",
       "    <tr>\n",
       "      <th>19254</th>\n",
       "      <td>660000.0</td>\n",
       "      <td>10</td>\n",
       "      <td>3.00</td>\n",
       "      <td>2920</td>\n",
       "      <td>3745</td>\n",
       "      <td>2.0</td>\n",
       "      <td>7</td>\n",
       "    </tr>\n",
       "    <tr>\n",
       "      <th>13314</th>\n",
       "      <td>1148000.0</td>\n",
       "      <td>10</td>\n",
       "      <td>5.25</td>\n",
       "      <td>4590</td>\n",
       "      <td>10920</td>\n",
       "      <td>1.0</td>\n",
       "      <td>9</td>\n",
       "    </tr>\n",
       "    <tr>\n",
       "      <th>4096</th>\n",
       "      <td>599999.0</td>\n",
       "      <td>9</td>\n",
       "      <td>4.50</td>\n",
       "      <td>3830</td>\n",
       "      <td>6988</td>\n",
       "      <td>2.5</td>\n",
       "      <td>7</td>\n",
       "    </tr>\n",
       "  </tbody>\n",
       "</table>\n",
       "</div>"
      ],
      "text/plain": [
       "           price  bedrooms  bathrooms  sqft_living  sqft_lot  floors  grade\n",
       "8757    520000.0        11       3.00         3000      4960     2.0      7\n",
       "15161   650000.0        10       2.00         3610     11914     2.0      7\n",
       "19254   660000.0        10       3.00         2920      3745     2.0      7\n",
       "13314  1148000.0        10       5.25         4590     10920     1.0      9\n",
       "4096    599999.0         9       4.50         3830      6988     2.5      7"
      ]
     },
     "execution_count": 30,
     "metadata": {},
     "output_type": "execute_result"
    }
   ],
   "source": [
    "df[(df.bedrooms>7)][['price','bedrooms','bathrooms','sqft_living','sqft_lot','floors','grade']].sort_values('bedrooms',ascending=False).head()"
   ]
  },
  {
   "cell_type": "markdown",
   "metadata": {},
   "source": [
    "Number of bedrooms 11 for a house is a correct input comparing other data in our dataset"
   ]
  },
  {
   "cell_type": "code",
   "execution_count": 31,
   "metadata": {},
   "outputs": [],
   "source": [
    "# Convert date column from string to datetime\n",
    "df['date'] = pd.to_datetime(df.date)"
   ]
  },
  {
   "cell_type": "code",
   "execution_count": 32,
   "metadata": {},
   "outputs": [
    {
     "data": {
      "text/html": [
       "<div>\n",
       "<style scoped>\n",
       "    .dataframe tbody tr th:only-of-type {\n",
       "        vertical-align: middle;\n",
       "    }\n",
       "\n",
       "    .dataframe tbody tr th {\n",
       "        vertical-align: top;\n",
       "    }\n",
       "\n",
       "    .dataframe thead th {\n",
       "        text-align: right;\n",
       "    }\n",
       "</style>\n",
       "<table border=\"1\" class=\"dataframe\">\n",
       "  <thead>\n",
       "    <tr style=\"text-align: right;\">\n",
       "      <th></th>\n",
       "      <th>id</th>\n",
       "      <th>date</th>\n",
       "      <th>price</th>\n",
       "      <th>bedrooms</th>\n",
       "      <th>bathrooms</th>\n",
       "      <th>sqft_living</th>\n",
       "      <th>sqft_lot</th>\n",
       "      <th>floors</th>\n",
       "      <th>waterfront</th>\n",
       "      <th>view</th>\n",
       "      <th>...</th>\n",
       "      <th>grade</th>\n",
       "      <th>sqft_above</th>\n",
       "      <th>sqft_basement</th>\n",
       "      <th>yr_built</th>\n",
       "      <th>yr_renovated</th>\n",
       "      <th>zipcode</th>\n",
       "      <th>lat</th>\n",
       "      <th>long</th>\n",
       "      <th>sqft_living15</th>\n",
       "      <th>sqft_lot15</th>\n",
       "    </tr>\n",
       "  </thead>\n",
       "  <tbody>\n",
       "    <tr>\n",
       "      <th>16768</th>\n",
       "      <td>5561000190</td>\n",
       "      <td>2014-05-02</td>\n",
       "      <td>437500.0</td>\n",
       "      <td>3</td>\n",
       "      <td>2.25</td>\n",
       "      <td>1970</td>\n",
       "      <td>35100</td>\n",
       "      <td>2.0</td>\n",
       "      <td>0</td>\n",
       "      <td>0</td>\n",
       "      <td>...</td>\n",
       "      <td>9</td>\n",
       "      <td>1970</td>\n",
       "      <td>0</td>\n",
       "      <td>1977</td>\n",
       "      <td>0</td>\n",
       "      <td>98027</td>\n",
       "      <td>47.4635</td>\n",
       "      <td>-121.991</td>\n",
       "      <td>2340</td>\n",
       "      <td>35100</td>\n",
       "    </tr>\n",
       "    <tr>\n",
       "      <th>9596</th>\n",
       "      <td>472000620</td>\n",
       "      <td>2014-05-02</td>\n",
       "      <td>790000.0</td>\n",
       "      <td>3</td>\n",
       "      <td>2.50</td>\n",
       "      <td>2600</td>\n",
       "      <td>4750</td>\n",
       "      <td>1.0</td>\n",
       "      <td>0</td>\n",
       "      <td>0</td>\n",
       "      <td>...</td>\n",
       "      <td>9</td>\n",
       "      <td>1700</td>\n",
       "      <td>900</td>\n",
       "      <td>1951</td>\n",
       "      <td>0</td>\n",
       "      <td>98117</td>\n",
       "      <td>47.6833</td>\n",
       "      <td>-122.400</td>\n",
       "      <td>2380</td>\n",
       "      <td>4750</td>\n",
       "    </tr>\n",
       "    <tr>\n",
       "      <th>9587</th>\n",
       "      <td>1024069009</td>\n",
       "      <td>2014-05-02</td>\n",
       "      <td>675000.0</td>\n",
       "      <td>5</td>\n",
       "      <td>2.50</td>\n",
       "      <td>2820</td>\n",
       "      <td>67518</td>\n",
       "      <td>2.0</td>\n",
       "      <td>0</td>\n",
       "      <td>0</td>\n",
       "      <td>...</td>\n",
       "      <td>8</td>\n",
       "      <td>2820</td>\n",
       "      <td>0</td>\n",
       "      <td>1979</td>\n",
       "      <td>0</td>\n",
       "      <td>98029</td>\n",
       "      <td>47.5794</td>\n",
       "      <td>-122.025</td>\n",
       "      <td>2820</td>\n",
       "      <td>48351</td>\n",
       "    </tr>\n",
       "    <tr>\n",
       "      <th>20602</th>\n",
       "      <td>7853361370</td>\n",
       "      <td>2014-05-02</td>\n",
       "      <td>555000.0</td>\n",
       "      <td>4</td>\n",
       "      <td>2.50</td>\n",
       "      <td>3310</td>\n",
       "      <td>6500</td>\n",
       "      <td>2.0</td>\n",
       "      <td>0</td>\n",
       "      <td>0</td>\n",
       "      <td>...</td>\n",
       "      <td>8</td>\n",
       "      <td>3310</td>\n",
       "      <td>0</td>\n",
       "      <td>2012</td>\n",
       "      <td>0</td>\n",
       "      <td>98065</td>\n",
       "      <td>47.5150</td>\n",
       "      <td>-121.870</td>\n",
       "      <td>2380</td>\n",
       "      <td>5000</td>\n",
       "    </tr>\n",
       "    <tr>\n",
       "      <th>11577</th>\n",
       "      <td>5056500260</td>\n",
       "      <td>2014-05-02</td>\n",
       "      <td>440000.0</td>\n",
       "      <td>4</td>\n",
       "      <td>2.25</td>\n",
       "      <td>2160</td>\n",
       "      <td>8119</td>\n",
       "      <td>1.0</td>\n",
       "      <td>0</td>\n",
       "      <td>0</td>\n",
       "      <td>...</td>\n",
       "      <td>8</td>\n",
       "      <td>1080</td>\n",
       "      <td>1080</td>\n",
       "      <td>1966</td>\n",
       "      <td>0</td>\n",
       "      <td>98006</td>\n",
       "      <td>47.5443</td>\n",
       "      <td>-122.177</td>\n",
       "      <td>1850</td>\n",
       "      <td>9000</td>\n",
       "    </tr>\n",
       "    <tr>\n",
       "      <th>20559</th>\n",
       "      <td>3438501320</td>\n",
       "      <td>2014-05-02</td>\n",
       "      <td>295000.0</td>\n",
       "      <td>2</td>\n",
       "      <td>2.50</td>\n",
       "      <td>1630</td>\n",
       "      <td>1368</td>\n",
       "      <td>2.0</td>\n",
       "      <td>0</td>\n",
       "      <td>0</td>\n",
       "      <td>...</td>\n",
       "      <td>7</td>\n",
       "      <td>1280</td>\n",
       "      <td>350</td>\n",
       "      <td>2009</td>\n",
       "      <td>0</td>\n",
       "      <td>98106</td>\n",
       "      <td>47.5489</td>\n",
       "      <td>-122.363</td>\n",
       "      <td>1590</td>\n",
       "      <td>2306</td>\n",
       "    </tr>\n",
       "    <tr>\n",
       "      <th>18690</th>\n",
       "      <td>1737320120</td>\n",
       "      <td>2014-05-02</td>\n",
       "      <td>470000.0</td>\n",
       "      <td>5</td>\n",
       "      <td>2.50</td>\n",
       "      <td>2210</td>\n",
       "      <td>9655</td>\n",
       "      <td>1.0</td>\n",
       "      <td>0</td>\n",
       "      <td>0</td>\n",
       "      <td>...</td>\n",
       "      <td>8</td>\n",
       "      <td>1460</td>\n",
       "      <td>750</td>\n",
       "      <td>1976</td>\n",
       "      <td>0</td>\n",
       "      <td>98011</td>\n",
       "      <td>47.7698</td>\n",
       "      <td>-122.222</td>\n",
       "      <td>2080</td>\n",
       "      <td>8633</td>\n",
       "    </tr>\n",
       "    <tr>\n",
       "      <th>1041</th>\n",
       "      <td>7197300105</td>\n",
       "      <td>2014-05-02</td>\n",
       "      <td>550000.0</td>\n",
       "      <td>4</td>\n",
       "      <td>2.50</td>\n",
       "      <td>1940</td>\n",
       "      <td>10500</td>\n",
       "      <td>1.0</td>\n",
       "      <td>0</td>\n",
       "      <td>0</td>\n",
       "      <td>...</td>\n",
       "      <td>7</td>\n",
       "      <td>1140</td>\n",
       "      <td>800</td>\n",
       "      <td>1976</td>\n",
       "      <td>0</td>\n",
       "      <td>98052</td>\n",
       "      <td>47.6830</td>\n",
       "      <td>-122.114</td>\n",
       "      <td>2200</td>\n",
       "      <td>10500</td>\n",
       "    </tr>\n",
       "    <tr>\n",
       "      <th>172</th>\n",
       "      <td>1999700045</td>\n",
       "      <td>2014-05-02</td>\n",
       "      <td>313000.0</td>\n",
       "      <td>3</td>\n",
       "      <td>1.50</td>\n",
       "      <td>1340</td>\n",
       "      <td>7912</td>\n",
       "      <td>1.5</td>\n",
       "      <td>0</td>\n",
       "      <td>0</td>\n",
       "      <td>...</td>\n",
       "      <td>7</td>\n",
       "      <td>1340</td>\n",
       "      <td>0</td>\n",
       "      <td>1955</td>\n",
       "      <td>0</td>\n",
       "      <td>98133</td>\n",
       "      <td>47.7658</td>\n",
       "      <td>-122.339</td>\n",
       "      <td>1480</td>\n",
       "      <td>7940</td>\n",
       "    </tr>\n",
       "    <tr>\n",
       "      <th>7734</th>\n",
       "      <td>1962200037</td>\n",
       "      <td>2014-05-02</td>\n",
       "      <td>626000.0</td>\n",
       "      <td>3</td>\n",
       "      <td>2.25</td>\n",
       "      <td>1750</td>\n",
       "      <td>1572</td>\n",
       "      <td>2.5</td>\n",
       "      <td>0</td>\n",
       "      <td>0</td>\n",
       "      <td>...</td>\n",
       "      <td>9</td>\n",
       "      <td>1470</td>\n",
       "      <td>280</td>\n",
       "      <td>2005</td>\n",
       "      <td>0</td>\n",
       "      <td>98102</td>\n",
       "      <td>47.6498</td>\n",
       "      <td>-122.321</td>\n",
       "      <td>2410</td>\n",
       "      <td>3050</td>\n",
       "    </tr>\n",
       "    <tr>\n",
       "      <th>5956</th>\n",
       "      <td>3328500250</td>\n",
       "      <td>2014-05-02</td>\n",
       "      <td>285000.0</td>\n",
       "      <td>4</td>\n",
       "      <td>2.50</td>\n",
       "      <td>2200</td>\n",
       "      <td>9397</td>\n",
       "      <td>2.0</td>\n",
       "      <td>0</td>\n",
       "      <td>0</td>\n",
       "      <td>...</td>\n",
       "      <td>8</td>\n",
       "      <td>2200</td>\n",
       "      <td>0</td>\n",
       "      <td>1987</td>\n",
       "      <td>0</td>\n",
       "      <td>98001</td>\n",
       "      <td>47.3406</td>\n",
       "      <td>-122.269</td>\n",
       "      <td>2310</td>\n",
       "      <td>9176</td>\n",
       "    </tr>\n",
       "    <tr>\n",
       "      <th>7942</th>\n",
       "      <td>1088800850</td>\n",
       "      <td>2014-05-02</td>\n",
       "      <td>612500.0</td>\n",
       "      <td>4</td>\n",
       "      <td>2.50</td>\n",
       "      <td>2730</td>\n",
       "      <td>12261</td>\n",
       "      <td>2.0</td>\n",
       "      <td>0</td>\n",
       "      <td>0</td>\n",
       "      <td>...</td>\n",
       "      <td>9</td>\n",
       "      <td>2730</td>\n",
       "      <td>0</td>\n",
       "      <td>1991</td>\n",
       "      <td>0</td>\n",
       "      <td>98011</td>\n",
       "      <td>47.7419</td>\n",
       "      <td>-122.205</td>\n",
       "      <td>2730</td>\n",
       "      <td>10872</td>\n",
       "    </tr>\n",
       "    <tr>\n",
       "      <th>11907</th>\n",
       "      <td>3221059036</td>\n",
       "      <td>2014-05-02</td>\n",
       "      <td>400000.0</td>\n",
       "      <td>4</td>\n",
       "      <td>2.50</td>\n",
       "      <td>3630</td>\n",
       "      <td>42884</td>\n",
       "      <td>1.5</td>\n",
       "      <td>0</td>\n",
       "      <td>0</td>\n",
       "      <td>...</td>\n",
       "      <td>9</td>\n",
       "      <td>2300</td>\n",
       "      <td>1330</td>\n",
       "      <td>1979</td>\n",
       "      <td>0</td>\n",
       "      <td>98092</td>\n",
       "      <td>47.2617</td>\n",
       "      <td>-122.190</td>\n",
       "      <td>2830</td>\n",
       "      <td>80148</td>\n",
       "    </tr>\n",
       "    <tr>\n",
       "      <th>7961</th>\n",
       "      <td>5101405331</td>\n",
       "      <td>2014-05-02</td>\n",
       "      <td>495000.0</td>\n",
       "      <td>4</td>\n",
       "      <td>1.75</td>\n",
       "      <td>1600</td>\n",
       "      <td>6380</td>\n",
       "      <td>1.0</td>\n",
       "      <td>0</td>\n",
       "      <td>0</td>\n",
       "      <td>...</td>\n",
       "      <td>8</td>\n",
       "      <td>1130</td>\n",
       "      <td>470</td>\n",
       "      <td>1959</td>\n",
       "      <td>0</td>\n",
       "      <td>98125</td>\n",
       "      <td>47.7010</td>\n",
       "      <td>-122.306</td>\n",
       "      <td>1090</td>\n",
       "      <td>6380</td>\n",
       "    </tr>\n",
       "    <tr>\n",
       "      <th>16880</th>\n",
       "      <td>6403500290</td>\n",
       "      <td>2014-05-02</td>\n",
       "      <td>407500.0</td>\n",
       "      <td>3</td>\n",
       "      <td>2.50</td>\n",
       "      <td>1930</td>\n",
       "      <td>10460</td>\n",
       "      <td>2.0</td>\n",
       "      <td>0</td>\n",
       "      <td>0</td>\n",
       "      <td>...</td>\n",
       "      <td>8</td>\n",
       "      <td>1930</td>\n",
       "      <td>0</td>\n",
       "      <td>1996</td>\n",
       "      <td>0</td>\n",
       "      <td>98059</td>\n",
       "      <td>47.4938</td>\n",
       "      <td>-122.161</td>\n",
       "      <td>2290</td>\n",
       "      <td>8228</td>\n",
       "    </tr>\n",
       "    <tr>\n",
       "      <th>20149</th>\n",
       "      <td>2771102144</td>\n",
       "      <td>2014-05-02</td>\n",
       "      <td>385000.0</td>\n",
       "      <td>3</td>\n",
       "      <td>3.25</td>\n",
       "      <td>1320</td>\n",
       "      <td>1327</td>\n",
       "      <td>2.0</td>\n",
       "      <td>0</td>\n",
       "      <td>0</td>\n",
       "      <td>...</td>\n",
       "      <td>8</td>\n",
       "      <td>1040</td>\n",
       "      <td>280</td>\n",
       "      <td>2008</td>\n",
       "      <td>0</td>\n",
       "      <td>98199</td>\n",
       "      <td>47.6506</td>\n",
       "      <td>-122.383</td>\n",
       "      <td>1440</td>\n",
       "      <td>1263</td>\n",
       "    </tr>\n",
       "    <tr>\n",
       "      <th>1393</th>\n",
       "      <td>5100401414</td>\n",
       "      <td>2014-05-02</td>\n",
       "      <td>490000.0</td>\n",
       "      <td>2</td>\n",
       "      <td>1.00</td>\n",
       "      <td>880</td>\n",
       "      <td>6380</td>\n",
       "      <td>1.0</td>\n",
       "      <td>0</td>\n",
       "      <td>0</td>\n",
       "      <td>...</td>\n",
       "      <td>7</td>\n",
       "      <td>880</td>\n",
       "      <td>0</td>\n",
       "      <td>1938</td>\n",
       "      <td>1994</td>\n",
       "      <td>98115</td>\n",
       "      <td>47.6924</td>\n",
       "      <td>-122.322</td>\n",
       "      <td>1340</td>\n",
       "      <td>6380</td>\n",
       "    </tr>\n",
       "    <tr>\n",
       "      <th>16923</th>\n",
       "      <td>8673400086</td>\n",
       "      <td>2014-05-02</td>\n",
       "      <td>445700.0</td>\n",
       "      <td>3</td>\n",
       "      <td>2.50</td>\n",
       "      <td>1270</td>\n",
       "      <td>1180</td>\n",
       "      <td>3.0</td>\n",
       "      <td>0</td>\n",
       "      <td>0</td>\n",
       "      <td>...</td>\n",
       "      <td>8</td>\n",
       "      <td>1270</td>\n",
       "      <td>0</td>\n",
       "      <td>2001</td>\n",
       "      <td>0</td>\n",
       "      <td>98107</td>\n",
       "      <td>47.6697</td>\n",
       "      <td>-122.392</td>\n",
       "      <td>1320</td>\n",
       "      <td>1180</td>\n",
       "    </tr>\n",
       "    <tr>\n",
       "      <th>14088</th>\n",
       "      <td>943100683</td>\n",
       "      <td>2014-05-02</td>\n",
       "      <td>335000.0</td>\n",
       "      <td>3</td>\n",
       "      <td>2.25</td>\n",
       "      <td>1580</td>\n",
       "      <td>16215</td>\n",
       "      <td>1.0</td>\n",
       "      <td>0</td>\n",
       "      <td>0</td>\n",
       "      <td>...</td>\n",
       "      <td>7</td>\n",
       "      <td>1580</td>\n",
       "      <td>0</td>\n",
       "      <td>1978</td>\n",
       "      <td>0</td>\n",
       "      <td>98024</td>\n",
       "      <td>47.5643</td>\n",
       "      <td>-121.897</td>\n",
       "      <td>1450</td>\n",
       "      <td>16215</td>\n",
       "    </tr>\n",
       "    <tr>\n",
       "      <th>11891</th>\n",
       "      <td>7305300695</td>\n",
       "      <td>2014-05-02</td>\n",
       "      <td>625000.0</td>\n",
       "      <td>4</td>\n",
       "      <td>2.50</td>\n",
       "      <td>2820</td>\n",
       "      <td>8408</td>\n",
       "      <td>2.0</td>\n",
       "      <td>0</td>\n",
       "      <td>0</td>\n",
       "      <td>...</td>\n",
       "      <td>9</td>\n",
       "      <td>2820</td>\n",
       "      <td>0</td>\n",
       "      <td>2014</td>\n",
       "      <td>0</td>\n",
       "      <td>98155</td>\n",
       "      <td>47.7538</td>\n",
       "      <td>-122.325</td>\n",
       "      <td>1300</td>\n",
       "      <td>8408</td>\n",
       "    </tr>\n",
       "    <tr>\n",
       "      <th>11503</th>\n",
       "      <td>9294300070</td>\n",
       "      <td>2014-05-02</td>\n",
       "      <td>650000.0</td>\n",
       "      <td>4</td>\n",
       "      <td>2.00</td>\n",
       "      <td>1820</td>\n",
       "      <td>5000</td>\n",
       "      <td>1.5</td>\n",
       "      <td>0</td>\n",
       "      <td>1</td>\n",
       "      <td>...</td>\n",
       "      <td>7</td>\n",
       "      <td>1640</td>\n",
       "      <td>180</td>\n",
       "      <td>1945</td>\n",
       "      <td>0</td>\n",
       "      <td>98115</td>\n",
       "      <td>47.6815</td>\n",
       "      <td>-122.269</td>\n",
       "      <td>2060</td>\n",
       "      <td>5000</td>\n",
       "    </tr>\n",
       "    <tr>\n",
       "      <th>3723</th>\n",
       "      <td>7739100015</td>\n",
       "      <td>2014-05-02</td>\n",
       "      <td>463000.0</td>\n",
       "      <td>3</td>\n",
       "      <td>1.75</td>\n",
       "      <td>1710</td>\n",
       "      <td>7320</td>\n",
       "      <td>1.0</td>\n",
       "      <td>0</td>\n",
       "      <td>0</td>\n",
       "      <td>...</td>\n",
       "      <td>7</td>\n",
       "      <td>1710</td>\n",
       "      <td>0</td>\n",
       "      <td>1948</td>\n",
       "      <td>0</td>\n",
       "      <td>98155</td>\n",
       "      <td>47.7512</td>\n",
       "      <td>-122.281</td>\n",
       "      <td>2260</td>\n",
       "      <td>8839</td>\n",
       "    </tr>\n",
       "    <tr>\n",
       "      <th>3714</th>\n",
       "      <td>6127600110</td>\n",
       "      <td>2014-05-02</td>\n",
       "      <td>640000.0</td>\n",
       "      <td>4</td>\n",
       "      <td>2.00</td>\n",
       "      <td>1520</td>\n",
       "      <td>6200</td>\n",
       "      <td>1.5</td>\n",
       "      <td>0</td>\n",
       "      <td>0</td>\n",
       "      <td>...</td>\n",
       "      <td>7</td>\n",
       "      <td>1520</td>\n",
       "      <td>0</td>\n",
       "      <td>1945</td>\n",
       "      <td>0</td>\n",
       "      <td>98115</td>\n",
       "      <td>47.6780</td>\n",
       "      <td>-122.269</td>\n",
       "      <td>1910</td>\n",
       "      <td>6200</td>\n",
       "    </tr>\n",
       "    <tr>\n",
       "      <th>10701</th>\n",
       "      <td>2738600140</td>\n",
       "      <td>2014-05-02</td>\n",
       "      <td>499950.0</td>\n",
       "      <td>4</td>\n",
       "      <td>2.50</td>\n",
       "      <td>2860</td>\n",
       "      <td>3345</td>\n",
       "      <td>2.0</td>\n",
       "      <td>0</td>\n",
       "      <td>0</td>\n",
       "      <td>...</td>\n",
       "      <td>8</td>\n",
       "      <td>2190</td>\n",
       "      <td>670</td>\n",
       "      <td>2004</td>\n",
       "      <td>0</td>\n",
       "      <td>98072</td>\n",
       "      <td>47.7735</td>\n",
       "      <td>-122.158</td>\n",
       "      <td>2860</td>\n",
       "      <td>3596</td>\n",
       "    </tr>\n",
       "    <tr>\n",
       "      <th>21390</th>\n",
       "      <td>3832050580</td>\n",
       "      <td>2014-05-02</td>\n",
       "      <td>300000.0</td>\n",
       "      <td>3</td>\n",
       "      <td>2.50</td>\n",
       "      <td>2540</td>\n",
       "      <td>5050</td>\n",
       "      <td>2.0</td>\n",
       "      <td>0</td>\n",
       "      <td>0</td>\n",
       "      <td>...</td>\n",
       "      <td>7</td>\n",
       "      <td>2540</td>\n",
       "      <td>0</td>\n",
       "      <td>2006</td>\n",
       "      <td>0</td>\n",
       "      <td>98042</td>\n",
       "      <td>47.3358</td>\n",
       "      <td>-122.055</td>\n",
       "      <td>2280</td>\n",
       "      <td>5050</td>\n",
       "    </tr>\n",
       "    <tr>\n",
       "      <th>7323</th>\n",
       "      <td>2202500290</td>\n",
       "      <td>2014-05-02</td>\n",
       "      <td>435000.0</td>\n",
       "      <td>4</td>\n",
       "      <td>1.00</td>\n",
       "      <td>1450</td>\n",
       "      <td>8800</td>\n",
       "      <td>1.0</td>\n",
       "      <td>0</td>\n",
       "      <td>0</td>\n",
       "      <td>...</td>\n",
       "      <td>7</td>\n",
       "      <td>1450</td>\n",
       "      <td>0</td>\n",
       "      <td>1954</td>\n",
       "      <td>0</td>\n",
       "      <td>98006</td>\n",
       "      <td>47.5746</td>\n",
       "      <td>-122.135</td>\n",
       "      <td>1260</td>\n",
       "      <td>8942</td>\n",
       "    </tr>\n",
       "    <tr>\n",
       "      <th>13980</th>\n",
       "      <td>1818800144</td>\n",
       "      <td>2014-05-02</td>\n",
       "      <td>750000.0</td>\n",
       "      <td>3</td>\n",
       "      <td>2.50</td>\n",
       "      <td>2390</td>\n",
       "      <td>6550</td>\n",
       "      <td>1.0</td>\n",
       "      <td>0</td>\n",
       "      <td>2</td>\n",
       "      <td>...</td>\n",
       "      <td>8</td>\n",
       "      <td>1440</td>\n",
       "      <td>950</td>\n",
       "      <td>1955</td>\n",
       "      <td>0</td>\n",
       "      <td>98116</td>\n",
       "      <td>47.5714</td>\n",
       "      <td>-122.408</td>\n",
       "      <td>2010</td>\n",
       "      <td>6550</td>\n",
       "    </tr>\n",
       "    <tr>\n",
       "      <th>15921</th>\n",
       "      <td>7831800460</td>\n",
       "      <td>2014-05-02</td>\n",
       "      <td>235000.0</td>\n",
       "      <td>2</td>\n",
       "      <td>1.00</td>\n",
       "      <td>1210</td>\n",
       "      <td>9400</td>\n",
       "      <td>1.0</td>\n",
       "      <td>0</td>\n",
       "      <td>0</td>\n",
       "      <td>...</td>\n",
       "      <td>6</td>\n",
       "      <td>1210</td>\n",
       "      <td>0</td>\n",
       "      <td>1949</td>\n",
       "      <td>0</td>\n",
       "      <td>98106</td>\n",
       "      <td>47.5342</td>\n",
       "      <td>-122.360</td>\n",
       "      <td>1580</td>\n",
       "      <td>6026</td>\n",
       "    </tr>\n",
       "    <tr>\n",
       "      <th>10246</th>\n",
       "      <td>3876200060</td>\n",
       "      <td>2014-05-02</td>\n",
       "      <td>382500.0</td>\n",
       "      <td>4</td>\n",
       "      <td>1.75</td>\n",
       "      <td>1560</td>\n",
       "      <td>8700</td>\n",
       "      <td>1.0</td>\n",
       "      <td>0</td>\n",
       "      <td>0</td>\n",
       "      <td>...</td>\n",
       "      <td>7</td>\n",
       "      <td>1560</td>\n",
       "      <td>0</td>\n",
       "      <td>1967</td>\n",
       "      <td>0</td>\n",
       "      <td>98034</td>\n",
       "      <td>47.7274</td>\n",
       "      <td>-122.181</td>\n",
       "      <td>2080</td>\n",
       "      <td>8000</td>\n",
       "    </tr>\n",
       "    <tr>\n",
       "      <th>21287</th>\n",
       "      <td>123059127</td>\n",
       "      <td>2014-05-02</td>\n",
       "      <td>625000.0</td>\n",
       "      <td>4</td>\n",
       "      <td>3.25</td>\n",
       "      <td>2730</td>\n",
       "      <td>54014</td>\n",
       "      <td>1.0</td>\n",
       "      <td>0</td>\n",
       "      <td>0</td>\n",
       "      <td>...</td>\n",
       "      <td>9</td>\n",
       "      <td>1560</td>\n",
       "      <td>1170</td>\n",
       "      <td>2007</td>\n",
       "      <td>0</td>\n",
       "      <td>98059</td>\n",
       "      <td>47.5133</td>\n",
       "      <td>-122.110</td>\n",
       "      <td>2730</td>\n",
       "      <td>111274</td>\n",
       "    </tr>\n",
       "    <tr>\n",
       "      <th>...</th>\n",
       "      <td>...</td>\n",
       "      <td>...</td>\n",
       "      <td>...</td>\n",
       "      <td>...</td>\n",
       "      <td>...</td>\n",
       "      <td>...</td>\n",
       "      <td>...</td>\n",
       "      <td>...</td>\n",
       "      <td>...</td>\n",
       "      <td>...</td>\n",
       "      <td>...</td>\n",
       "      <td>...</td>\n",
       "      <td>...</td>\n",
       "      <td>...</td>\n",
       "      <td>...</td>\n",
       "      <td>...</td>\n",
       "      <td>...</td>\n",
       "      <td>...</td>\n",
       "      <td>...</td>\n",
       "      <td>...</td>\n",
       "      <td>...</td>\n",
       "    </tr>\n",
       "    <tr>\n",
       "      <th>7894</th>\n",
       "      <td>2122049013</td>\n",
       "      <td>2015-05-13</td>\n",
       "      <td>204750.0</td>\n",
       "      <td>2</td>\n",
       "      <td>1.00</td>\n",
       "      <td>880</td>\n",
       "      <td>7575</td>\n",
       "      <td>1.0</td>\n",
       "      <td>0</td>\n",
       "      <td>0</td>\n",
       "      <td>...</td>\n",
       "      <td>7</td>\n",
       "      <td>880</td>\n",
       "      <td>0</td>\n",
       "      <td>1942</td>\n",
       "      <td>0</td>\n",
       "      <td>98198</td>\n",
       "      <td>47.3757</td>\n",
       "      <td>-122.304</td>\n",
       "      <td>1800</td>\n",
       "      <td>7575</td>\n",
       "    </tr>\n",
       "    <tr>\n",
       "      <th>11875</th>\n",
       "      <td>9567800435</td>\n",
       "      <td>2015-05-13</td>\n",
       "      <td>465000.0</td>\n",
       "      <td>4</td>\n",
       "      <td>1.75</td>\n",
       "      <td>1640</td>\n",
       "      <td>7194</td>\n",
       "      <td>1.5</td>\n",
       "      <td>0</td>\n",
       "      <td>0</td>\n",
       "      <td>...</td>\n",
       "      <td>7</td>\n",
       "      <td>1480</td>\n",
       "      <td>160</td>\n",
       "      <td>1915</td>\n",
       "      <td>0</td>\n",
       "      <td>98011</td>\n",
       "      <td>47.7649</td>\n",
       "      <td>-122.205</td>\n",
       "      <td>1440</td>\n",
       "      <td>9405</td>\n",
       "    </tr>\n",
       "    <tr>\n",
       "      <th>3067</th>\n",
       "      <td>6145600900</td>\n",
       "      <td>2015-05-13</td>\n",
       "      <td>325000.0</td>\n",
       "      <td>2</td>\n",
       "      <td>2.50</td>\n",
       "      <td>1170</td>\n",
       "      <td>1638</td>\n",
       "      <td>2.0</td>\n",
       "      <td>0</td>\n",
       "      <td>0</td>\n",
       "      <td>...</td>\n",
       "      <td>8</td>\n",
       "      <td>1170</td>\n",
       "      <td>0</td>\n",
       "      <td>2008</td>\n",
       "      <td>0</td>\n",
       "      <td>98133</td>\n",
       "      <td>47.7041</td>\n",
       "      <td>-122.351</td>\n",
       "      <td>1350</td>\n",
       "      <td>1407</td>\n",
       "    </tr>\n",
       "    <tr>\n",
       "      <th>5746</th>\n",
       "      <td>9542801310</td>\n",
       "      <td>2015-05-13</td>\n",
       "      <td>267000.0</td>\n",
       "      <td>3</td>\n",
       "      <td>2.25</td>\n",
       "      <td>2510</td>\n",
       "      <td>9900</td>\n",
       "      <td>1.0</td>\n",
       "      <td>0</td>\n",
       "      <td>0</td>\n",
       "      <td>...</td>\n",
       "      <td>8</td>\n",
       "      <td>1610</td>\n",
       "      <td>900</td>\n",
       "      <td>1978</td>\n",
       "      <td>0</td>\n",
       "      <td>98023</td>\n",
       "      <td>47.2988</td>\n",
       "      <td>-122.374</td>\n",
       "      <td>1940</td>\n",
       "      <td>8510</td>\n",
       "    </tr>\n",
       "    <tr>\n",
       "      <th>9647</th>\n",
       "      <td>5634500234</td>\n",
       "      <td>2015-05-13</td>\n",
       "      <td>554990.0</td>\n",
       "      <td>3</td>\n",
       "      <td>2.50</td>\n",
       "      <td>2100</td>\n",
       "      <td>6092</td>\n",
       "      <td>2.0</td>\n",
       "      <td>0</td>\n",
       "      <td>0</td>\n",
       "      <td>...</td>\n",
       "      <td>8</td>\n",
       "      <td>2100</td>\n",
       "      <td>0</td>\n",
       "      <td>2013</td>\n",
       "      <td>0</td>\n",
       "      <td>98028</td>\n",
       "      <td>47.7508</td>\n",
       "      <td>-122.239</td>\n",
       "      <td>2250</td>\n",
       "      <td>8592</td>\n",
       "    </tr>\n",
       "    <tr>\n",
       "      <th>3770</th>\n",
       "      <td>2112700600</td>\n",
       "      <td>2015-05-13</td>\n",
       "      <td>415000.0</td>\n",
       "      <td>3</td>\n",
       "      <td>2.25</td>\n",
       "      <td>1640</td>\n",
       "      <td>5880</td>\n",
       "      <td>1.0</td>\n",
       "      <td>0</td>\n",
       "      <td>0</td>\n",
       "      <td>...</td>\n",
       "      <td>7</td>\n",
       "      <td>1240</td>\n",
       "      <td>400</td>\n",
       "      <td>1977</td>\n",
       "      <td>0</td>\n",
       "      <td>98106</td>\n",
       "      <td>47.5323</td>\n",
       "      <td>-122.351</td>\n",
       "      <td>1200</td>\n",
       "      <td>4760</td>\n",
       "    </tr>\n",
       "    <tr>\n",
       "      <th>21088</th>\n",
       "      <td>2867300170</td>\n",
       "      <td>2015-05-13</td>\n",
       "      <td>498000.0</td>\n",
       "      <td>4</td>\n",
       "      <td>2.50</td>\n",
       "      <td>3402</td>\n",
       "      <td>14355</td>\n",
       "      <td>2.0</td>\n",
       "      <td>0</td>\n",
       "      <td>0</td>\n",
       "      <td>...</td>\n",
       "      <td>10</td>\n",
       "      <td>2846</td>\n",
       "      <td>556</td>\n",
       "      <td>2014</td>\n",
       "      <td>0</td>\n",
       "      <td>98023</td>\n",
       "      <td>47.3009</td>\n",
       "      <td>-122.385</td>\n",
       "      <td>3402</td>\n",
       "      <td>8487</td>\n",
       "    </tr>\n",
       "    <tr>\n",
       "      <th>17501</th>\n",
       "      <td>3764650010</td>\n",
       "      <td>2015-05-13</td>\n",
       "      <td>500000.0</td>\n",
       "      <td>3</td>\n",
       "      <td>2.50</td>\n",
       "      <td>2300</td>\n",
       "      <td>4307</td>\n",
       "      <td>2.0</td>\n",
       "      <td>0</td>\n",
       "      <td>0</td>\n",
       "      <td>...</td>\n",
       "      <td>8</td>\n",
       "      <td>2300</td>\n",
       "      <td>0</td>\n",
       "      <td>1998</td>\n",
       "      <td>0</td>\n",
       "      <td>98034</td>\n",
       "      <td>47.7326</td>\n",
       "      <td>-122.197</td>\n",
       "      <td>2010</td>\n",
       "      <td>4307</td>\n",
       "    </tr>\n",
       "    <tr>\n",
       "      <th>8625</th>\n",
       "      <td>2568200610</td>\n",
       "      <td>2015-05-13</td>\n",
       "      <td>751000.0</td>\n",
       "      <td>5</td>\n",
       "      <td>2.75</td>\n",
       "      <td>2860</td>\n",
       "      <td>5280</td>\n",
       "      <td>2.0</td>\n",
       "      <td>0</td>\n",
       "      <td>0</td>\n",
       "      <td>...</td>\n",
       "      <td>9</td>\n",
       "      <td>2860</td>\n",
       "      <td>0</td>\n",
       "      <td>2006</td>\n",
       "      <td>0</td>\n",
       "      <td>98052</td>\n",
       "      <td>47.7070</td>\n",
       "      <td>-122.102</td>\n",
       "      <td>3150</td>\n",
       "      <td>6442</td>\n",
       "    </tr>\n",
       "    <tr>\n",
       "      <th>8482</th>\n",
       "      <td>7399000360</td>\n",
       "      <td>2015-05-13</td>\n",
       "      <td>330000.0</td>\n",
       "      <td>4</td>\n",
       "      <td>1.75</td>\n",
       "      <td>1720</td>\n",
       "      <td>8300</td>\n",
       "      <td>1.0</td>\n",
       "      <td>0</td>\n",
       "      <td>0</td>\n",
       "      <td>...</td>\n",
       "      <td>8</td>\n",
       "      <td>1720</td>\n",
       "      <td>0</td>\n",
       "      <td>1965</td>\n",
       "      <td>0</td>\n",
       "      <td>98055</td>\n",
       "      <td>47.4654</td>\n",
       "      <td>-122.194</td>\n",
       "      <td>1840</td>\n",
       "      <td>8300</td>\n",
       "    </tr>\n",
       "    <tr>\n",
       "      <th>817</th>\n",
       "      <td>1922059135</td>\n",
       "      <td>2015-05-13</td>\n",
       "      <td>250000.0</td>\n",
       "      <td>2</td>\n",
       "      <td>2.00</td>\n",
       "      <td>1130</td>\n",
       "      <td>5500</td>\n",
       "      <td>1.0</td>\n",
       "      <td>0</td>\n",
       "      <td>0</td>\n",
       "      <td>...</td>\n",
       "      <td>6</td>\n",
       "      <td>1130</td>\n",
       "      <td>0</td>\n",
       "      <td>1941</td>\n",
       "      <td>0</td>\n",
       "      <td>98030</td>\n",
       "      <td>47.3839</td>\n",
       "      <td>-122.225</td>\n",
       "      <td>1320</td>\n",
       "      <td>6600</td>\n",
       "    </tr>\n",
       "    <tr>\n",
       "      <th>1097</th>\n",
       "      <td>5457300478</td>\n",
       "      <td>2015-05-13</td>\n",
       "      <td>453500.0</td>\n",
       "      <td>2</td>\n",
       "      <td>1.75</td>\n",
       "      <td>1000</td>\n",
       "      <td>1760</td>\n",
       "      <td>1.0</td>\n",
       "      <td>0</td>\n",
       "      <td>0</td>\n",
       "      <td>...</td>\n",
       "      <td>6</td>\n",
       "      <td>600</td>\n",
       "      <td>400</td>\n",
       "      <td>1924</td>\n",
       "      <td>0</td>\n",
       "      <td>98109</td>\n",
       "      <td>47.6261</td>\n",
       "      <td>-122.355</td>\n",
       "      <td>2120</td>\n",
       "      <td>2802</td>\n",
       "    </tr>\n",
       "    <tr>\n",
       "      <th>19516</th>\n",
       "      <td>3649100015</td>\n",
       "      <td>2015-05-13</td>\n",
       "      <td>480000.0</td>\n",
       "      <td>3</td>\n",
       "      <td>2.25</td>\n",
       "      <td>1820</td>\n",
       "      <td>15000</td>\n",
       "      <td>1.0</td>\n",
       "      <td>0</td>\n",
       "      <td>0</td>\n",
       "      <td>...</td>\n",
       "      <td>7</td>\n",
       "      <td>1480</td>\n",
       "      <td>340</td>\n",
       "      <td>1978</td>\n",
       "      <td>0</td>\n",
       "      <td>98028</td>\n",
       "      <td>47.7401</td>\n",
       "      <td>-122.249</td>\n",
       "      <td>1930</td>\n",
       "      <td>13600</td>\n",
       "    </tr>\n",
       "    <tr>\n",
       "      <th>6441</th>\n",
       "      <td>2698200010</td>\n",
       "      <td>2015-05-13</td>\n",
       "      <td>165000.0</td>\n",
       "      <td>3</td>\n",
       "      <td>1.00</td>\n",
       "      <td>1380</td>\n",
       "      <td>7334</td>\n",
       "      <td>1.0</td>\n",
       "      <td>0</td>\n",
       "      <td>0</td>\n",
       "      <td>...</td>\n",
       "      <td>7</td>\n",
       "      <td>980</td>\n",
       "      <td>400</td>\n",
       "      <td>1981</td>\n",
       "      <td>0</td>\n",
       "      <td>98055</td>\n",
       "      <td>47.4339</td>\n",
       "      <td>-122.192</td>\n",
       "      <td>1910</td>\n",
       "      <td>7859</td>\n",
       "    </tr>\n",
       "    <tr>\n",
       "      <th>7350</th>\n",
       "      <td>1604590190</td>\n",
       "      <td>2015-05-13</td>\n",
       "      <td>775000.0</td>\n",
       "      <td>5</td>\n",
       "      <td>3.50</td>\n",
       "      <td>3730</td>\n",
       "      <td>16679</td>\n",
       "      <td>1.0</td>\n",
       "      <td>0</td>\n",
       "      <td>0</td>\n",
       "      <td>...</td>\n",
       "      <td>10</td>\n",
       "      <td>2760</td>\n",
       "      <td>970</td>\n",
       "      <td>1990</td>\n",
       "      <td>0</td>\n",
       "      <td>98075</td>\n",
       "      <td>47.5987</td>\n",
       "      <td>-122.029</td>\n",
       "      <td>3280</td>\n",
       "      <td>16679</td>\n",
       "    </tr>\n",
       "    <tr>\n",
       "      <th>837</th>\n",
       "      <td>8682262400</td>\n",
       "      <td>2015-05-13</td>\n",
       "      <td>419950.0</td>\n",
       "      <td>2</td>\n",
       "      <td>1.75</td>\n",
       "      <td>1350</td>\n",
       "      <td>4003</td>\n",
       "      <td>1.0</td>\n",
       "      <td>0</td>\n",
       "      <td>0</td>\n",
       "      <td>...</td>\n",
       "      <td>8</td>\n",
       "      <td>1350</td>\n",
       "      <td>0</td>\n",
       "      <td>2004</td>\n",
       "      <td>0</td>\n",
       "      <td>98053</td>\n",
       "      <td>47.7176</td>\n",
       "      <td>-122.033</td>\n",
       "      <td>1350</td>\n",
       "      <td>4479</td>\n",
       "    </tr>\n",
       "    <tr>\n",
       "      <th>21450</th>\n",
       "      <td>8562790720</td>\n",
       "      <td>2015-05-14</td>\n",
       "      <td>749950.0</td>\n",
       "      <td>4</td>\n",
       "      <td>3.50</td>\n",
       "      <td>2630</td>\n",
       "      <td>3757</td>\n",
       "      <td>2.0</td>\n",
       "      <td>0</td>\n",
       "      <td>0</td>\n",
       "      <td>...</td>\n",
       "      <td>10</td>\n",
       "      <td>2200</td>\n",
       "      <td>430</td>\n",
       "      <td>2008</td>\n",
       "      <td>0</td>\n",
       "      <td>98027</td>\n",
       "      <td>47.5322</td>\n",
       "      <td>-122.075</td>\n",
       "      <td>2620</td>\n",
       "      <td>2699</td>\n",
       "    </tr>\n",
       "    <tr>\n",
       "      <th>20472</th>\n",
       "      <td>5057100110</td>\n",
       "      <td>2015-05-14</td>\n",
       "      <td>479349.0</td>\n",
       "      <td>5</td>\n",
       "      <td>3.00</td>\n",
       "      <td>3223</td>\n",
       "      <td>6371</td>\n",
       "      <td>2.0</td>\n",
       "      <td>0</td>\n",
       "      <td>0</td>\n",
       "      <td>...</td>\n",
       "      <td>9</td>\n",
       "      <td>3223</td>\n",
       "      <td>0</td>\n",
       "      <td>2014</td>\n",
       "      <td>0</td>\n",
       "      <td>98042</td>\n",
       "      <td>47.3584</td>\n",
       "      <td>-122.163</td>\n",
       "      <td>1979</td>\n",
       "      <td>9008</td>\n",
       "    </tr>\n",
       "    <tr>\n",
       "      <th>15811</th>\n",
       "      <td>7129304540</td>\n",
       "      <td>2015-05-14</td>\n",
       "      <td>440000.0</td>\n",
       "      <td>5</td>\n",
       "      <td>2.00</td>\n",
       "      <td>1430</td>\n",
       "      <td>5600</td>\n",
       "      <td>1.5</td>\n",
       "      <td>0</td>\n",
       "      <td>0</td>\n",
       "      <td>...</td>\n",
       "      <td>6</td>\n",
       "      <td>1430</td>\n",
       "      <td>0</td>\n",
       "      <td>1947</td>\n",
       "      <td>0</td>\n",
       "      <td>98118</td>\n",
       "      <td>47.5192</td>\n",
       "      <td>-122.266</td>\n",
       "      <td>1860</td>\n",
       "      <td>5980</td>\n",
       "    </tr>\n",
       "    <tr>\n",
       "      <th>7224</th>\n",
       "      <td>1786200010</td>\n",
       "      <td>2015-05-14</td>\n",
       "      <td>456500.0</td>\n",
       "      <td>4</td>\n",
       "      <td>2.50</td>\n",
       "      <td>2580</td>\n",
       "      <td>11780</td>\n",
       "      <td>2.0</td>\n",
       "      <td>0</td>\n",
       "      <td>0</td>\n",
       "      <td>...</td>\n",
       "      <td>9</td>\n",
       "      <td>2580</td>\n",
       "      <td>0</td>\n",
       "      <td>2003</td>\n",
       "      <td>0</td>\n",
       "      <td>98038</td>\n",
       "      <td>47.3658</td>\n",
       "      <td>-122.040</td>\n",
       "      <td>2410</td>\n",
       "      <td>8403</td>\n",
       "    </tr>\n",
       "    <tr>\n",
       "      <th>6197</th>\n",
       "      <td>9178601660</td>\n",
       "      <td>2015-05-14</td>\n",
       "      <td>1695000.0</td>\n",
       "      <td>5</td>\n",
       "      <td>3.00</td>\n",
       "      <td>3320</td>\n",
       "      <td>5354</td>\n",
       "      <td>2.0</td>\n",
       "      <td>0</td>\n",
       "      <td>0</td>\n",
       "      <td>...</td>\n",
       "      <td>9</td>\n",
       "      <td>3320</td>\n",
       "      <td>0</td>\n",
       "      <td>2004</td>\n",
       "      <td>0</td>\n",
       "      <td>98103</td>\n",
       "      <td>47.6542</td>\n",
       "      <td>-122.331</td>\n",
       "      <td>2330</td>\n",
       "      <td>4040</td>\n",
       "    </tr>\n",
       "    <tr>\n",
       "      <th>12635</th>\n",
       "      <td>4166600610</td>\n",
       "      <td>2015-05-14</td>\n",
       "      <td>335000.0</td>\n",
       "      <td>3</td>\n",
       "      <td>2.00</td>\n",
       "      <td>1410</td>\n",
       "      <td>44866</td>\n",
       "      <td>1.0</td>\n",
       "      <td>0</td>\n",
       "      <td>0</td>\n",
       "      <td>...</td>\n",
       "      <td>7</td>\n",
       "      <td>1410</td>\n",
       "      <td>0</td>\n",
       "      <td>1985</td>\n",
       "      <td>0</td>\n",
       "      <td>98023</td>\n",
       "      <td>47.3273</td>\n",
       "      <td>-122.370</td>\n",
       "      <td>2950</td>\n",
       "      <td>29152</td>\n",
       "    </tr>\n",
       "    <tr>\n",
       "      <th>19396</th>\n",
       "      <td>8149600265</td>\n",
       "      <td>2015-05-14</td>\n",
       "      <td>725000.0</td>\n",
       "      <td>4</td>\n",
       "      <td>1.75</td>\n",
       "      <td>1980</td>\n",
       "      <td>5850</td>\n",
       "      <td>1.0</td>\n",
       "      <td>0</td>\n",
       "      <td>1</td>\n",
       "      <td>...</td>\n",
       "      <td>8</td>\n",
       "      <td>1380</td>\n",
       "      <td>600</td>\n",
       "      <td>1960</td>\n",
       "      <td>0</td>\n",
       "      <td>98116</td>\n",
       "      <td>47.5607</td>\n",
       "      <td>-122.391</td>\n",
       "      <td>1810</td>\n",
       "      <td>5850</td>\n",
       "    </tr>\n",
       "    <tr>\n",
       "      <th>11560</th>\n",
       "      <td>6752600320</td>\n",
       "      <td>2015-05-14</td>\n",
       "      <td>360000.0</td>\n",
       "      <td>4</td>\n",
       "      <td>2.50</td>\n",
       "      <td>2020</td>\n",
       "      <td>7289</td>\n",
       "      <td>2.0</td>\n",
       "      <td>0</td>\n",
       "      <td>0</td>\n",
       "      <td>...</td>\n",
       "      <td>7</td>\n",
       "      <td>2020</td>\n",
       "      <td>0</td>\n",
       "      <td>1994</td>\n",
       "      <td>0</td>\n",
       "      <td>98031</td>\n",
       "      <td>47.4010</td>\n",
       "      <td>-122.171</td>\n",
       "      <td>2090</td>\n",
       "      <td>7259</td>\n",
       "    </tr>\n",
       "    <tr>\n",
       "      <th>17397</th>\n",
       "      <td>6815100380</td>\n",
       "      <td>2015-05-14</td>\n",
       "      <td>855000.0</td>\n",
       "      <td>3</td>\n",
       "      <td>1.75</td>\n",
       "      <td>1900</td>\n",
       "      <td>4000</td>\n",
       "      <td>1.0</td>\n",
       "      <td>0</td>\n",
       "      <td>0</td>\n",
       "      <td>...</td>\n",
       "      <td>7</td>\n",
       "      <td>1300</td>\n",
       "      <td>600</td>\n",
       "      <td>1965</td>\n",
       "      <td>0</td>\n",
       "      <td>98103</td>\n",
       "      <td>47.6854</td>\n",
       "      <td>-122.331</td>\n",
       "      <td>1880</td>\n",
       "      <td>4000</td>\n",
       "    </tr>\n",
       "    <tr>\n",
       "      <th>7898</th>\n",
       "      <td>1422700040</td>\n",
       "      <td>2015-05-14</td>\n",
       "      <td>183000.0</td>\n",
       "      <td>3</td>\n",
       "      <td>1.00</td>\n",
       "      <td>1170</td>\n",
       "      <td>7320</td>\n",
       "      <td>1.0</td>\n",
       "      <td>0</td>\n",
       "      <td>0</td>\n",
       "      <td>...</td>\n",
       "      <td>7</td>\n",
       "      <td>1170</td>\n",
       "      <td>0</td>\n",
       "      <td>1962</td>\n",
       "      <td>0</td>\n",
       "      <td>98188</td>\n",
       "      <td>47.4685</td>\n",
       "      <td>-122.282</td>\n",
       "      <td>2040</td>\n",
       "      <td>7320</td>\n",
       "    </tr>\n",
       "    <tr>\n",
       "      <th>928</th>\n",
       "      <td>8730000270</td>\n",
       "      <td>2015-05-14</td>\n",
       "      <td>359000.0</td>\n",
       "      <td>2</td>\n",
       "      <td>2.75</td>\n",
       "      <td>1370</td>\n",
       "      <td>1140</td>\n",
       "      <td>2.0</td>\n",
       "      <td>0</td>\n",
       "      <td>0</td>\n",
       "      <td>...</td>\n",
       "      <td>8</td>\n",
       "      <td>1080</td>\n",
       "      <td>290</td>\n",
       "      <td>2009</td>\n",
       "      <td>0</td>\n",
       "      <td>98133</td>\n",
       "      <td>47.7052</td>\n",
       "      <td>-122.343</td>\n",
       "      <td>1370</td>\n",
       "      <td>1090</td>\n",
       "    </tr>\n",
       "    <tr>\n",
       "      <th>5637</th>\n",
       "      <td>7923600250</td>\n",
       "      <td>2015-05-15</td>\n",
       "      <td>450000.0</td>\n",
       "      <td>5</td>\n",
       "      <td>2.00</td>\n",
       "      <td>1870</td>\n",
       "      <td>7344</td>\n",
       "      <td>1.5</td>\n",
       "      <td>0</td>\n",
       "      <td>0</td>\n",
       "      <td>...</td>\n",
       "      <td>7</td>\n",
       "      <td>1870</td>\n",
       "      <td>0</td>\n",
       "      <td>1960</td>\n",
       "      <td>0</td>\n",
       "      <td>98007</td>\n",
       "      <td>47.5951</td>\n",
       "      <td>-122.144</td>\n",
       "      <td>1870</td>\n",
       "      <td>7650</td>\n",
       "    </tr>\n",
       "    <tr>\n",
       "      <th>13053</th>\n",
       "      <td>5101400871</td>\n",
       "      <td>2015-05-24</td>\n",
       "      <td>445500.0</td>\n",
       "      <td>2</td>\n",
       "      <td>1.75</td>\n",
       "      <td>1390</td>\n",
       "      <td>6670</td>\n",
       "      <td>1.0</td>\n",
       "      <td>0</td>\n",
       "      <td>0</td>\n",
       "      <td>...</td>\n",
       "      <td>6</td>\n",
       "      <td>720</td>\n",
       "      <td>670</td>\n",
       "      <td>1941</td>\n",
       "      <td>0</td>\n",
       "      <td>98115</td>\n",
       "      <td>47.6914</td>\n",
       "      <td>-122.308</td>\n",
       "      <td>920</td>\n",
       "      <td>6380</td>\n",
       "    </tr>\n",
       "    <tr>\n",
       "      <th>16594</th>\n",
       "      <td>9106000005</td>\n",
       "      <td>2015-05-27</td>\n",
       "      <td>1310000.0</td>\n",
       "      <td>4</td>\n",
       "      <td>2.25</td>\n",
       "      <td>3750</td>\n",
       "      <td>5000</td>\n",
       "      <td>2.0</td>\n",
       "      <td>0</td>\n",
       "      <td>0</td>\n",
       "      <td>...</td>\n",
       "      <td>8</td>\n",
       "      <td>2440</td>\n",
       "      <td>1310</td>\n",
       "      <td>1924</td>\n",
       "      <td>0</td>\n",
       "      <td>98115</td>\n",
       "      <td>47.6747</td>\n",
       "      <td>-122.303</td>\n",
       "      <td>2170</td>\n",
       "      <td>4590</td>\n",
       "    </tr>\n",
       "  </tbody>\n",
       "</table>\n",
       "<p>21613 rows × 21 columns</p>\n",
       "</div>"
      ],
      "text/plain": [
       "               id       date      price  bedrooms  bathrooms  sqft_living  \\\n",
       "16768  5561000190 2014-05-02   437500.0         3       2.25         1970   \n",
       "9596    472000620 2014-05-02   790000.0         3       2.50         2600   \n",
       "9587   1024069009 2014-05-02   675000.0         5       2.50         2820   \n",
       "20602  7853361370 2014-05-02   555000.0         4       2.50         3310   \n",
       "11577  5056500260 2014-05-02   440000.0         4       2.25         2160   \n",
       "20559  3438501320 2014-05-02   295000.0         2       2.50         1630   \n",
       "18690  1737320120 2014-05-02   470000.0         5       2.50         2210   \n",
       "1041   7197300105 2014-05-02   550000.0         4       2.50         1940   \n",
       "172    1999700045 2014-05-02   313000.0         3       1.50         1340   \n",
       "7734   1962200037 2014-05-02   626000.0         3       2.25         1750   \n",
       "5956   3328500250 2014-05-02   285000.0         4       2.50         2200   \n",
       "7942   1088800850 2014-05-02   612500.0         4       2.50         2730   \n",
       "11907  3221059036 2014-05-02   400000.0         4       2.50         3630   \n",
       "7961   5101405331 2014-05-02   495000.0         4       1.75         1600   \n",
       "16880  6403500290 2014-05-02   407500.0         3       2.50         1930   \n",
       "20149  2771102144 2014-05-02   385000.0         3       3.25         1320   \n",
       "1393   5100401414 2014-05-02   490000.0         2       1.00          880   \n",
       "16923  8673400086 2014-05-02   445700.0         3       2.50         1270   \n",
       "14088   943100683 2014-05-02   335000.0         3       2.25         1580   \n",
       "11891  7305300695 2014-05-02   625000.0         4       2.50         2820   \n",
       "11503  9294300070 2014-05-02   650000.0         4       2.00         1820   \n",
       "3723   7739100015 2014-05-02   463000.0         3       1.75         1710   \n",
       "3714   6127600110 2014-05-02   640000.0         4       2.00         1520   \n",
       "10701  2738600140 2014-05-02   499950.0         4       2.50         2860   \n",
       "21390  3832050580 2014-05-02   300000.0         3       2.50         2540   \n",
       "7323   2202500290 2014-05-02   435000.0         4       1.00         1450   \n",
       "13980  1818800144 2014-05-02   750000.0         3       2.50         2390   \n",
       "15921  7831800460 2014-05-02   235000.0         2       1.00         1210   \n",
       "10246  3876200060 2014-05-02   382500.0         4       1.75         1560   \n",
       "21287   123059127 2014-05-02   625000.0         4       3.25         2730   \n",
       "...           ...        ...        ...       ...        ...          ...   \n",
       "7894   2122049013 2015-05-13   204750.0         2       1.00          880   \n",
       "11875  9567800435 2015-05-13   465000.0         4       1.75         1640   \n",
       "3067   6145600900 2015-05-13   325000.0         2       2.50         1170   \n",
       "5746   9542801310 2015-05-13   267000.0         3       2.25         2510   \n",
       "9647   5634500234 2015-05-13   554990.0         3       2.50         2100   \n",
       "3770   2112700600 2015-05-13   415000.0         3       2.25         1640   \n",
       "21088  2867300170 2015-05-13   498000.0         4       2.50         3402   \n",
       "17501  3764650010 2015-05-13   500000.0         3       2.50         2300   \n",
       "8625   2568200610 2015-05-13   751000.0         5       2.75         2860   \n",
       "8482   7399000360 2015-05-13   330000.0         4       1.75         1720   \n",
       "817    1922059135 2015-05-13   250000.0         2       2.00         1130   \n",
       "1097   5457300478 2015-05-13   453500.0         2       1.75         1000   \n",
       "19516  3649100015 2015-05-13   480000.0         3       2.25         1820   \n",
       "6441   2698200010 2015-05-13   165000.0         3       1.00         1380   \n",
       "7350   1604590190 2015-05-13   775000.0         5       3.50         3730   \n",
       "837    8682262400 2015-05-13   419950.0         2       1.75         1350   \n",
       "21450  8562790720 2015-05-14   749950.0         4       3.50         2630   \n",
       "20472  5057100110 2015-05-14   479349.0         5       3.00         3223   \n",
       "15811  7129304540 2015-05-14   440000.0         5       2.00         1430   \n",
       "7224   1786200010 2015-05-14   456500.0         4       2.50         2580   \n",
       "6197   9178601660 2015-05-14  1695000.0         5       3.00         3320   \n",
       "12635  4166600610 2015-05-14   335000.0         3       2.00         1410   \n",
       "19396  8149600265 2015-05-14   725000.0         4       1.75         1980   \n",
       "11560  6752600320 2015-05-14   360000.0         4       2.50         2020   \n",
       "17397  6815100380 2015-05-14   855000.0         3       1.75         1900   \n",
       "7898   1422700040 2015-05-14   183000.0         3       1.00         1170   \n",
       "928    8730000270 2015-05-14   359000.0         2       2.75         1370   \n",
       "5637   7923600250 2015-05-15   450000.0         5       2.00         1870   \n",
       "13053  5101400871 2015-05-24   445500.0         2       1.75         1390   \n",
       "16594  9106000005 2015-05-27  1310000.0         4       2.25         3750   \n",
       "\n",
       "       sqft_lot  floors  waterfront  view     ...      grade  sqft_above  \\\n",
       "16768     35100     2.0           0     0     ...          9        1970   \n",
       "9596       4750     1.0           0     0     ...          9        1700   \n",
       "9587      67518     2.0           0     0     ...          8        2820   \n",
       "20602      6500     2.0           0     0     ...          8        3310   \n",
       "11577      8119     1.0           0     0     ...          8        1080   \n",
       "20559      1368     2.0           0     0     ...          7        1280   \n",
       "18690      9655     1.0           0     0     ...          8        1460   \n",
       "1041      10500     1.0           0     0     ...          7        1140   \n",
       "172        7912     1.5           0     0     ...          7        1340   \n",
       "7734       1572     2.5           0     0     ...          9        1470   \n",
       "5956       9397     2.0           0     0     ...          8        2200   \n",
       "7942      12261     2.0           0     0     ...          9        2730   \n",
       "11907     42884     1.5           0     0     ...          9        2300   \n",
       "7961       6380     1.0           0     0     ...          8        1130   \n",
       "16880     10460     2.0           0     0     ...          8        1930   \n",
       "20149      1327     2.0           0     0     ...          8        1040   \n",
       "1393       6380     1.0           0     0     ...          7         880   \n",
       "16923      1180     3.0           0     0     ...          8        1270   \n",
       "14088     16215     1.0           0     0     ...          7        1580   \n",
       "11891      8408     2.0           0     0     ...          9        2820   \n",
       "11503      5000     1.5           0     1     ...          7        1640   \n",
       "3723       7320     1.0           0     0     ...          7        1710   \n",
       "3714       6200     1.5           0     0     ...          7        1520   \n",
       "10701      3345     2.0           0     0     ...          8        2190   \n",
       "21390      5050     2.0           0     0     ...          7        2540   \n",
       "7323       8800     1.0           0     0     ...          7        1450   \n",
       "13980      6550     1.0           0     2     ...          8        1440   \n",
       "15921      9400     1.0           0     0     ...          6        1210   \n",
       "10246      8700     1.0           0     0     ...          7        1560   \n",
       "21287     54014     1.0           0     0     ...          9        1560   \n",
       "...         ...     ...         ...   ...     ...        ...         ...   \n",
       "7894       7575     1.0           0     0     ...          7         880   \n",
       "11875      7194     1.5           0     0     ...          7        1480   \n",
       "3067       1638     2.0           0     0     ...          8        1170   \n",
       "5746       9900     1.0           0     0     ...          8        1610   \n",
       "9647       6092     2.0           0     0     ...          8        2100   \n",
       "3770       5880     1.0           0     0     ...          7        1240   \n",
       "21088     14355     2.0           0     0     ...         10        2846   \n",
       "17501      4307     2.0           0     0     ...          8        2300   \n",
       "8625       5280     2.0           0     0     ...          9        2860   \n",
       "8482       8300     1.0           0     0     ...          8        1720   \n",
       "817        5500     1.0           0     0     ...          6        1130   \n",
       "1097       1760     1.0           0     0     ...          6         600   \n",
       "19516     15000     1.0           0     0     ...          7        1480   \n",
       "6441       7334     1.0           0     0     ...          7         980   \n",
       "7350      16679     1.0           0     0     ...         10        2760   \n",
       "837        4003     1.0           0     0     ...          8        1350   \n",
       "21450      3757     2.0           0     0     ...         10        2200   \n",
       "20472      6371     2.0           0     0     ...          9        3223   \n",
       "15811      5600     1.5           0     0     ...          6        1430   \n",
       "7224      11780     2.0           0     0     ...          9        2580   \n",
       "6197       5354     2.0           0     0     ...          9        3320   \n",
       "12635     44866     1.0           0     0     ...          7        1410   \n",
       "19396      5850     1.0           0     1     ...          8        1380   \n",
       "11560      7289     2.0           0     0     ...          7        2020   \n",
       "17397      4000     1.0           0     0     ...          7        1300   \n",
       "7898       7320     1.0           0     0     ...          7        1170   \n",
       "928        1140     2.0           0     0     ...          8        1080   \n",
       "5637       7344     1.5           0     0     ...          7        1870   \n",
       "13053      6670     1.0           0     0     ...          6         720   \n",
       "16594      5000     2.0           0     0     ...          8        2440   \n",
       "\n",
       "       sqft_basement  yr_built  yr_renovated  zipcode      lat     long  \\\n",
       "16768              0      1977             0    98027  47.4635 -121.991   \n",
       "9596             900      1951             0    98117  47.6833 -122.400   \n",
       "9587               0      1979             0    98029  47.5794 -122.025   \n",
       "20602              0      2012             0    98065  47.5150 -121.870   \n",
       "11577           1080      1966             0    98006  47.5443 -122.177   \n",
       "20559            350      2009             0    98106  47.5489 -122.363   \n",
       "18690            750      1976             0    98011  47.7698 -122.222   \n",
       "1041             800      1976             0    98052  47.6830 -122.114   \n",
       "172                0      1955             0    98133  47.7658 -122.339   \n",
       "7734             280      2005             0    98102  47.6498 -122.321   \n",
       "5956               0      1987             0    98001  47.3406 -122.269   \n",
       "7942               0      1991             0    98011  47.7419 -122.205   \n",
       "11907           1330      1979             0    98092  47.2617 -122.190   \n",
       "7961             470      1959             0    98125  47.7010 -122.306   \n",
       "16880              0      1996             0    98059  47.4938 -122.161   \n",
       "20149            280      2008             0    98199  47.6506 -122.383   \n",
       "1393               0      1938          1994    98115  47.6924 -122.322   \n",
       "16923              0      2001             0    98107  47.6697 -122.392   \n",
       "14088              0      1978             0    98024  47.5643 -121.897   \n",
       "11891              0      2014             0    98155  47.7538 -122.325   \n",
       "11503            180      1945             0    98115  47.6815 -122.269   \n",
       "3723               0      1948             0    98155  47.7512 -122.281   \n",
       "3714               0      1945             0    98115  47.6780 -122.269   \n",
       "10701            670      2004             0    98072  47.7735 -122.158   \n",
       "21390              0      2006             0    98042  47.3358 -122.055   \n",
       "7323               0      1954             0    98006  47.5746 -122.135   \n",
       "13980            950      1955             0    98116  47.5714 -122.408   \n",
       "15921              0      1949             0    98106  47.5342 -122.360   \n",
       "10246              0      1967             0    98034  47.7274 -122.181   \n",
       "21287           1170      2007             0    98059  47.5133 -122.110   \n",
       "...              ...       ...           ...      ...      ...      ...   \n",
       "7894               0      1942             0    98198  47.3757 -122.304   \n",
       "11875            160      1915             0    98011  47.7649 -122.205   \n",
       "3067               0      2008             0    98133  47.7041 -122.351   \n",
       "5746             900      1978             0    98023  47.2988 -122.374   \n",
       "9647               0      2013             0    98028  47.7508 -122.239   \n",
       "3770             400      1977             0    98106  47.5323 -122.351   \n",
       "21088            556      2014             0    98023  47.3009 -122.385   \n",
       "17501              0      1998             0    98034  47.7326 -122.197   \n",
       "8625               0      2006             0    98052  47.7070 -122.102   \n",
       "8482               0      1965             0    98055  47.4654 -122.194   \n",
       "817                0      1941             0    98030  47.3839 -122.225   \n",
       "1097             400      1924             0    98109  47.6261 -122.355   \n",
       "19516            340      1978             0    98028  47.7401 -122.249   \n",
       "6441             400      1981             0    98055  47.4339 -122.192   \n",
       "7350             970      1990             0    98075  47.5987 -122.029   \n",
       "837                0      2004             0    98053  47.7176 -122.033   \n",
       "21450            430      2008             0    98027  47.5322 -122.075   \n",
       "20472              0      2014             0    98042  47.3584 -122.163   \n",
       "15811              0      1947             0    98118  47.5192 -122.266   \n",
       "7224               0      2003             0    98038  47.3658 -122.040   \n",
       "6197               0      2004             0    98103  47.6542 -122.331   \n",
       "12635              0      1985             0    98023  47.3273 -122.370   \n",
       "19396            600      1960             0    98116  47.5607 -122.391   \n",
       "11560              0      1994             0    98031  47.4010 -122.171   \n",
       "17397            600      1965             0    98103  47.6854 -122.331   \n",
       "7898               0      1962             0    98188  47.4685 -122.282   \n",
       "928              290      2009             0    98133  47.7052 -122.343   \n",
       "5637               0      1960             0    98007  47.5951 -122.144   \n",
       "13053            670      1941             0    98115  47.6914 -122.308   \n",
       "16594           1310      1924             0    98115  47.6747 -122.303   \n",
       "\n",
       "       sqft_living15  sqft_lot15  \n",
       "16768           2340       35100  \n",
       "9596            2380        4750  \n",
       "9587            2820       48351  \n",
       "20602           2380        5000  \n",
       "11577           1850        9000  \n",
       "20559           1590        2306  \n",
       "18690           2080        8633  \n",
       "1041            2200       10500  \n",
       "172             1480        7940  \n",
       "7734            2410        3050  \n",
       "5956            2310        9176  \n",
       "7942            2730       10872  \n",
       "11907           2830       80148  \n",
       "7961            1090        6380  \n",
       "16880           2290        8228  \n",
       "20149           1440        1263  \n",
       "1393            1340        6380  \n",
       "16923           1320        1180  \n",
       "14088           1450       16215  \n",
       "11891           1300        8408  \n",
       "11503           2060        5000  \n",
       "3723            2260        8839  \n",
       "3714            1910        6200  \n",
       "10701           2860        3596  \n",
       "21390           2280        5050  \n",
       "7323            1260        8942  \n",
       "13980           2010        6550  \n",
       "15921           1580        6026  \n",
       "10246           2080        8000  \n",
       "21287           2730      111274  \n",
       "...              ...         ...  \n",
       "7894            1800        7575  \n",
       "11875           1440        9405  \n",
       "3067            1350        1407  \n",
       "5746            1940        8510  \n",
       "9647            2250        8592  \n",
       "3770            1200        4760  \n",
       "21088           3402        8487  \n",
       "17501           2010        4307  \n",
       "8625            3150        6442  \n",
       "8482            1840        8300  \n",
       "817             1320        6600  \n",
       "1097            2120        2802  \n",
       "19516           1930       13600  \n",
       "6441            1910        7859  \n",
       "7350            3280       16679  \n",
       "837             1350        4479  \n",
       "21450           2620        2699  \n",
       "20472           1979        9008  \n",
       "15811           1860        5980  \n",
       "7224            2410        8403  \n",
       "6197            2330        4040  \n",
       "12635           2950       29152  \n",
       "19396           1810        5850  \n",
       "11560           2090        7259  \n",
       "17397           1880        4000  \n",
       "7898            2040        7320  \n",
       "928             1370        1090  \n",
       "5637            1870        7650  \n",
       "13053            920        6380  \n",
       "16594           2170        4590  \n",
       "\n",
       "[21613 rows x 21 columns]"
      ]
     },
     "execution_count": 32,
     "metadata": {},
     "output_type": "execute_result"
    }
   ],
   "source": [
    "# sort the dataframe by date \n",
    "df.sort_values('date')"
   ]
  },
  {
   "cell_type": "code",
   "execution_count": 33,
   "metadata": {},
   "outputs": [
    {
     "data": {
      "text/plain": [
       "14633"
      ]
     },
     "execution_count": 33,
     "metadata": {},
     "output_type": "execute_result"
    }
   ],
   "source": [
    "# to check how many houses were sold on 2014\n",
    "df[df.date<'2015-1-1'].price.count()"
   ]
  },
  {
   "cell_type": "code",
   "execution_count": 34,
   "metadata": {},
   "outputs": [
    {
     "data": {
      "text/plain": [
       "6980"
      ]
     },
     "execution_count": 34,
     "metadata": {},
     "output_type": "execute_result"
    }
   ],
   "source": [
    "# to check how many houses were sold on 2015\n",
    "df[df.date>='2015-1-1'].price.count()"
   ]
  },
  {
   "cell_type": "code",
   "execution_count": 35,
   "metadata": {},
   "outputs": [
    {
     "data": {
      "text/html": [
       "<div>\n",
       "<style scoped>\n",
       "    .dataframe tbody tr th:only-of-type {\n",
       "        vertical-align: middle;\n",
       "    }\n",
       "\n",
       "    .dataframe tbody tr th {\n",
       "        vertical-align: top;\n",
       "    }\n",
       "\n",
       "    .dataframe thead th {\n",
       "        text-align: right;\n",
       "    }\n",
       "</style>\n",
       "<table border=\"1\" class=\"dataframe\">\n",
       "  <thead>\n",
       "    <tr style=\"text-align: right;\">\n",
       "      <th></th>\n",
       "      <th>id</th>\n",
       "      <th>date</th>\n",
       "      <th>price</th>\n",
       "      <th>bedrooms</th>\n",
       "      <th>bathrooms</th>\n",
       "      <th>sqft_living</th>\n",
       "      <th>sqft_lot</th>\n",
       "      <th>floors</th>\n",
       "      <th>waterfront</th>\n",
       "      <th>view</th>\n",
       "      <th>...</th>\n",
       "      <th>grade</th>\n",
       "      <th>sqft_above</th>\n",
       "      <th>sqft_basement</th>\n",
       "      <th>yr_built</th>\n",
       "      <th>yr_renovated</th>\n",
       "      <th>zipcode</th>\n",
       "      <th>lat</th>\n",
       "      <th>long</th>\n",
       "      <th>sqft_living15</th>\n",
       "      <th>sqft_lot15</th>\n",
       "    </tr>\n",
       "  </thead>\n",
       "  <tbody>\n",
       "    <tr>\n",
       "      <th>2496</th>\n",
       "      <td>1000102</td>\n",
       "      <td>2014-09-16</td>\n",
       "      <td>280000.0</td>\n",
       "      <td>6</td>\n",
       "      <td>3.00</td>\n",
       "      <td>2400</td>\n",
       "      <td>9373</td>\n",
       "      <td>2.0</td>\n",
       "      <td>0</td>\n",
       "      <td>0</td>\n",
       "      <td>...</td>\n",
       "      <td>7</td>\n",
       "      <td>2400</td>\n",
       "      <td>0</td>\n",
       "      <td>1991</td>\n",
       "      <td>0</td>\n",
       "      <td>98002</td>\n",
       "      <td>47.3262</td>\n",
       "      <td>-122.214</td>\n",
       "      <td>2060</td>\n",
       "      <td>7316</td>\n",
       "    </tr>\n",
       "    <tr>\n",
       "      <th>2497</th>\n",
       "      <td>1000102</td>\n",
       "      <td>2015-04-22</td>\n",
       "      <td>300000.0</td>\n",
       "      <td>6</td>\n",
       "      <td>3.00</td>\n",
       "      <td>2400</td>\n",
       "      <td>9373</td>\n",
       "      <td>2.0</td>\n",
       "      <td>0</td>\n",
       "      <td>0</td>\n",
       "      <td>...</td>\n",
       "      <td>7</td>\n",
       "      <td>2400</td>\n",
       "      <td>0</td>\n",
       "      <td>1991</td>\n",
       "      <td>0</td>\n",
       "      <td>98002</td>\n",
       "      <td>47.3262</td>\n",
       "      <td>-122.214</td>\n",
       "      <td>2060</td>\n",
       "      <td>7316</td>\n",
       "    </tr>\n",
       "    <tr>\n",
       "      <th>6735</th>\n",
       "      <td>1200019</td>\n",
       "      <td>2014-05-08</td>\n",
       "      <td>647500.0</td>\n",
       "      <td>4</td>\n",
       "      <td>1.75</td>\n",
       "      <td>2060</td>\n",
       "      <td>26036</td>\n",
       "      <td>1.0</td>\n",
       "      <td>0</td>\n",
       "      <td>0</td>\n",
       "      <td>...</td>\n",
       "      <td>8</td>\n",
       "      <td>1160</td>\n",
       "      <td>900</td>\n",
       "      <td>1947</td>\n",
       "      <td>0</td>\n",
       "      <td>98166</td>\n",
       "      <td>47.4444</td>\n",
       "      <td>-122.351</td>\n",
       "      <td>2590</td>\n",
       "      <td>21891</td>\n",
       "    </tr>\n",
       "    <tr>\n",
       "      <th>8411</th>\n",
       "      <td>1200021</td>\n",
       "      <td>2014-08-11</td>\n",
       "      <td>400000.0</td>\n",
       "      <td>3</td>\n",
       "      <td>1.00</td>\n",
       "      <td>1460</td>\n",
       "      <td>43000</td>\n",
       "      <td>1.0</td>\n",
       "      <td>0</td>\n",
       "      <td>0</td>\n",
       "      <td>...</td>\n",
       "      <td>7</td>\n",
       "      <td>1460</td>\n",
       "      <td>0</td>\n",
       "      <td>1952</td>\n",
       "      <td>0</td>\n",
       "      <td>98166</td>\n",
       "      <td>47.4434</td>\n",
       "      <td>-122.347</td>\n",
       "      <td>2250</td>\n",
       "      <td>20023</td>\n",
       "    </tr>\n",
       "    <tr>\n",
       "      <th>8809</th>\n",
       "      <td>2800031</td>\n",
       "      <td>2015-04-01</td>\n",
       "      <td>235000.0</td>\n",
       "      <td>3</td>\n",
       "      <td>1.00</td>\n",
       "      <td>1430</td>\n",
       "      <td>7599</td>\n",
       "      <td>1.5</td>\n",
       "      <td>0</td>\n",
       "      <td>0</td>\n",
       "      <td>...</td>\n",
       "      <td>6</td>\n",
       "      <td>1010</td>\n",
       "      <td>420</td>\n",
       "      <td>1930</td>\n",
       "      <td>0</td>\n",
       "      <td>98168</td>\n",
       "      <td>47.4783</td>\n",
       "      <td>-122.265</td>\n",
       "      <td>1290</td>\n",
       "      <td>10320</td>\n",
       "    </tr>\n",
       "  </tbody>\n",
       "</table>\n",
       "<p>5 rows × 21 columns</p>\n",
       "</div>"
      ],
      "text/plain": [
       "           id       date     price  bedrooms  bathrooms  sqft_living  \\\n",
       "2496  1000102 2014-09-16  280000.0         6       3.00         2400   \n",
       "2497  1000102 2015-04-22  300000.0         6       3.00         2400   \n",
       "6735  1200019 2014-05-08  647500.0         4       1.75         2060   \n",
       "8411  1200021 2014-08-11  400000.0         3       1.00         1460   \n",
       "8809  2800031 2015-04-01  235000.0         3       1.00         1430   \n",
       "\n",
       "      sqft_lot  floors  waterfront  view     ...      grade  sqft_above  \\\n",
       "2496      9373     2.0           0     0     ...          7        2400   \n",
       "2497      9373     2.0           0     0     ...          7        2400   \n",
       "6735     26036     1.0           0     0     ...          8        1160   \n",
       "8411     43000     1.0           0     0     ...          7        1460   \n",
       "8809      7599     1.5           0     0     ...          6        1010   \n",
       "\n",
       "      sqft_basement  yr_built  yr_renovated  zipcode      lat     long  \\\n",
       "2496              0      1991             0    98002  47.3262 -122.214   \n",
       "2497              0      1991             0    98002  47.3262 -122.214   \n",
       "6735            900      1947             0    98166  47.4444 -122.351   \n",
       "8411              0      1952             0    98166  47.4434 -122.347   \n",
       "8809            420      1930             0    98168  47.4783 -122.265   \n",
       "\n",
       "      sqft_living15  sqft_lot15  \n",
       "2496           2060        7316  \n",
       "2497           2060        7316  \n",
       "6735           2590       21891  \n",
       "8411           2250       20023  \n",
       "8809           1290       10320  \n",
       "\n",
       "[5 rows x 21 columns]"
      ]
     },
     "execution_count": 35,
     "metadata": {},
     "output_type": "execute_result"
    }
   ],
   "source": [
    "df.sort_values(by=['id','date']).head()"
   ]
  },
  {
   "cell_type": "code",
   "execution_count": 36,
   "metadata": {},
   "outputs": [
    {
     "data": {
      "text/plain": [
       "176"
      ]
     },
     "execution_count": 36,
     "metadata": {},
     "output_type": "execute_result"
    }
   ],
   "source": [
    "# Group the house by their ID\n",
    "group_id = df.groupby('id').count()\n",
    "# Find out how many houses were sold more than 1 times\n",
    "group_id[group_id.date>1].date.count()"
   ]
  },
  {
   "cell_type": "code",
   "execution_count": 37,
   "metadata": {},
   "outputs": [
    {
     "data": {
      "text/html": [
       "<div>\n",
       "<style scoped>\n",
       "    .dataframe tbody tr th:only-of-type {\n",
       "        vertical-align: middle;\n",
       "    }\n",
       "\n",
       "    .dataframe tbody tr th {\n",
       "        vertical-align: top;\n",
       "    }\n",
       "\n",
       "    .dataframe thead th {\n",
       "        text-align: right;\n",
       "    }\n",
       "</style>\n",
       "<table border=\"1\" class=\"dataframe\">\n",
       "  <thead>\n",
       "    <tr style=\"text-align: right;\">\n",
       "      <th></th>\n",
       "      <th>date</th>\n",
       "      <th>price</th>\n",
       "      <th>bedrooms</th>\n",
       "      <th>bathrooms</th>\n",
       "      <th>sqft_living</th>\n",
       "      <th>sqft_lot</th>\n",
       "      <th>floors</th>\n",
       "      <th>waterfront</th>\n",
       "      <th>view</th>\n",
       "      <th>condition</th>\n",
       "      <th>grade</th>\n",
       "      <th>sqft_above</th>\n",
       "      <th>sqft_basement</th>\n",
       "      <th>yr_built</th>\n",
       "      <th>yr_renovated</th>\n",
       "      <th>zipcode</th>\n",
       "      <th>lat</th>\n",
       "      <th>long</th>\n",
       "      <th>sqft_living15</th>\n",
       "      <th>sqft_lot15</th>\n",
       "    </tr>\n",
       "    <tr>\n",
       "      <th>id</th>\n",
       "      <th></th>\n",
       "      <th></th>\n",
       "      <th></th>\n",
       "      <th></th>\n",
       "      <th></th>\n",
       "      <th></th>\n",
       "      <th></th>\n",
       "      <th></th>\n",
       "      <th></th>\n",
       "      <th></th>\n",
       "      <th></th>\n",
       "      <th></th>\n",
       "      <th></th>\n",
       "      <th></th>\n",
       "      <th></th>\n",
       "      <th></th>\n",
       "      <th></th>\n",
       "      <th></th>\n",
       "      <th></th>\n",
       "      <th></th>\n",
       "    </tr>\n",
       "  </thead>\n",
       "  <tbody>\n",
       "    <tr>\n",
       "      <th>1000102</th>\n",
       "      <td>2</td>\n",
       "      <td>2</td>\n",
       "      <td>2</td>\n",
       "      <td>2</td>\n",
       "      <td>2</td>\n",
       "      <td>2</td>\n",
       "      <td>2</td>\n",
       "      <td>2</td>\n",
       "      <td>2</td>\n",
       "      <td>2</td>\n",
       "      <td>2</td>\n",
       "      <td>2</td>\n",
       "      <td>2</td>\n",
       "      <td>2</td>\n",
       "      <td>2</td>\n",
       "      <td>2</td>\n",
       "      <td>2</td>\n",
       "      <td>2</td>\n",
       "      <td>2</td>\n",
       "      <td>2</td>\n",
       "    </tr>\n",
       "    <tr>\n",
       "      <th>7200179</th>\n",
       "      <td>2</td>\n",
       "      <td>2</td>\n",
       "      <td>2</td>\n",
       "      <td>2</td>\n",
       "      <td>2</td>\n",
       "      <td>2</td>\n",
       "      <td>2</td>\n",
       "      <td>2</td>\n",
       "      <td>2</td>\n",
       "      <td>2</td>\n",
       "      <td>2</td>\n",
       "      <td>2</td>\n",
       "      <td>2</td>\n",
       "      <td>2</td>\n",
       "      <td>2</td>\n",
       "      <td>2</td>\n",
       "      <td>2</td>\n",
       "      <td>2</td>\n",
       "      <td>2</td>\n",
       "      <td>2</td>\n",
       "    </tr>\n",
       "    <tr>\n",
       "      <th>109200390</th>\n",
       "      <td>2</td>\n",
       "      <td>2</td>\n",
       "      <td>2</td>\n",
       "      <td>2</td>\n",
       "      <td>2</td>\n",
       "      <td>2</td>\n",
       "      <td>2</td>\n",
       "      <td>2</td>\n",
       "      <td>2</td>\n",
       "      <td>2</td>\n",
       "      <td>2</td>\n",
       "      <td>2</td>\n",
       "      <td>2</td>\n",
       "      <td>2</td>\n",
       "      <td>2</td>\n",
       "      <td>2</td>\n",
       "      <td>2</td>\n",
       "      <td>2</td>\n",
       "      <td>2</td>\n",
       "      <td>2</td>\n",
       "    </tr>\n",
       "    <tr>\n",
       "      <th>123039336</th>\n",
       "      <td>2</td>\n",
       "      <td>2</td>\n",
       "      <td>2</td>\n",
       "      <td>2</td>\n",
       "      <td>2</td>\n",
       "      <td>2</td>\n",
       "      <td>2</td>\n",
       "      <td>2</td>\n",
       "      <td>2</td>\n",
       "      <td>2</td>\n",
       "      <td>2</td>\n",
       "      <td>2</td>\n",
       "      <td>2</td>\n",
       "      <td>2</td>\n",
       "      <td>2</td>\n",
       "      <td>2</td>\n",
       "      <td>2</td>\n",
       "      <td>2</td>\n",
       "      <td>2</td>\n",
       "      <td>2</td>\n",
       "    </tr>\n",
       "    <tr>\n",
       "      <th>251300110</th>\n",
       "      <td>2</td>\n",
       "      <td>2</td>\n",
       "      <td>2</td>\n",
       "      <td>2</td>\n",
       "      <td>2</td>\n",
       "      <td>2</td>\n",
       "      <td>2</td>\n",
       "      <td>2</td>\n",
       "      <td>2</td>\n",
       "      <td>2</td>\n",
       "      <td>2</td>\n",
       "      <td>2</td>\n",
       "      <td>2</td>\n",
       "      <td>2</td>\n",
       "      <td>2</td>\n",
       "      <td>2</td>\n",
       "      <td>2</td>\n",
       "      <td>2</td>\n",
       "      <td>2</td>\n",
       "      <td>2</td>\n",
       "    </tr>\n",
       "  </tbody>\n",
       "</table>\n",
       "</div>"
      ],
      "text/plain": [
       "           date  price  bedrooms  bathrooms  sqft_living  sqft_lot  floors  \\\n",
       "id                                                                           \n",
       "1000102       2      2         2          2            2         2       2   \n",
       "7200179       2      2         2          2            2         2       2   \n",
       "109200390     2      2         2          2            2         2       2   \n",
       "123039336     2      2         2          2            2         2       2   \n",
       "251300110     2      2         2          2            2         2       2   \n",
       "\n",
       "           waterfront  view  condition  grade  sqft_above  sqft_basement  \\\n",
       "id                                                                         \n",
       "1000102             2     2          2      2           2              2   \n",
       "7200179             2     2          2      2           2              2   \n",
       "109200390           2     2          2      2           2              2   \n",
       "123039336           2     2          2      2           2              2   \n",
       "251300110           2     2          2      2           2              2   \n",
       "\n",
       "           yr_built  yr_renovated  zipcode  lat  long  sqft_living15  \\\n",
       "id                                                                     \n",
       "1000102           2             2        2    2     2              2   \n",
       "7200179           2             2        2    2     2              2   \n",
       "109200390         2             2        2    2     2              2   \n",
       "123039336         2             2        2    2     2              2   \n",
       "251300110         2             2        2    2     2              2   \n",
       "\n",
       "           sqft_lot15  \n",
       "id                     \n",
       "1000102             2  \n",
       "7200179             2  \n",
       "109200390           2  \n",
       "123039336           2  \n",
       "251300110           2  "
      ]
     },
     "execution_count": 37,
     "metadata": {},
     "output_type": "execute_result"
    }
   ],
   "source": [
    "group_id[group_id.date>1].head()"
   ]
  },
  {
   "cell_type": "code",
   "execution_count": 38,
   "metadata": {},
   "outputs": [
    {
     "data": {
      "text/plain": [
       "Text(0.5,1,'Distribution of house with number of bedrooms')"
      ]
     },
     "execution_count": 38,
     "metadata": {},
     "output_type": "execute_result"
    },
    {
     "data": {
      "image/png": "[encoded data removed]",
      "text/plain": [
       "<Figure size 720x720 with 1 Axes>"
      ]
     },
     "metadata": {
      "needs_background": "light"
     },
     "output_type": "display_data"
    }
   ],
   "source": [
    "# group the house by bedrooms\n",
    "# Most of the house have 3 bedrooms\n",
    "group_bedrooms = df.groupby('bedrooms').count()\n",
    "group_bedrooms.id.plot.bar(figsize=(10,10))\n",
    "plt.ylabel('number of house')\n",
    "plt.title('Distribution of house with number of bedrooms')"
   ]
  },
  {
   "cell_type": "code",
   "execution_count": 39,
   "metadata": {},
   "outputs": [
    {
     "data": {
      "text/html": [
       "<div>\n",
       "<style scoped>\n",
       "    .dataframe tbody tr th:only-of-type {\n",
       "        vertical-align: middle;\n",
       "    }\n",
       "\n",
       "    .dataframe tbody tr th {\n",
       "        vertical-align: top;\n",
       "    }\n",
       "\n",
       "    .dataframe thead th {\n",
       "        text-align: right;\n",
       "    }\n",
       "</style>\n",
       "<table border=\"1\" class=\"dataframe\">\n",
       "  <thead>\n",
       "    <tr style=\"text-align: right;\">\n",
       "      <th></th>\n",
       "      <th>id</th>\n",
       "      <th>date</th>\n",
       "      <th>price</th>\n",
       "      <th>bathrooms</th>\n",
       "      <th>sqft_living</th>\n",
       "      <th>sqft_lot</th>\n",
       "      <th>floors</th>\n",
       "      <th>waterfront</th>\n",
       "      <th>view</th>\n",
       "      <th>condition</th>\n",
       "      <th>grade</th>\n",
       "      <th>sqft_above</th>\n",
       "      <th>sqft_basement</th>\n",
       "      <th>yr_built</th>\n",
       "      <th>yr_renovated</th>\n",
       "      <th>zipcode</th>\n",
       "      <th>lat</th>\n",
       "      <th>long</th>\n",
       "      <th>sqft_living15</th>\n",
       "      <th>sqft_lot15</th>\n",
       "    </tr>\n",
       "    <tr>\n",
       "      <th>bedrooms</th>\n",
       "      <th></th>\n",
       "      <th></th>\n",
       "      <th></th>\n",
       "      <th></th>\n",
       "      <th></th>\n",
       "      <th></th>\n",
       "      <th></th>\n",
       "      <th></th>\n",
       "      <th></th>\n",
       "      <th></th>\n",
       "      <th></th>\n",
       "      <th></th>\n",
       "      <th></th>\n",
       "      <th></th>\n",
       "      <th></th>\n",
       "      <th></th>\n",
       "      <th></th>\n",
       "      <th></th>\n",
       "      <th></th>\n",
       "      <th></th>\n",
       "    </tr>\n",
       "  </thead>\n",
       "  <tbody>\n",
       "    <tr>\n",
       "      <th>0</th>\n",
       "      <td>13</td>\n",
       "      <td>13</td>\n",
       "      <td>13</td>\n",
       "      <td>13</td>\n",
       "      <td>13</td>\n",
       "      <td>13</td>\n",
       "      <td>13</td>\n",
       "      <td>13</td>\n",
       "      <td>13</td>\n",
       "      <td>13</td>\n",
       "      <td>13</td>\n",
       "      <td>13</td>\n",
       "      <td>13</td>\n",
       "      <td>13</td>\n",
       "      <td>13</td>\n",
       "      <td>13</td>\n",
       "      <td>13</td>\n",
       "      <td>13</td>\n",
       "      <td>13</td>\n",
       "      <td>13</td>\n",
       "    </tr>\n",
       "    <tr>\n",
       "      <th>1</th>\n",
       "      <td>199</td>\n",
       "      <td>199</td>\n",
       "      <td>199</td>\n",
       "      <td>199</td>\n",
       "      <td>199</td>\n",
       "      <td>199</td>\n",
       "      <td>199</td>\n",
       "      <td>199</td>\n",
       "      <td>199</td>\n",
       "      <td>199</td>\n",
       "      <td>199</td>\n",
       "      <td>199</td>\n",
       "      <td>199</td>\n",
       "      <td>199</td>\n",
       "      <td>199</td>\n",
       "      <td>199</td>\n",
       "      <td>199</td>\n",
       "      <td>199</td>\n",
       "      <td>199</td>\n",
       "      <td>199</td>\n",
       "    </tr>\n",
       "    <tr>\n",
       "      <th>2</th>\n",
       "      <td>2760</td>\n",
       "      <td>2760</td>\n",
       "      <td>2760</td>\n",
       "      <td>2760</td>\n",
       "      <td>2760</td>\n",
       "      <td>2760</td>\n",
       "      <td>2760</td>\n",
       "      <td>2760</td>\n",
       "      <td>2760</td>\n",
       "      <td>2760</td>\n",
       "      <td>2760</td>\n",
       "      <td>2760</td>\n",
       "      <td>2760</td>\n",
       "      <td>2760</td>\n",
       "      <td>2760</td>\n",
       "      <td>2760</td>\n",
       "      <td>2760</td>\n",
       "      <td>2760</td>\n",
       "      <td>2760</td>\n",
       "      <td>2760</td>\n",
       "    </tr>\n",
       "    <tr>\n",
       "      <th>3</th>\n",
       "      <td>9825</td>\n",
       "      <td>9825</td>\n",
       "      <td>9825</td>\n",
       "      <td>9825</td>\n",
       "      <td>9825</td>\n",
       "      <td>9825</td>\n",
       "      <td>9825</td>\n",
       "      <td>9825</td>\n",
       "      <td>9825</td>\n",
       "      <td>9825</td>\n",
       "      <td>9825</td>\n",
       "      <td>9825</td>\n",
       "      <td>9825</td>\n",
       "      <td>9825</td>\n",
       "      <td>9825</td>\n",
       "      <td>9825</td>\n",
       "      <td>9825</td>\n",
       "      <td>9825</td>\n",
       "      <td>9825</td>\n",
       "      <td>9825</td>\n",
       "    </tr>\n",
       "    <tr>\n",
       "      <th>4</th>\n",
       "      <td>6882</td>\n",
       "      <td>6882</td>\n",
       "      <td>6882</td>\n",
       "      <td>6882</td>\n",
       "      <td>6882</td>\n",
       "      <td>6882</td>\n",
       "      <td>6882</td>\n",
       "      <td>6882</td>\n",
       "      <td>6882</td>\n",
       "      <td>6882</td>\n",
       "      <td>6882</td>\n",
       "      <td>6882</td>\n",
       "      <td>6882</td>\n",
       "      <td>6882</td>\n",
       "      <td>6882</td>\n",
       "      <td>6882</td>\n",
       "      <td>6882</td>\n",
       "      <td>6882</td>\n",
       "      <td>6882</td>\n",
       "      <td>6882</td>\n",
       "    </tr>\n",
       "    <tr>\n",
       "      <th>5</th>\n",
       "      <td>1601</td>\n",
       "      <td>1601</td>\n",
       "      <td>1601</td>\n",
       "      <td>1601</td>\n",
       "      <td>1601</td>\n",
       "      <td>1601</td>\n",
       "      <td>1601</td>\n",
       "      <td>1601</td>\n",
       "      <td>1601</td>\n",
       "      <td>1601</td>\n",
       "      <td>1601</td>\n",
       "      <td>1601</td>\n",
       "      <td>1601</td>\n",
       "      <td>1601</td>\n",
       "      <td>1601</td>\n",
       "      <td>1601</td>\n",
       "      <td>1601</td>\n",
       "      <td>1601</td>\n",
       "      <td>1601</td>\n",
       "      <td>1601</td>\n",
       "    </tr>\n",
       "    <tr>\n",
       "      <th>6</th>\n",
       "      <td>272</td>\n",
       "      <td>272</td>\n",
       "      <td>272</td>\n",
       "      <td>272</td>\n",
       "      <td>272</td>\n",
       "      <td>272</td>\n",
       "      <td>272</td>\n",
       "      <td>272</td>\n",
       "      <td>272</td>\n",
       "      <td>272</td>\n",
       "      <td>272</td>\n",
       "      <td>272</td>\n",
       "      <td>272</td>\n",
       "      <td>272</td>\n",
       "      <td>272</td>\n",
       "      <td>272</td>\n",
       "      <td>272</td>\n",
       "      <td>272</td>\n",
       "      <td>272</td>\n",
       "      <td>272</td>\n",
       "    </tr>\n",
       "    <tr>\n",
       "      <th>7</th>\n",
       "      <td>38</td>\n",
       "      <td>38</td>\n",
       "      <td>38</td>\n",
       "      <td>38</td>\n",
       "      <td>38</td>\n",
       "      <td>38</td>\n",
       "      <td>38</td>\n",
       "      <td>38</td>\n",
       "      <td>38</td>\n",
       "      <td>38</td>\n",
       "      <td>38</td>\n",
       "      <td>38</td>\n",
       "      <td>38</td>\n",
       "      <td>38</td>\n",
       "      <td>38</td>\n",
       "      <td>38</td>\n",
       "      <td>38</td>\n",
       "      <td>38</td>\n",
       "      <td>38</td>\n",
       "      <td>38</td>\n",
       "    </tr>\n",
       "    <tr>\n",
       "      <th>8</th>\n",
       "      <td>13</td>\n",
       "      <td>13</td>\n",
       "      <td>13</td>\n",
       "      <td>13</td>\n",
       "      <td>13</td>\n",
       "      <td>13</td>\n",
       "      <td>13</td>\n",
       "      <td>13</td>\n",
       "      <td>13</td>\n",
       "      <td>13</td>\n",
       "      <td>13</td>\n",
       "      <td>13</td>\n",
       "      <td>13</td>\n",
       "      <td>13</td>\n",
       "      <td>13</td>\n",
       "      <td>13</td>\n",
       "      <td>13</td>\n",
       "      <td>13</td>\n",
       "      <td>13</td>\n",
       "      <td>13</td>\n",
       "    </tr>\n",
       "    <tr>\n",
       "      <th>9</th>\n",
       "      <td>6</td>\n",
       "      <td>6</td>\n",
       "      <td>6</td>\n",
       "      <td>6</td>\n",
       "      <td>6</td>\n",
       "      <td>6</td>\n",
       "      <td>6</td>\n",
       "      <td>6</td>\n",
       "      <td>6</td>\n",
       "      <td>6</td>\n",
       "      <td>6</td>\n",
       "      <td>6</td>\n",
       "      <td>6</td>\n",
       "      <td>6</td>\n",
       "      <td>6</td>\n",
       "      <td>6</td>\n",
       "      <td>6</td>\n",
       "      <td>6</td>\n",
       "      <td>6</td>\n",
       "      <td>6</td>\n",
       "    </tr>\n",
       "    <tr>\n",
       "      <th>10</th>\n",
       "      <td>3</td>\n",
       "      <td>3</td>\n",
       "      <td>3</td>\n",
       "      <td>3</td>\n",
       "      <td>3</td>\n",
       "      <td>3</td>\n",
       "      <td>3</td>\n",
       "      <td>3</td>\n",
       "      <td>3</td>\n",
       "      <td>3</td>\n",
       "      <td>3</td>\n",
       "      <td>3</td>\n",
       "      <td>3</td>\n",
       "      <td>3</td>\n",
       "      <td>3</td>\n",
       "      <td>3</td>\n",
       "      <td>3</td>\n",
       "      <td>3</td>\n",
       "      <td>3</td>\n",
       "      <td>3</td>\n",
       "    </tr>\n",
       "    <tr>\n",
       "      <th>11</th>\n",
       "      <td>1</td>\n",
       "      <td>1</td>\n",
       "      <td>1</td>\n",
       "      <td>1</td>\n",
       "      <td>1</td>\n",
       "      <td>1</td>\n",
       "      <td>1</td>\n",
       "      <td>1</td>\n",
       "      <td>1</td>\n",
       "      <td>1</td>\n",
       "      <td>1</td>\n",
       "      <td>1</td>\n",
       "      <td>1</td>\n",
       "      <td>1</td>\n",
       "      <td>1</td>\n",
       "      <td>1</td>\n",
       "      <td>1</td>\n",
       "      <td>1</td>\n",
       "      <td>1</td>\n",
       "      <td>1</td>\n",
       "    </tr>\n",
       "  </tbody>\n",
       "</table>\n",
       "</div>"
      ],
      "text/plain": [
       "            id  date  price  bathrooms  sqft_living  sqft_lot  floors  \\\n",
       "bedrooms                                                                \n",
       "0           13    13     13         13           13        13      13   \n",
       "1          199   199    199        199          199       199     199   \n",
       "2         2760  2760   2760       2760         2760      2760    2760   \n",
       "3         9825  9825   9825       9825         9825      9825    9825   \n",
       "4         6882  6882   6882       6882         6882      6882    6882   \n",
       "5         1601  1601   1601       1601         1601      1601    1601   \n",
       "6          272   272    272        272          272       272     272   \n",
       "7           38    38     38         38           38        38      38   \n",
       "8           13    13     13         13           13        13      13   \n",
       "9            6     6      6          6            6         6       6   \n",
       "10           3     3      3          3            3         3       3   \n",
       "11           1     1      1          1            1         1       1   \n",
       "\n",
       "          waterfront  view  condition  grade  sqft_above  sqft_basement  \\\n",
       "bedrooms                                                                  \n",
       "0                 13    13         13     13          13             13   \n",
       "1                199   199        199    199         199            199   \n",
       "2               2760  2760       2760   2760        2760           2760   \n",
       "3               9825  9825       9825   9825        9825           9825   \n",
       "4               6882  6882       6882   6882        6882           6882   \n",
       "5               1601  1601       1601   1601        1601           1601   \n",
       "6                272   272        272    272         272            272   \n",
       "7                 38    38         38     38          38             38   \n",
       "8                 13    13         13     13          13             13   \n",
       "9                  6     6          6      6           6              6   \n",
       "10                 3     3          3      3           3              3   \n",
       "11                 1     1          1      1           1              1   \n",
       "\n",
       "          yr_built  yr_renovated  zipcode   lat  long  sqft_living15  \\\n",
       "bedrooms                                                               \n",
       "0               13            13       13    13    13             13   \n",
       "1              199           199      199   199   199            199   \n",
       "2             2760          2760     2760  2760  2760           2760   \n",
       "3             9825          9825     9825  9825  9825           9825   \n",
       "4             6882          6882     6882  6882  6882           6882   \n",
       "5             1601          1601     1601  1601  1601           1601   \n",
       "6              272           272      272   272   272            272   \n",
       "7               38            38       38    38    38             38   \n",
       "8               13            13       13    13    13             13   \n",
       "9                6             6        6     6     6              6   \n",
       "10               3             3        3     3     3              3   \n",
       "11               1             1        1     1     1              1   \n",
       "\n",
       "          sqft_lot15  \n",
       "bedrooms              \n",
       "0                 13  \n",
       "1                199  \n",
       "2               2760  \n",
       "3               9825  \n",
       "4               6882  \n",
       "5               1601  \n",
       "6                272  \n",
       "7                 38  \n",
       "8                 13  \n",
       "9                  6  \n",
       "10                 3  \n",
       "11                 1  "
      ]
     },
     "execution_count": 39,
     "metadata": {},
     "output_type": "execute_result"
    }
   ],
   "source": [
    "group_bedrooms"
   ]
  },
  {
   "cell_type": "code",
   "execution_count": 40,
   "metadata": {},
   "outputs": [
    {
     "data": {
      "text/plain": [
       "Text(0.5,1,'Distribution of house with number of bathrooms')"
      ]
     },
     "execution_count": 40,
     "metadata": {},
     "output_type": "execute_result"
    },
    {
     "data": {
      "image/png": "[encoded data removed]",
      "text/plain": [
       "<Figure size 720x720 with 1 Axes>"
      ]
     },
     "metadata": {
      "needs_background": "light"
     },
     "output_type": "display_data"
    }
   ],
   "source": [
    "# group the house by bathrooms\n",
    "# Most of the houses have 2.5 bathrooms\n",
    "group_bathrooms = df.groupby('bathrooms').count()\n",
    "group_bathrooms.id.plot.bar(figsize=(10,10))\n",
    "plt.ylabel('number of house')\n",
    "plt.title('Distribution of house with number of bathrooms')"
   ]
  },
  {
   "cell_type": "code",
   "execution_count": 41,
   "metadata": {},
   "outputs": [
    {
     "data": {
      "text/plain": [
       "Text(0.5,1,'Distribution of house with different floors')"
      ]
     },
     "execution_count": 41,
     "metadata": {},
     "output_type": "execute_result"
    },
    {
     "data": {
      "image/png": "[encoded data removed]",
      "text/plain": [
       "<Figure size 720x720 with 1 Axes>"
      ]
     },
     "metadata": {
      "needs_background": "light"
     },
     "output_type": "display_data"
    }
   ],
   "source": [
    "# group the house by floors\n",
    "# Most of the house are 1 floor\n",
    "group_floors = df.groupby('floors').count()\n",
    "group_floors.id.plot.bar(figsize=(10,10))\n",
    "plt.ylabel('number of house')\n",
    "plt.title('Distribution of house with different floors')"
   ]
  },
  {
   "cell_type": "code",
   "execution_count": 42,
   "metadata": {},
   "outputs": [
    {
     "data": {
      "text/plain": [
       "Text(0.5,1,'Distribution of house with waterfront')"
      ]
     },
     "execution_count": 42,
     "metadata": {},
     "output_type": "execute_result"
    },
    {
     "data": {
      "image/png": "[encoded data removed]",
      "text/plain": [
       "<Figure size 720x720 with 1 Axes>"
      ]
     },
     "metadata": {
      "needs_background": "light"
     },
     "output_type": "display_data"
    }
   ],
   "source": [
    "# group the house by waterfront\n",
    "# Most of the house doesnot have waterfront\n",
    "group_waterfront = df.groupby('waterfront').count()\n",
    "group_waterfront.id.plot.bar(figsize=(10,10))\n",
    "plt.ylabel('number of house')\n",
    "plt.title('Distribution of house with waterfront')"
   ]
  },
  {
   "cell_type": "code",
   "execution_count": 43,
   "metadata": {},
   "outputs": [
    {
     "data": {
      "text/plain": [
       "Text(0.5,1,'Distribution of house with view')"
      ]
     },
     "execution_count": 43,
     "metadata": {},
     "output_type": "execute_result"
    },
    {
     "data": {
      "image/png": "[encoded data removed]",
      "text/plain": [
       "<Figure size 720x720 with 1 Axes>"
      ]
     },
     "metadata": {
      "needs_background": "light"
     },
     "output_type": "display_data"
    }
   ],
   "source": [
    "# group the house by view\n",
    "# Most of the house have 0 viewed.\n",
    "group_view = df.groupby('view').count()\n",
    "group_view.id.plot.bar(figsize=(10,10))\n",
    "plt.ylabel('number of house')\n",
    "plt.title('Distribution of house with view')"
   ]
  },
  {
   "cell_type": "code",
   "execution_count": 44,
   "metadata": {},
   "outputs": [
    {
     "data": {
      "text/plain": [
       "Text(0.5,1,'Distribution of house with condition')"
      ]
     },
     "execution_count": 44,
     "metadata": {},
     "output_type": "execute_result"
    },
    {
     "data": {
      "image/png": "[encoded data removed]",
      "text/plain": [
       "<Figure size 720x720 with 1 Axes>"
      ]
     },
     "metadata": {
      "needs_background": "light"
     },
     "output_type": "display_data"
    }
   ],
   "source": [
    "# group the house by condition, how good the condition is \n",
    "# Most of the house has condition as 3 (3 means Average)\n",
    "# https://info.kingcounty.gov/assessor/esales/Glossary.aspx?type=r\n",
    "group_condition = df.groupby('condition').count()\n",
    "group_condition.id.plot.bar(figsize=(10,10))\n",
    "plt.ylabel('number of house')\n",
    "plt.title('Distribution of house with condition')"
   ]
  },
  {
   "cell_type": "code",
   "execution_count": 45,
   "metadata": {},
   "outputs": [
    {
     "data": {
      "text/plain": [
       "Text(0.5,1,'Distribution of house with grade')"
      ]
     },
     "execution_count": 45,
     "metadata": {},
     "output_type": "execute_result"
    },
    {
     "data": {
      "image/png": "[encoded data removed]",
      "text/plain": [
       "<Figure size 720x720 with 1 Axes>"
      ]
     },
     "metadata": {
      "needs_background": "light"
     },
     "output_type": "display_data"
    }
   ],
   "source": [
    "# group the house by grade, overall grade given by the housing unit\n",
    "# Most of the house are of grade 7 (7 means Average grade)\n",
    "# https://info.kingcounty.gov/assessor/esales/Glossary.aspx?type=r\n",
    "group_grade = df.groupby('grade').count()\n",
    "group_grade.id.plot.bar(figsize=(10,10))\n",
    "plt.ylabel('number of house')\n",
    "plt.title('Distribution of house with grade')"
   ]
  },
  {
   "cell_type": "code",
   "execution_count": 46,
   "metadata": {},
   "outputs": [
    {
     "data": {
      "text/plain": [
       "0      0\n",
       "1    400\n",
       "2      0\n",
       "3    910\n",
       "4      0\n",
       "Name: basement, dtype: int64"
      ]
     },
     "execution_count": 46,
     "metadata": {},
     "output_type": "execute_result"
    }
   ],
   "source": [
    "# to group the house by with or without basement\n",
    "# first create a column basement using sqft_basement\n",
    "# if the house does not have basement the area sqft_basement is 0\n",
    "df['basement'] = df['sqft_basement']\n",
    "df.basement.head()"
   ]
  },
  {
   "cell_type": "code",
   "execution_count": 47,
   "metadata": {},
   "outputs": [
    {
     "data": {
      "text/plain": [
       "0    0\n",
       "1    1\n",
       "2    0\n",
       "3    1\n",
       "4    0\n",
       "Name: basement, dtype: int64"
      ]
     },
     "execution_count": 47,
     "metadata": {},
     "output_type": "execute_result"
    }
   ],
   "source": [
    "# Change the house with basement to 1\n",
    "df.loc[df.basement!=0,'basement'] = 1\n",
    "df.basement.head()"
   ]
  },
  {
   "cell_type": "code",
   "execution_count": 48,
   "metadata": {},
   "outputs": [
    {
     "data": {
      "text/plain": [
       "Text(0.5,1,'Distribution of house with basement')"
      ]
     },
     "execution_count": 48,
     "metadata": {},
     "output_type": "execute_result"
    },
    {
     "data": {
      "image/png": "[encoded data removed]",
      "text/plain": [
       "<Figure size 720x720 with 1 Axes>"
      ]
     },
     "metadata": {
      "needs_background": "light"
     },
     "output_type": "display_data"
    }
   ],
   "source": [
    "# group the house by with and without basement\n",
    "# Most of the house does not have basement\n",
    "group_basement = df.groupby('basement').count()\n",
    "group_basement.id.plot.bar(figsize=(10,10))\n",
    "plt.ylabel('number of house')\n",
    "plt.title('Distribution of house with basement')"
   ]
  },
  {
   "cell_type": "code",
   "execution_count": 49,
   "metadata": {},
   "outputs": [
    {
     "data": {
      "text/html": [
       "<div>\n",
       "<style scoped>\n",
       "    .dataframe tbody tr th:only-of-type {\n",
       "        vertical-align: middle;\n",
       "    }\n",
       "\n",
       "    .dataframe tbody tr th {\n",
       "        vertical-align: top;\n",
       "    }\n",
       "\n",
       "    .dataframe thead th {\n",
       "        text-align: right;\n",
       "    }\n",
       "</style>\n",
       "<table border=\"1\" class=\"dataframe\">\n",
       "  <thead>\n",
       "    <tr style=\"text-align: right;\">\n",
       "      <th></th>\n",
       "      <th>id</th>\n",
       "      <th>date</th>\n",
       "      <th>price</th>\n",
       "      <th>bedrooms</th>\n",
       "      <th>bathrooms</th>\n",
       "      <th>sqft_living</th>\n",
       "      <th>sqft_lot</th>\n",
       "      <th>floors</th>\n",
       "      <th>waterfront</th>\n",
       "      <th>view</th>\n",
       "      <th>...</th>\n",
       "      <th>grade</th>\n",
       "      <th>sqft_above</th>\n",
       "      <th>sqft_basement</th>\n",
       "      <th>yr_built</th>\n",
       "      <th>yr_renovated</th>\n",
       "      <th>zipcode</th>\n",
       "      <th>lat</th>\n",
       "      <th>long</th>\n",
       "      <th>sqft_living15</th>\n",
       "      <th>sqft_lot15</th>\n",
       "    </tr>\n",
       "    <tr>\n",
       "      <th>basement</th>\n",
       "      <th></th>\n",
       "      <th></th>\n",
       "      <th></th>\n",
       "      <th></th>\n",
       "      <th></th>\n",
       "      <th></th>\n",
       "      <th></th>\n",
       "      <th></th>\n",
       "      <th></th>\n",
       "      <th></th>\n",
       "      <th></th>\n",
       "      <th></th>\n",
       "      <th></th>\n",
       "      <th></th>\n",
       "      <th></th>\n",
       "      <th></th>\n",
       "      <th></th>\n",
       "      <th></th>\n",
       "      <th></th>\n",
       "      <th></th>\n",
       "      <th></th>\n",
       "    </tr>\n",
       "  </thead>\n",
       "  <tbody>\n",
       "    <tr>\n",
       "      <th>0</th>\n",
       "      <td>13126</td>\n",
       "      <td>13126</td>\n",
       "      <td>13126</td>\n",
       "      <td>13126</td>\n",
       "      <td>13126</td>\n",
       "      <td>13126</td>\n",
       "      <td>13126</td>\n",
       "      <td>13126</td>\n",
       "      <td>13126</td>\n",
       "      <td>13126</td>\n",
       "      <td>...</td>\n",
       "      <td>13126</td>\n",
       "      <td>13126</td>\n",
       "      <td>13126</td>\n",
       "      <td>13126</td>\n",
       "      <td>13126</td>\n",
       "      <td>13126</td>\n",
       "      <td>13126</td>\n",
       "      <td>13126</td>\n",
       "      <td>13126</td>\n",
       "      <td>13126</td>\n",
       "    </tr>\n",
       "    <tr>\n",
       "      <th>1</th>\n",
       "      <td>8487</td>\n",
       "      <td>8487</td>\n",
       "      <td>8487</td>\n",
       "      <td>8487</td>\n",
       "      <td>8487</td>\n",
       "      <td>8487</td>\n",
       "      <td>8487</td>\n",
       "      <td>8487</td>\n",
       "      <td>8487</td>\n",
       "      <td>8487</td>\n",
       "      <td>...</td>\n",
       "      <td>8487</td>\n",
       "      <td>8487</td>\n",
       "      <td>8487</td>\n",
       "      <td>8487</td>\n",
       "      <td>8487</td>\n",
       "      <td>8487</td>\n",
       "      <td>8487</td>\n",
       "      <td>8487</td>\n",
       "      <td>8487</td>\n",
       "      <td>8487</td>\n",
       "    </tr>\n",
       "  </tbody>\n",
       "</table>\n",
       "<p>2 rows × 21 columns</p>\n",
       "</div>"
      ],
      "text/plain": [
       "             id   date  price  bedrooms  bathrooms  sqft_living  sqft_lot  \\\n",
       "basement                                                                    \n",
       "0         13126  13126  13126     13126      13126        13126     13126   \n",
       "1          8487   8487   8487      8487       8487         8487      8487   \n",
       "\n",
       "          floors  waterfront   view     ...      grade  sqft_above  \\\n",
       "basement                                ...                          \n",
       "0          13126       13126  13126     ...      13126       13126   \n",
       "1           8487        8487   8487     ...       8487        8487   \n",
       "\n",
       "          sqft_basement  yr_built  yr_renovated  zipcode    lat   long  \\\n",
       "basement                                                                 \n",
       "0                 13126     13126         13126    13126  13126  13126   \n",
       "1                  8487      8487          8487     8487   8487   8487   \n",
       "\n",
       "          sqft_living15  sqft_lot15  \n",
       "basement                             \n",
       "0                 13126       13126  \n",
       "1                  8487        8487  \n",
       "\n",
       "[2 rows x 21 columns]"
      ]
     },
     "execution_count": 49,
     "metadata": {},
     "output_type": "execute_result"
    }
   ],
   "source": [
    "group_basement.head()"
   ]
  },
  {
   "cell_type": "code",
   "execution_count": 50,
   "metadata": {},
   "outputs": [
    {
     "data": {
      "text/plain": [
       "0       0\n",
       "1    1991\n",
       "2       0\n",
       "3       0\n",
       "4       0\n",
       "Name: renovated, dtype: int64"
      ]
     },
     "execution_count": 50,
     "metadata": {},
     "output_type": "execute_result"
    }
   ],
   "source": [
    "# to group the house by renovated or not renovated\n",
    "# first create a column renovated using yr_renovated\n",
    "# if the house is not renovated the yr_renovated is 0, if renovated: yr_renovated\n",
    "df['renovated'] = df['yr_renovated']\n",
    "df.renovated.head()"
   ]
  },
  {
   "cell_type": "code",
   "execution_count": 51,
   "metadata": {},
   "outputs": [
    {
     "data": {
      "text/plain": [
       "0    0\n",
       "1    1\n",
       "2    0\n",
       "3    0\n",
       "4    0\n",
       "Name: renovated, dtype: int64"
      ]
     },
     "execution_count": 51,
     "metadata": {},
     "output_type": "execute_result"
    }
   ],
   "source": [
    "# Change the house with basement to 1\n",
    "df.loc[df.renovated!=0,'renovated'] = 1\n",
    "df.renovated.head()"
   ]
  },
  {
   "cell_type": "code",
   "execution_count": 52,
   "metadata": {},
   "outputs": [
    {
     "data": {
      "text/plain": [
       "Text(0.5,1,'Distribution of house with renovation')"
      ]
     },
     "execution_count": 52,
     "metadata": {},
     "output_type": "execute_result"
    },
    {
     "data": {
      "image/png": "[encoded data removed]",
      "text/plain": [
       "<Figure size 720x720 with 1 Axes>"
      ]
     },
     "metadata": {
      "needs_background": "light"
     },
     "output_type": "display_data"
    }
   ],
   "source": [
    "# group the house by renovated or not renovated\n",
    "# Most of the house are not renovated\n",
    "group_renovated = df.groupby('renovated').count()\n",
    "group_renovated.id.plot.bar(figsize=(10,10))\n",
    "plt.ylabel('number of house')\n",
    "plt.title('Distribution of house with renovation')"
   ]
  },
  {
   "cell_type": "code",
   "execution_count": 53,
   "metadata": {},
   "outputs": [
    {
     "data": {
      "text/html": [
       "<div>\n",
       "<style scoped>\n",
       "    .dataframe tbody tr th:only-of-type {\n",
       "        vertical-align: middle;\n",
       "    }\n",
       "\n",
       "    .dataframe tbody tr th {\n",
       "        vertical-align: top;\n",
       "    }\n",
       "\n",
       "    .dataframe thead th {\n",
       "        text-align: right;\n",
       "    }\n",
       "</style>\n",
       "<table border=\"1\" class=\"dataframe\">\n",
       "  <thead>\n",
       "    <tr style=\"text-align: right;\">\n",
       "      <th></th>\n",
       "      <th>id</th>\n",
       "      <th>sqft_living</th>\n",
       "      <th>sqft_lot</th>\n",
       "      <th>yr_renovated</th>\n",
       "      <th>sqft_living15</th>\n",
       "      <th>sqft_lot15</th>\n",
       "      <th>renovated</th>\n",
       "    </tr>\n",
       "  </thead>\n",
       "  <tbody>\n",
       "    <tr>\n",
       "      <th>0</th>\n",
       "      <td>7129300520</td>\n",
       "      <td>1180</td>\n",
       "      <td>5650</td>\n",
       "      <td>0</td>\n",
       "      <td>1340</td>\n",
       "      <td>5650</td>\n",
       "      <td>0</td>\n",
       "    </tr>\n",
       "    <tr>\n",
       "      <th>1</th>\n",
       "      <td>6414100192</td>\n",
       "      <td>2570</td>\n",
       "      <td>7242</td>\n",
       "      <td>1991</td>\n",
       "      <td>1690</td>\n",
       "      <td>7639</td>\n",
       "      <td>1</td>\n",
       "    </tr>\n",
       "    <tr>\n",
       "      <th>2</th>\n",
       "      <td>5631500400</td>\n",
       "      <td>770</td>\n",
       "      <td>10000</td>\n",
       "      <td>0</td>\n",
       "      <td>2720</td>\n",
       "      <td>8062</td>\n",
       "      <td>0</td>\n",
       "    </tr>\n",
       "    <tr>\n",
       "      <th>3</th>\n",
       "      <td>2487200875</td>\n",
       "      <td>1960</td>\n",
       "      <td>5000</td>\n",
       "      <td>0</td>\n",
       "      <td>1360</td>\n",
       "      <td>5000</td>\n",
       "      <td>0</td>\n",
       "    </tr>\n",
       "    <tr>\n",
       "      <th>4</th>\n",
       "      <td>1954400510</td>\n",
       "      <td>1680</td>\n",
       "      <td>8080</td>\n",
       "      <td>0</td>\n",
       "      <td>1800</td>\n",
       "      <td>7503</td>\n",
       "      <td>0</td>\n",
       "    </tr>\n",
       "  </tbody>\n",
       "</table>\n",
       "</div>"
      ],
      "text/plain": [
       "           id  sqft_living  sqft_lot  yr_renovated  sqft_living15  sqft_lot15  \\\n",
       "0  7129300520         1180      5650             0           1340        5650   \n",
       "1  6414100192         2570      7242          1991           1690        7639   \n",
       "2  5631500400          770     10000             0           2720        8062   \n",
       "3  2487200875         1960      5000             0           1360        5000   \n",
       "4  1954400510         1680      8080             0           1800        7503   \n",
       "\n",
       "   renovated  \n",
       "0          0  \n",
       "1          1  \n",
       "2          0  \n",
       "3          0  \n",
       "4          0  "
      ]
     },
     "execution_count": 53,
     "metadata": {},
     "output_type": "execute_result"
    }
   ],
   "source": [
    "df[['id','sqft_living','sqft_lot','yr_renovated','sqft_living15','sqft_lot15','renovated']].head()"
   ]
  },
  {
   "cell_type": "markdown",
   "metadata": {},
   "source": [
    "sqft_living15Living room area in 2015(implies-- some renovations) This might or might not have affected the lotsize area\n",
    "\n",
    "sqft_lot15lotSize area in 2015(implies-- some renovations)"
   ]
  },
  {
   "cell_type": "code",
   "execution_count": 54,
   "metadata": {},
   "outputs": [
    {
     "data": {
      "text/html": [
       "<div>\n",
       "<style scoped>\n",
       "    .dataframe tbody tr th:only-of-type {\n",
       "        vertical-align: middle;\n",
       "    }\n",
       "\n",
       "    .dataframe tbody tr th {\n",
       "        vertical-align: top;\n",
       "    }\n",
       "\n",
       "    .dataframe thead th {\n",
       "        text-align: right;\n",
       "    }\n",
       "</style>\n",
       "<table border=\"1\" class=\"dataframe\">\n",
       "  <thead>\n",
       "    <tr style=\"text-align: right;\">\n",
       "      <th></th>\n",
       "      <th>id</th>\n",
       "      <th>bedrooms</th>\n",
       "      <th>sqft_living</th>\n",
       "      <th>sqft_lot</th>\n",
       "      <th>yr_renovated</th>\n",
       "      <th>sqft_living15</th>\n",
       "      <th>sqft_lot15</th>\n",
       "      <th>renovated</th>\n",
       "    </tr>\n",
       "  </thead>\n",
       "  <tbody>\n",
       "    <tr>\n",
       "      <th>1</th>\n",
       "      <td>6414100192</td>\n",
       "      <td>3</td>\n",
       "      <td>2570</td>\n",
       "      <td>7242</td>\n",
       "      <td>1991</td>\n",
       "      <td>1690</td>\n",
       "      <td>7639</td>\n",
       "      <td>1</td>\n",
       "    </tr>\n",
       "    <tr>\n",
       "      <th>2</th>\n",
       "      <td>5631500400</td>\n",
       "      <td>2</td>\n",
       "      <td>770</td>\n",
       "      <td>10000</td>\n",
       "      <td>0</td>\n",
       "      <td>2720</td>\n",
       "      <td>8062</td>\n",
       "      <td>0</td>\n",
       "    </tr>\n",
       "    <tr>\n",
       "      <th>4</th>\n",
       "      <td>1954400510</td>\n",
       "      <td>3</td>\n",
       "      <td>1680</td>\n",
       "      <td>8080</td>\n",
       "      <td>0</td>\n",
       "      <td>1800</td>\n",
       "      <td>7503</td>\n",
       "      <td>0</td>\n",
       "    </tr>\n",
       "    <tr>\n",
       "      <th>9</th>\n",
       "      <td>3793500160</td>\n",
       "      <td>3</td>\n",
       "      <td>1890</td>\n",
       "      <td>6560</td>\n",
       "      <td>0</td>\n",
       "      <td>2390</td>\n",
       "      <td>7570</td>\n",
       "      <td>0</td>\n",
       "    </tr>\n",
       "    <tr>\n",
       "      <th>10</th>\n",
       "      <td>1736800520</td>\n",
       "      <td>3</td>\n",
       "      <td>3560</td>\n",
       "      <td>9796</td>\n",
       "      <td>0</td>\n",
       "      <td>2210</td>\n",
       "      <td>8925</td>\n",
       "      <td>0</td>\n",
       "    </tr>\n",
       "  </tbody>\n",
       "</table>\n",
       "</div>"
      ],
      "text/plain": [
       "            id  bedrooms  sqft_living  sqft_lot  yr_renovated  sqft_living15  \\\n",
       "1   6414100192         3         2570      7242          1991           1690   \n",
       "2   5631500400         2          770     10000             0           2720   \n",
       "4   1954400510         3         1680      8080             0           1800   \n",
       "9   3793500160         3         1890      6560             0           2390   \n",
       "10  1736800520         3         3560      9796             0           2210   \n",
       "\n",
       "    sqft_lot15  renovated  \n",
       "1         7639          1  \n",
       "2         8062          0  \n",
       "4         7503          0  \n",
       "9         7570          0  \n",
       "10        8925          0  "
      ]
     },
     "execution_count": 54,
     "metadata": {},
     "output_type": "execute_result"
    }
   ],
   "source": [
    "df[(df.sqft_living != df.sqft_living15) & (df.sqft_lot != df.sqft_lot15)][['id','bedrooms','sqft_living','sqft_lot','yr_renovated','sqft_living15','sqft_lot15','renovated']].head()"
   ]
  },
  {
   "cell_type": "code",
   "execution_count": 55,
   "metadata": {},
   "outputs": [
    {
     "data": {
      "text/plain": [
       "count    2.161300e+04\n",
       "mean     5.400881e+05\n",
       "std      3.671272e+05\n",
       "min      7.500000e+04\n",
       "25%      3.219500e+05\n",
       "50%      4.500000e+05\n",
       "75%      6.450000e+05\n",
       "max      7.700000e+06\n",
       "Name: price, dtype: float64"
      ]
     },
     "execution_count": 55,
     "metadata": {},
     "output_type": "execute_result"
    }
   ],
   "source": [
    "df.price.describe()"
   ]
  },
  {
   "cell_type": "code",
   "execution_count": 56,
   "metadata": {},
   "outputs": [
    {
     "data": {
      "text/plain": [
       "7700000.0"
      ]
     },
     "execution_count": 56,
     "metadata": {},
     "output_type": "execute_result"
    }
   ],
   "source": [
    "max(df.price)"
   ]
  },
  {
   "cell_type": "code",
   "execution_count": 57,
   "metadata": {},
   "outputs": [
    {
     "data": {
      "text/plain": [
       "75000.0"
      ]
     },
     "execution_count": 57,
     "metadata": {},
     "output_type": "execute_result"
    }
   ],
   "source": [
    "min(df.price)"
   ]
  },
  {
   "cell_type": "code",
   "execution_count": 58,
   "metadata": {},
   "outputs": [],
   "source": [
    "#to work with price group, create a list of price group to use as a bins\n",
    "#create a new column with column label 'price_bin'\n",
    "bins = [0,100000,300000,500000,800000,1000000,3000000,5000000,8000000]\n",
    "df['price_bin']= pd.cut(df['price'], bins)"
   ]
  },
  {
   "cell_type": "code",
   "execution_count": 59,
   "metadata": {},
   "outputs": [
    {
     "data": {
      "text/plain": [
       "(0, 100000]             31\n",
       "(100000, 300000]      4539\n",
       "(300000, 500000]      7990\n",
       "(500000, 800000]      6108\n",
       "(800000, 1000000]     1480\n",
       "(1000000, 3000000]    1420\n",
       "(3000000, 5000000]      38\n",
       "(5000000, 8000000]       7\n",
       "Name: price_bin, dtype: int64"
      ]
     },
     "execution_count": 59,
     "metadata": {},
     "output_type": "execute_result"
    }
   ],
   "source": [
    "# check how many houses belong to different price range\n",
    "df.price_bin.value_counts().sort_index()"
   ]
  },
  {
   "cell_type": "code",
   "execution_count": 60,
   "metadata": {},
   "outputs": [
    {
     "data": {
      "text/plain": [
       "Text(0.5,1,'Distribution of house with price_bin')"
      ]
     },
     "execution_count": 60,
     "metadata": {},
     "output_type": "execute_result"
    },
    {
     "data": {
      "image/png": "[encoded data removed]",
      "text/plain": [
       "<Figure size 720x720 with 1 Axes>"
      ]
     },
     "metadata": {
      "needs_background": "light"
     },
     "output_type": "display_data"
    }
   ],
   "source": [
    "# Most of the house are priced 300,000 to 500,000\n",
    "# There are only 31 houses which has price less than 100,000\n",
    "# There are 7 houses which has price 5,000,000 to 8,000,000\n",
    "df.price_bin.value_counts().plot.bar(figsize=(10,10))\n",
    "plt.ylabel('number of house')\n",
    "plt.xlabel('price_bin')\n",
    "plt.title('Distribution of house with price_bin')"
   ]
  },
  {
   "cell_type": "code",
   "execution_count": 61,
   "metadata": {},
   "outputs": [
    {
     "data": {
      "text/html": [
       "<div>\n",
       "<style scoped>\n",
       "    .dataframe tbody tr th:only-of-type {\n",
       "        vertical-align: middle;\n",
       "    }\n",
       "\n",
       "    .dataframe tbody tr th {\n",
       "        vertical-align: top;\n",
       "    }\n",
       "\n",
       "    .dataframe thead th {\n",
       "        text-align: right;\n",
       "    }\n",
       "</style>\n",
       "<table border=\"1\" class=\"dataframe\">\n",
       "  <thead>\n",
       "    <tr style=\"text-align: right;\">\n",
       "      <th></th>\n",
       "      <th>price</th>\n",
       "      <th>price_bin</th>\n",
       "    </tr>\n",
       "  </thead>\n",
       "  <tbody>\n",
       "    <tr>\n",
       "      <th>0</th>\n",
       "      <td>221900.0</td>\n",
       "      <td>(100000, 300000]</td>\n",
       "    </tr>\n",
       "    <tr>\n",
       "      <th>1</th>\n",
       "      <td>538000.0</td>\n",
       "      <td>(500000, 800000]</td>\n",
       "    </tr>\n",
       "    <tr>\n",
       "      <th>2</th>\n",
       "      <td>180000.0</td>\n",
       "      <td>(100000, 300000]</td>\n",
       "    </tr>\n",
       "    <tr>\n",
       "      <th>3</th>\n",
       "      <td>604000.0</td>\n",
       "      <td>(500000, 800000]</td>\n",
       "    </tr>\n",
       "    <tr>\n",
       "      <th>4</th>\n",
       "      <td>510000.0</td>\n",
       "      <td>(500000, 800000]</td>\n",
       "    </tr>\n",
       "  </tbody>\n",
       "</table>\n",
       "</div>"
      ],
      "text/plain": [
       "      price         price_bin\n",
       "0  221900.0  (100000, 300000]\n",
       "1  538000.0  (500000, 800000]\n",
       "2  180000.0  (100000, 300000]\n",
       "3  604000.0  (500000, 800000]\n",
       "4  510000.0  (500000, 800000]"
      ]
     },
     "execution_count": 61,
     "metadata": {},
     "output_type": "execute_result"
    }
   ],
   "source": [
    "df[['price','price_bin']].head()"
   ]
  },
  {
   "cell_type": "code",
   "execution_count": 62,
   "metadata": {},
   "outputs": [
    {
     "data": {
      "text/html": [
       "<div>\n",
       "<style scoped>\n",
       "    .dataframe tbody tr th:only-of-type {\n",
       "        vertical-align: middle;\n",
       "    }\n",
       "\n",
       "    .dataframe tbody tr th {\n",
       "        vertical-align: top;\n",
       "    }\n",
       "\n",
       "    .dataframe thead th {\n",
       "        text-align: right;\n",
       "    }\n",
       "</style>\n",
       "<table border=\"1\" class=\"dataframe\">\n",
       "  <thead>\n",
       "    <tr style=\"text-align: right;\">\n",
       "      <th></th>\n",
       "      <th>bedrooms</th>\n",
       "      <th>bathrooms</th>\n",
       "      <th>sqft_living</th>\n",
       "      <th>sqft_lot</th>\n",
       "      <th>condition</th>\n",
       "      <th>grade</th>\n",
       "    </tr>\n",
       "    <tr>\n",
       "      <th>price_bin</th>\n",
       "      <th></th>\n",
       "      <th></th>\n",
       "      <th></th>\n",
       "      <th></th>\n",
       "      <th></th>\n",
       "      <th></th>\n",
       "    </tr>\n",
       "  </thead>\n",
       "  <tbody>\n",
       "    <tr>\n",
       "      <th>(0, 100000]</th>\n",
       "      <td>2.0</td>\n",
       "      <td>1.000</td>\n",
       "      <td>790.0</td>\n",
       "      <td>8236.0</td>\n",
       "      <td>3.0</td>\n",
       "      <td>5.0</td>\n",
       "    </tr>\n",
       "    <tr>\n",
       "      <th>(100000, 300000]</th>\n",
       "      <td>3.0</td>\n",
       "      <td>1.750</td>\n",
       "      <td>1400.0</td>\n",
       "      <td>7800.0</td>\n",
       "      <td>3.0</td>\n",
       "      <td>7.0</td>\n",
       "    </tr>\n",
       "    <tr>\n",
       "      <th>(300000, 500000]</th>\n",
       "      <td>3.0</td>\n",
       "      <td>2.000</td>\n",
       "      <td>1750.0</td>\n",
       "      <td>7276.5</td>\n",
       "      <td>3.0</td>\n",
       "      <td>7.0</td>\n",
       "    </tr>\n",
       "    <tr>\n",
       "      <th>(500000, 800000]</th>\n",
       "      <td>3.0</td>\n",
       "      <td>2.500</td>\n",
       "      <td>2250.0</td>\n",
       "      <td>7200.0</td>\n",
       "      <td>3.0</td>\n",
       "      <td>8.0</td>\n",
       "    </tr>\n",
       "    <tr>\n",
       "      <th>(800000, 1000000]</th>\n",
       "      <td>4.0</td>\n",
       "      <td>2.500</td>\n",
       "      <td>2970.0</td>\n",
       "      <td>8729.5</td>\n",
       "      <td>3.0</td>\n",
       "      <td>9.0</td>\n",
       "    </tr>\n",
       "    <tr>\n",
       "      <th>(1000000, 3000000]</th>\n",
       "      <td>4.0</td>\n",
       "      <td>3.250</td>\n",
       "      <td>3610.0</td>\n",
       "      <td>10747.5</td>\n",
       "      <td>3.0</td>\n",
       "      <td>10.0</td>\n",
       "    </tr>\n",
       "    <tr>\n",
       "      <th>(3000000, 5000000]</th>\n",
       "      <td>4.5</td>\n",
       "      <td>4.125</td>\n",
       "      <td>5465.0</td>\n",
       "      <td>18746.0</td>\n",
       "      <td>3.0</td>\n",
       "      <td>11.0</td>\n",
       "    </tr>\n",
       "    <tr>\n",
       "      <th>(5000000, 8000000]</th>\n",
       "      <td>5.0</td>\n",
       "      <td>5.750</td>\n",
       "      <td>9200.0</td>\n",
       "      <td>31374.0</td>\n",
       "      <td>3.0</td>\n",
       "      <td>12.0</td>\n",
       "    </tr>\n",
       "  </tbody>\n",
       "</table>\n",
       "</div>"
      ],
      "text/plain": [
       "                    bedrooms  bathrooms  sqft_living  sqft_lot  condition  \\\n",
       "price_bin                                                                   \n",
       "(0, 100000]              2.0      1.000        790.0    8236.0        3.0   \n",
       "(100000, 300000]         3.0      1.750       1400.0    7800.0        3.0   \n",
       "(300000, 500000]         3.0      2.000       1750.0    7276.5        3.0   \n",
       "(500000, 800000]         3.0      2.500       2250.0    7200.0        3.0   \n",
       "(800000, 1000000]        4.0      2.500       2970.0    8729.5        3.0   \n",
       "(1000000, 3000000]       4.0      3.250       3610.0   10747.5        3.0   \n",
       "(3000000, 5000000]       4.5      4.125       5465.0   18746.0        3.0   \n",
       "(5000000, 8000000]       5.0      5.750       9200.0   31374.0        3.0   \n",
       "\n",
       "                    grade  \n",
       "price_bin                  \n",
       "(0, 100000]           5.0  \n",
       "(100000, 300000]      7.0  \n",
       "(300000, 500000]      7.0  \n",
       "(500000, 800000]      8.0  \n",
       "(800000, 1000000]     9.0  \n",
       "(1000000, 3000000]   10.0  \n",
       "(3000000, 5000000]   11.0  \n",
       "(5000000, 8000000]   12.0  "
      ]
     },
     "execution_count": 62,
     "metadata": {},
     "output_type": "execute_result"
    }
   ],
   "source": [
    "group_price = df.groupby('price_bin').median()\n",
    "group_price[['bedrooms','bathrooms','sqft_living','sqft_lot','condition','grade']]"
   ]
  },
  {
   "cell_type": "code",
   "execution_count": 63,
   "metadata": {},
   "outputs": [
    {
     "data": {
      "text/plain": [
       "Text(0.5,1,'number of bedrooms vs price')"
      ]
     },
     "execution_count": 63,
     "metadata": {},
     "output_type": "execute_result"
    },
    {
     "data": {
      "image/png": "[encoded data removed]",
      "text/plain": [
       "<Figure size 720x720 with 1 Axes>"
      ]
     },
     "metadata": {
      "needs_background": "light"
     },
     "output_type": "display_data"
    }
   ],
   "source": [
    "# Houses 5,000,000 to 8,000,000 has median 5 bedrooms\n",
    "# Houses priced less than 100,000 has median 2 bedrooms\n",
    "# Houses with more bedrooms are more expensive\n",
    "# Houses with less bedrooms are less expensive\n",
    "group_price.bedrooms.plot.bar(figsize=(10,10))\n",
    "plt.ylabel('number of bedrooms')\n",
    "plt.title('number of bedrooms vs price')"
   ]
  },
  {
   "cell_type": "code",
   "execution_count": 64,
   "metadata": {},
   "outputs": [
    {
     "data": {
      "text/plain": [
       "Text(0.5,1,'number of bathrooms vs price_bin')"
      ]
     },
     "execution_count": 64,
     "metadata": {},
     "output_type": "execute_result"
    },
    {
     "data": {
      "image/png": "[encoded data removed]",
      "text/plain": [
       "<Figure size 720x720 with 1 Axes>"
      ]
     },
     "metadata": {
      "needs_background": "light"
     },
     "output_type": "display_data"
    }
   ],
   "source": [
    "# Houses 5,000,000 to 8,000,000 has median 5.75 bathrooms\n",
    "# Houses priced less than 100,000 has median 1 bathroom\n",
    "# Houses with more bathrooms are more expensive\n",
    "# Houses with less bathrooms are less expensive\n",
    "group_price.bathrooms.plot.bar(figsize=(10,10))\n",
    "plt.ylabel('number of bathrooms')\n",
    "plt.title('number of bathrooms vs price_bin')"
   ]
  },
  {
   "cell_type": "code",
   "execution_count": 65,
   "metadata": {},
   "outputs": [
    {
     "data": {
      "text/plain": [
       "Text(0.5,1,'sqft_living vs price_bin')"
      ]
     },
     "execution_count": 65,
     "metadata": {},
     "output_type": "execute_result"
    },
    {
     "data": {
      "image/png": "[encoded data removed]",
      "text/plain": [
       "<Figure size 720x720 with 1 Axes>"
      ]
     },
     "metadata": {
      "needs_background": "light"
     },
     "output_type": "display_data"
    }
   ],
   "source": [
    "# Houses with larger sqft_living are more expensive\n",
    "# Houses with less sqft_living are less expensive\n",
    "group_price.sqft_living.plot.bar(figsize=(10,10))\n",
    "plt.ylabel('sqft_living')\n",
    "plt.title('sqft_living vs price_bin')"
   ]
  },
  {
   "cell_type": "code",
   "execution_count": 66,
   "metadata": {},
   "outputs": [
    {
     "data": {
      "text/plain": [
       "Text(0.5,1,'sqft_lot vs price_bin')"
      ]
     },
     "execution_count": 66,
     "metadata": {},
     "output_type": "execute_result"
    },
    {
     "data": {
      "image/png": "[encoded data removed]",
      "text/plain": [
       "<Figure size 720x720 with 1 Axes>"
      ]
     },
     "metadata": {
      "needs_background": "light"
     },
     "output_type": "display_data"
    }
   ],
   "source": [
    "# House priced less than 1,000,000 doesnot show us any trend\n",
    "# House priced more than 1,000,000 shows house with higher lot size is more expensive \n",
    "group_price.sqft_lot.plot.bar(figsize=(10,10))\n",
    "plt.ylabel('sqft_lot')\n",
    "plt.title('sqft_lot vs price_bin')"
   ]
  },
  {
   "cell_type": "code",
   "execution_count": 67,
   "metadata": {},
   "outputs": [
    {
     "data": {
      "text/plain": [
       "Text(0.5,1,'house condition vs price_bin')"
      ]
     },
     "execution_count": 67,
     "metadata": {},
     "output_type": "execute_result"
    },
    {
     "data": {
      "image/png": "[encoded data removed]",
      "text/plain": [
       "<Figure size 720x720 with 1 Axes>"
      ]
     },
     "metadata": {
      "needs_background": "light"
     },
     "output_type": "display_data"
    }
   ],
   "source": [
    "# Most of the houses have level 3 condition (3 is average condition). \n",
    "# https://info.kingcounty.gov/assessor/esales/Glossary.aspx?type=r\n",
    "group_price.condition.plot.bar(figsize=(10,10))\n",
    "plt.ylabel('house condition')\n",
    "plt.title('house condition vs price_bin')"
   ]
  },
  {
   "cell_type": "code",
   "execution_count": 68,
   "metadata": {},
   "outputs": [
    {
     "data": {
      "text/html": [
       "<div>\n",
       "<style scoped>\n",
       "    .dataframe tbody tr th:only-of-type {\n",
       "        vertical-align: middle;\n",
       "    }\n",
       "\n",
       "    .dataframe tbody tr th {\n",
       "        vertical-align: top;\n",
       "    }\n",
       "\n",
       "    .dataframe thead th {\n",
       "        text-align: right;\n",
       "    }\n",
       "</style>\n",
       "<table border=\"1\" class=\"dataframe\">\n",
       "  <thead>\n",
       "    <tr style=\"text-align: right;\">\n",
       "      <th></th>\n",
       "      <th>bedrooms</th>\n",
       "      <th>bathrooms</th>\n",
       "      <th>sqft_living</th>\n",
       "      <th>sqft_lot</th>\n",
       "      <th>condition</th>\n",
       "      <th>grade</th>\n",
       "    </tr>\n",
       "    <tr>\n",
       "      <th>price_bin</th>\n",
       "      <th></th>\n",
       "      <th></th>\n",
       "      <th></th>\n",
       "      <th></th>\n",
       "      <th></th>\n",
       "      <th></th>\n",
       "    </tr>\n",
       "  </thead>\n",
       "  <tbody>\n",
       "    <tr>\n",
       "      <th>(0, 100000]</th>\n",
       "      <td>2.0</td>\n",
       "      <td>1.000</td>\n",
       "      <td>790.0</td>\n",
       "      <td>8236.0</td>\n",
       "      <td>3.0</td>\n",
       "      <td>5.0</td>\n",
       "    </tr>\n",
       "    <tr>\n",
       "      <th>(100000, 300000]</th>\n",
       "      <td>3.0</td>\n",
       "      <td>1.750</td>\n",
       "      <td>1400.0</td>\n",
       "      <td>7800.0</td>\n",
       "      <td>3.0</td>\n",
       "      <td>7.0</td>\n",
       "    </tr>\n",
       "    <tr>\n",
       "      <th>(300000, 500000]</th>\n",
       "      <td>3.0</td>\n",
       "      <td>2.000</td>\n",
       "      <td>1750.0</td>\n",
       "      <td>7276.5</td>\n",
       "      <td>3.0</td>\n",
       "      <td>7.0</td>\n",
       "    </tr>\n",
       "    <tr>\n",
       "      <th>(500000, 800000]</th>\n",
       "      <td>3.0</td>\n",
       "      <td>2.500</td>\n",
       "      <td>2250.0</td>\n",
       "      <td>7200.0</td>\n",
       "      <td>3.0</td>\n",
       "      <td>8.0</td>\n",
       "    </tr>\n",
       "    <tr>\n",
       "      <th>(800000, 1000000]</th>\n",
       "      <td>4.0</td>\n",
       "      <td>2.500</td>\n",
       "      <td>2970.0</td>\n",
       "      <td>8729.5</td>\n",
       "      <td>3.0</td>\n",
       "      <td>9.0</td>\n",
       "    </tr>\n",
       "    <tr>\n",
       "      <th>(1000000, 3000000]</th>\n",
       "      <td>4.0</td>\n",
       "      <td>3.250</td>\n",
       "      <td>3610.0</td>\n",
       "      <td>10747.5</td>\n",
       "      <td>3.0</td>\n",
       "      <td>10.0</td>\n",
       "    </tr>\n",
       "    <tr>\n",
       "      <th>(3000000, 5000000]</th>\n",
       "      <td>4.5</td>\n",
       "      <td>4.125</td>\n",
       "      <td>5465.0</td>\n",
       "      <td>18746.0</td>\n",
       "      <td>3.0</td>\n",
       "      <td>11.0</td>\n",
       "    </tr>\n",
       "    <tr>\n",
       "      <th>(5000000, 8000000]</th>\n",
       "      <td>5.0</td>\n",
       "      <td>5.750</td>\n",
       "      <td>9200.0</td>\n",
       "      <td>31374.0</td>\n",
       "      <td>3.0</td>\n",
       "      <td>12.0</td>\n",
       "    </tr>\n",
       "  </tbody>\n",
       "</table>\n",
       "</div>"
      ],
      "text/plain": [
       "                    bedrooms  bathrooms  sqft_living  sqft_lot  condition  \\\n",
       "price_bin                                                                   \n",
       "(0, 100000]              2.0      1.000        790.0    8236.0        3.0   \n",
       "(100000, 300000]         3.0      1.750       1400.0    7800.0        3.0   \n",
       "(300000, 500000]         3.0      2.000       1750.0    7276.5        3.0   \n",
       "(500000, 800000]         3.0      2.500       2250.0    7200.0        3.0   \n",
       "(800000, 1000000]        4.0      2.500       2970.0    8729.5        3.0   \n",
       "(1000000, 3000000]       4.0      3.250       3610.0   10747.5        3.0   \n",
       "(3000000, 5000000]       4.5      4.125       5465.0   18746.0        3.0   \n",
       "(5000000, 8000000]       5.0      5.750       9200.0   31374.0        3.0   \n",
       "\n",
       "                    grade  \n",
       "price_bin                  \n",
       "(0, 100000]           5.0  \n",
       "(100000, 300000]      7.0  \n",
       "(300000, 500000]      7.0  \n",
       "(500000, 800000]      8.0  \n",
       "(800000, 1000000]     9.0  \n",
       "(1000000, 3000000]   10.0  \n",
       "(3000000, 5000000]   11.0  \n",
       "(5000000, 8000000]   12.0  "
      ]
     },
     "execution_count": 68,
     "metadata": {},
     "output_type": "execute_result"
    }
   ],
   "source": [
    "group_price[['bedrooms','bathrooms','sqft_living','sqft_lot','condition','grade']]"
   ]
  },
  {
   "cell_type": "code",
   "execution_count": 69,
   "metadata": {},
   "outputs": [
    {
     "data": {
      "text/plain": [
       "Text(0.5,1,'house grade vs price_bin')"
      ]
     },
     "execution_count": 69,
     "metadata": {},
     "output_type": "execute_result"
    },
    {
     "data": {
      "image/png": "[encoded data removed]",
      "text/plain": [
       "<Figure size 720x720 with 1 Axes>"
      ]
     },
     "metadata": {
      "needs_background": "light"
     },
     "output_type": "display_data"
    }
   ],
   "source": [
    "# Houses 5,000,000 to 8,000,000 has median grade of 12 (12 means custom design and excellent)\n",
    "# Houses 300,000 to 500,000 has median grade of 7 (7 means Average)\n",
    "# Houses priced less than 100,000 has median grade of 5 (5 means low costs, small, simple)\n",
    "# Better grade houses are more expensive\n",
    "# lower grade houses are less expensive\n",
    "group_price.grade.plot.bar(figsize=(10,10))\n",
    "plt.ylabel('grade')\n",
    "plt.title('house grade vs price_bin')"
   ]
  },
  {
   "cell_type": "code",
   "execution_count": 70,
   "metadata": {},
   "outputs": [
    {
     "data": {
      "text/plain": [
       "Text(0.5,1,'price vs number of bedrooms')"
      ]
     },
     "execution_count": 70,
     "metadata": {},
     "output_type": "execute_result"
    },
    {
     "data": {
      "image/png": "[encoded data removed]",
      "text/plain": [
       "<Figure size 432x288 with 1 Axes>"
      ]
     },
     "metadata": {
      "needs_background": "light"
     },
     "output_type": "display_data"
    }
   ],
   "source": [
    "# plot a scatter plot to see the correlation between the bedrooms and price\n",
    "plt.scatter(x='bedrooms', y='price', data=df)\n",
    "plt.ylabel('price')\n",
    "plt.xlabel('number of bedrooms')\n",
    "plt.title('price vs number of bedrooms')"
   ]
  },
  {
   "cell_type": "code",
   "execution_count": 71,
   "metadata": {},
   "outputs": [
    {
     "data": {
      "text/plain": [
       "Text(0.5,1,'price vs number of bathrooms')"
      ]
     },
     "execution_count": 71,
     "metadata": {},
     "output_type": "execute_result"
    },
    {
     "data": {
      "image/png": "[encoded data removed]",
      "text/plain": [
       "<Figure size 432x288 with 1 Axes>"
      ]
     },
     "metadata": {
      "needs_background": "light"
     },
     "output_type": "display_data"
    }
   ],
   "source": [
    "# plot a scatter plot to see the correlation between the bathrooms and price\n",
    "plt.scatter(x='bathrooms', y='price', data=df)\n",
    "plt.ylabel('price')\n",
    "plt.ylabel('number of bathrooms')\n",
    "plt.title('price vs number of bathrooms')"
   ]
  },
  {
   "cell_type": "code",
   "execution_count": 72,
   "metadata": {},
   "outputs": [
    {
     "data": {
      "text/plain": [
       "Text(0.5,1,'price vs sqft_living')"
      ]
     },
     "execution_count": 72,
     "metadata": {},
     "output_type": "execute_result"
    },
    {
     "data": {
      "image/png": "[encoded data removed]",
      "text/plain": [
       "<Figure size 432x288 with 1 Axes>"
      ]
     },
     "metadata": {
      "needs_background": "light"
     },
     "output_type": "display_data"
    }
   ],
   "source": [
    "# plot a scatter plot to see the correlation between the sqft_living and price\n",
    "plt.scatter(x='sqft_living', y='price', data=df)\n",
    "plt.ylabel('price')\n",
    "plt.ylabel('sqft_living')\n",
    "plt.title('price vs sqft_living')"
   ]
  },
  {
   "cell_type": "code",
   "execution_count": 73,
   "metadata": {},
   "outputs": [
    {
     "data": {
      "text/plain": [
       "Text(0.5,1,'price vs sqft_lot')"
      ]
     },
     "execution_count": 73,
     "metadata": {},
     "output_type": "execute_result"
    },
    {
     "data": {
      "image/png": "[encoded data removed]",
      "text/plain": [
       "<Figure size 432x288 with 1 Axes>"
      ]
     },
     "metadata": {
      "needs_background": "light"
     },
     "output_type": "display_data"
    }
   ],
   "source": [
    "# plot a scatter plot to see the correlation between the sqft_lot and price\n",
    "plt.scatter(x='sqft_lot', y='price', data=df)\n",
    "plt.ylabel('price')\n",
    "plt.xlabel('sqft_lot')\n",
    "plt.title('price vs sqft_lot')"
   ]
  },
  {
   "cell_type": "code",
   "execution_count": 74,
   "metadata": {},
   "outputs": [
    {
     "data": {
      "text/plain": [
       "Text(0.5,1,'price vs number of floors')"
      ]
     },
     "execution_count": 74,
     "metadata": {},
     "output_type": "execute_result"
    },
    {
     "data": {
      "image/png": "[encoded data removed]",
      "text/plain": [
       "<Figure size 432x288 with 1 Axes>"
      ]
     },
     "metadata": {
      "needs_background": "light"
     },
     "output_type": "display_data"
    }
   ],
   "source": [
    "# plot a scatter plot to see the correlation between the floors and price\n",
    "plt.scatter(x='floors', y='price', data=df)\n",
    "plt.ylabel('price')\n",
    "plt.xlabel('number of floors')\n",
    "plt.title('price vs number of floors')"
   ]
  },
  {
   "cell_type": "code",
   "execution_count": 75,
   "metadata": {},
   "outputs": [
    {
     "data": {
      "text/plain": [
       "Text(0.5,1,'price vs condition')"
      ]
     },
     "execution_count": 75,
     "metadata": {},
     "output_type": "execute_result"
    },
    {
     "data": {
      "image/png": "[encoded data removed]",
      "text/plain": [
       "<Figure size 432x288 with 1 Axes>"
      ]
     },
     "metadata": {
      "needs_background": "light"
     },
     "output_type": "display_data"
    }
   ],
   "source": [
    "# plot a scatter plot to see the correlation between the condtion and price\n",
    "plt.scatter(x='condition', y='price', data=df)\n",
    "plt.ylabel('price')\n",
    "plt.xlabel('condition')\n",
    "plt.title('price vs condition')"
   ]
  },
  {
   "cell_type": "code",
   "execution_count": 76,
   "metadata": {},
   "outputs": [
    {
     "data": {
      "text/plain": [
       "Text(0.5,1,'price vs grade')"
      ]
     },
     "execution_count": 76,
     "metadata": {},
     "output_type": "execute_result"
    },
    {
     "data": {
      "image/png": "[encoded data removed]",
      "text/plain": [
       "<Figure size 432x288 with 1 Axes>"
      ]
     },
     "metadata": {
      "needs_background": "light"
     },
     "output_type": "display_data"
    }
   ],
   "source": [
    "# plot a scatter plot to see the correlation between the grade and price\n",
    "plt.scatter(x='grade', y='price', data=df)\n",
    "plt.ylabel('price')\n",
    "plt.xlabel('grade')\n",
    "plt.title('price vs grade')"
   ]
  },
  {
   "cell_type": "code",
   "execution_count": 77,
   "metadata": {},
   "outputs": [
    {
     "data": {
      "text/plain": [
       "Text(0.5,0,'yr_built')"
      ]
     },
     "execution_count": 77,
     "metadata": {},
     "output_type": "execute_result"
    },
    {
     "data": {
      "image/png": "[encoded data removed]",
      "text/plain": [
       "<Figure size 432x288 with 1 Axes>"
      ]
     },
     "metadata": {
      "needs_background": "light"
     },
     "output_type": "display_data"
    }
   ],
   "source": [
    "# plot a scatter plot to see the correlation between the grade and price\n",
    "plt.scatter(x='yr_built', y='price', data=df)\n",
    "plt.ylabel('price')\n",
    "plt.xlabel('yr_built')"
   ]
  },
  {
   "cell_type": "code",
   "execution_count": 78,
   "metadata": {},
   "outputs": [
    {
     "data": {
      "text/plain": [
       "Text(0.5,1,'price vs sqft_basement')"
      ]
     },
     "execution_count": 78,
     "metadata": {},
     "output_type": "execute_result"
    },
    {
     "data": {
      "image/png": "[encoded data removed]",
      "text/plain": [
       "<Figure size 432x288 with 1 Axes>"
      ]
     },
     "metadata": {
      "needs_background": "light"
     },
     "output_type": "display_data"
    }
   ],
   "source": [
    "# plot a scatter plot to see the correlation between the grade and price\n",
    "plt.scatter(x='sqft_basement', y='price', data=df)\n",
    "plt.ylabel('price')\n",
    "plt.xlabel('sqft_basement')\n",
    "plt.title('price vs sqft_basement')"
   ]
  },
  {
   "cell_type": "code",
   "execution_count": 79,
   "metadata": {},
   "outputs": [],
   "source": [
    "# Approach 1 delete outlier data to include only majority of the data\n",
    "# Create a copy of the dataframe df\n",
    "new_df = df.copy()"
   ]
  },
  {
   "cell_type": "code",
   "execution_count": 80,
   "metadata": {},
   "outputs": [
    {
     "name": "stdout",
     "output_type": "stream",
     "text": [
      "<class 'pandas.core.frame.DataFrame'>\n",
      "RangeIndex: 21613 entries, 0 to 21612\n",
      "Data columns (total 24 columns):\n",
      "id               21613 non-null int64\n",
      "date             21613 non-null datetime64[ns]\n",
      "price            21613 non-null float64\n",
      "bedrooms         21613 non-null int64\n",
      "bathrooms        21613 non-null float64\n",
      "sqft_living      21613 non-null int64\n",
      "sqft_lot         21613 non-null int64\n",
      "floors           21613 non-null float64\n",
      "waterfront       21613 non-null int64\n",
      "view             21613 non-null int64\n",
      "condition        21613 non-null int64\n",
      "grade            21613 non-null int64\n",
      "sqft_above       21613 non-null int64\n",
      "sqft_basement    21613 non-null int64\n",
      "yr_built         21613 non-null int64\n",
      "yr_renovated     21613 non-null int64\n",
      "zipcode          21613 non-null int64\n",
      "lat              21613 non-null float64\n",
      "long             21613 non-null float64\n",
      "sqft_living15    21613 non-null int64\n",
      "sqft_lot15       21613 non-null int64\n",
      "basement         21613 non-null int64\n",
      "renovated        21613 non-null int64\n",
      "price_bin        21613 non-null category\n",
      "dtypes: category(1), datetime64[ns](1), float64(5), int64(17)\n",
      "memory usage: 3.8 MB\n"
     ]
    }
   ],
   "source": [
    "new_df.info()"
   ]
  },
  {
   "cell_type": "code",
   "execution_count": 81,
   "metadata": {},
   "outputs": [],
   "source": [
    "q3 = new_df.price.quantile(0.75)\n",
    "q1 = new_df.price.quantile(0.25)\n",
    "iqr = q3-q1\n",
    "upper = q3 + (1.5*iqr)\n",
    "\n",
    "upper_index = new_df[new_df.price >=upper].index\n",
    "new_df = new_df.drop(upper_index)"
   ]
  },
  {
   "cell_type": "code",
   "execution_count": 82,
   "metadata": {},
   "outputs": [
    {
     "name": "stdout",
     "output_type": "stream",
     "text": [
      "<class 'pandas.core.frame.DataFrame'>\n",
      "Int64Index: 20467 entries, 0 to 21612\n",
      "Data columns (total 24 columns):\n",
      "id               20467 non-null int64\n",
      "date             20467 non-null datetime64[ns]\n",
      "price            20467 non-null float64\n",
      "bedrooms         20467 non-null int64\n",
      "bathrooms        20467 non-null float64\n",
      "sqft_living      20467 non-null int64\n",
      "sqft_lot         20467 non-null int64\n",
      "floors           20467 non-null float64\n",
      "waterfront       20467 non-null int64\n",
      "view             20467 non-null int64\n",
      "condition        20467 non-null int64\n",
      "grade            20467 non-null int64\n",
      "sqft_above       20467 non-null int64\n",
      "sqft_basement    20467 non-null int64\n",
      "yr_built         20467 non-null int64\n",
      "yr_renovated     20467 non-null int64\n",
      "zipcode          20467 non-null int64\n",
      "lat              20467 non-null float64\n",
      "long             20467 non-null float64\n",
      "sqft_living15    20467 non-null int64\n",
      "sqft_lot15       20467 non-null int64\n",
      "basement         20467 non-null int64\n",
      "renovated        20467 non-null int64\n",
      "price_bin        20467 non-null category\n",
      "dtypes: category(1), datetime64[ns](1), float64(5), int64(17)\n",
      "memory usage: 3.8 MB\n"
     ]
    }
   ],
   "source": [
    "new_df.info()"
   ]
  },
  {
   "cell_type": "code",
   "execution_count": 83,
   "metadata": {},
   "outputs": [
    {
     "data": {
      "text/plain": [
       "count    2.046700e+04\n",
       "mean     4.769846e+05\n",
       "std      2.083713e+05\n",
       "min      7.500000e+04\n",
       "25%      3.150000e+05\n",
       "50%      4.375000e+05\n",
       "75%      6.000000e+05\n",
       "max      1.127500e+06\n",
       "Name: price, dtype: float64"
      ]
     },
     "execution_count": 83,
     "metadata": {},
     "output_type": "execute_result"
    }
   ],
   "source": [
    "# check new min, max, median, and mean of house price\n",
    "new_df.price.describe()"
   ]
  },
  {
   "cell_type": "code",
   "execution_count": 84,
   "metadata": {},
   "outputs": [
    {
     "data": {
      "text/plain": [
       "1127500.0"
      ]
     },
     "execution_count": 84,
     "metadata": {},
     "output_type": "execute_result"
    }
   ],
   "source": [
    "max(new_df.price)"
   ]
  },
  {
   "cell_type": "code",
   "execution_count": 85,
   "metadata": {},
   "outputs": [
    {
     "data": {
      "text/plain": [
       "<matplotlib.collections.PathCollection at 0x285ea6b7828>"
      ]
     },
     "execution_count": 85,
     "metadata": {},
     "output_type": "execute_result"
    },
    {
     "data": {
      "image/png": "[encoded data removed]",
      "text/plain": [
       "<Figure size 432x288 with 1 Axes>"
      ]
     },
     "metadata": {
      "needs_background": "light"
     },
     "output_type": "display_data"
    }
   ],
   "source": [
    "# plot a scatter plot to see the correlation between the bedrooms and price\n",
    "plt.scatter(x='bedrooms', y='price', data=new_df)"
   ]
  },
  {
   "cell_type": "code",
   "execution_count": 86,
   "metadata": {},
   "outputs": [
    {
     "data": {
      "text/plain": [
       "<matplotlib.collections.PathCollection at 0x285ea68bc50>"
      ]
     },
     "execution_count": 86,
     "metadata": {},
     "output_type": "execute_result"
    },
    {
     "data": {
      "image/png": "[encoded data removed]",
      "text/plain": [
       "<Figure size 432x288 with 1 Axes>"
      ]
     },
     "metadata": {
      "needs_background": "light"
     },
     "output_type": "display_data"
    }
   ],
   "source": [
    "plt.scatter(x='bathrooms', y='price', data=new_df)"
   ]
  },
  {
   "cell_type": "code",
   "execution_count": 87,
   "metadata": {},
   "outputs": [
    {
     "data": {
      "text/plain": [
       "<matplotlib.collections.PathCollection at 0x285ea727cf8>"
      ]
     },
     "execution_count": 87,
     "metadata": {},
     "output_type": "execute_result"
    },
    {
     "data": {
      "image/png": "[encoded data removed]",
      "text/plain": [
       "<Figure size 432x288 with 1 Axes>"
      ]
     },
     "metadata": {
      "needs_background": "light"
     },
     "output_type": "display_data"
    }
   ],
   "source": [
    "plt.scatter(x='sqft_living', y='price', data=new_df)"
   ]
  },
  {
   "cell_type": "code",
   "execution_count": 88,
   "metadata": {},
   "outputs": [
    {
     "data": {
      "text/plain": [
       "<matplotlib.collections.PathCollection at 0x285ea78b5f8>"
      ]
     },
     "execution_count": 88,
     "metadata": {},
     "output_type": "execute_result"
    },
    {
     "data": {
      "image/png": "[encoded data removed]",
      "text/plain": [
       "<Figure size 432x288 with 1 Axes>"
      ]
     },
     "metadata": {
      "needs_background": "light"
     },
     "output_type": "display_data"
    }
   ],
   "source": [
    "plt.scatter(x='sqft_lot', y='price', data=new_df)"
   ]
  },
  {
   "cell_type": "code",
   "execution_count": 89,
   "metadata": {},
   "outputs": [
    {
     "data": {
      "text/plain": [
       "<matplotlib.collections.PathCollection at 0x285ea6fcd68>"
      ]
     },
     "execution_count": 89,
     "metadata": {},
     "output_type": "execute_result"
    },
    {
     "data": {
      "image/png": "[encoded data removed]",
      "text/plain": [
       "<Figure size 432x288 with 1 Axes>"
      ]
     },
     "metadata": {
      "needs_background": "light"
     },
     "output_type": "display_data"
    }
   ],
   "source": [
    "plt.scatter(x='grade', y='price', data=new_df)"
   ]
  },
  {
   "cell_type": "code",
   "execution_count": null,
   "metadata": {},
   "outputs": [],
   "source": []
  },
  {
   "cell_type": "code",
   "execution_count": null,
   "metadata": {},
   "outputs": [],
   "source": []
  },
  {
   "cell_type": "code",
   "execution_count": null,
   "metadata": {},
   "outputs": [],
   "source": []
  },
  {
   "cell_type": "code",
   "execution_count": null,
   "metadata": {},
   "outputs": [],
   "source": []
  },
  {
   "cell_type": "code",
   "execution_count": null,
   "metadata": {},
   "outputs": [],
   "source": []
  },
  {
   "cell_type": "code",
   "execution_count": null,
   "metadata": {},
   "outputs": [],
   "source": []
  },
  {
   "cell_type": "code",
   "execution_count": null,
   "metadata": {},
   "outputs": [],
   "source": []
  }
 ],
 "metadata": {
  "kernelspec": {
   "display_name": "Python 3",
   "language": "python",
   "name": "python3"
  },
  "language_info": {
   "codemirror_mode": {
    "name": "ipython",
    "version": 3
   },
   "file_extension": ".py",
   "mimetype": "text/x-python",
   "name": "python",
   "nbconvert_exporter": "python",
   "pygments_lexer": "ipython3",
   "version": "3.6.6"
  }
 },
 "nbformat": 4,
 "nbformat_minor": 2
}
